{
  "cells": [
    {
      "cell_type": "markdown",
      "id": "present-brown",
      "metadata": {
        "id": "present-brown"
      },
      "source": [
        "# HW06: Transformers and Doc Embeddings\n",
        "\n",
        "Remember that these homework work as a completion grade. **You can skip one section of this homework.**"
      ]
    },
    {
      "cell_type": "code",
      "execution_count": null,
      "id": "irish-ending",
      "metadata": {
        "colab": {
          "base_uri": "https://localhost:8080/",
          "height": 403
        },
        "id": "irish-ending",
        "outputId": "5b9aeb9b-90f0-4642-82b1-bc90c5cef19b"
      },
      "outputs": [
        {
          "name": "stdout",
          "output_type": "stream",
          "text": [
            "--2023-04-05 07:51:11--  https://raw.githubusercontent.com/mhjabreel/CharCnn_Keras/master/data/ag_news_csv/train.csv\n",
            "Resolving raw.githubusercontent.com (raw.githubusercontent.com)... 185.199.108.133, 185.199.109.133, 185.199.110.133, ...\n",
            "Connecting to raw.githubusercontent.com (raw.githubusercontent.com)|185.199.108.133|:443... connected.\n",
            "HTTP request sent, awaiting response... 200 OK\n",
            "Length: 29470338 (28M) [text/plain]\n",
            "Saving to: ‘train.csv’\n",
            "\n",
            "train.csv           100%[===================>]  28.10M   161MB/s    in 0.2s    \n",
            "\n",
            "2023-04-05 07:51:11 (161 MB/s) - ‘train.csv’ saved [29470338/29470338]\n",
            "\n"
          ]
        },
        {
          "data": {
            "text/html": [
              "\n",
              "  <div id=\"df-bd786aed-a0c6-4be4-b490-f8ed27523f64\">\n",
              "    <div class=\"colab-df-container\">\n",
              "      <div>\n",
              "<style scoped>\n",
              "    .dataframe tbody tr th:only-of-type {\n",
              "        vertical-align: middle;\n",
              "    }\n",
              "\n",
              "    .dataframe tbody tr th {\n",
              "        vertical-align: top;\n",
              "    }\n",
              "\n",
              "    .dataframe thead th {\n",
              "        text-align: right;\n",
              "    }\n",
              "</style>\n",
              "<table border=\"1\" class=\"dataframe\">\n",
              "  <thead>\n",
              "    <tr style=\"text-align: right;\">\n",
              "      <th></th>\n",
              "      <th>label</th>\n",
              "      <th>title</th>\n",
              "      <th>lead</th>\n",
              "      <th>text</th>\n",
              "    </tr>\n",
              "  </thead>\n",
              "  <tbody>\n",
              "    <tr>\n",
              "      <th>90289</th>\n",
              "      <td>sport</td>\n",
              "      <td>Holyfield can #39;t see the end</td>\n",
              "      <td>Evander Holyfield may have finally run out of ...</td>\n",
              "      <td>Holyfield can #39;t see the end Evander Holyfi...</td>\n",
              "    </tr>\n",
              "    <tr>\n",
              "      <th>57351</th>\n",
              "      <td>sci/tech</td>\n",
              "      <td>IBM Fashions New Blades (NewsFactor)</td>\n",
              "      <td>NewsFactor - IBM (NYSE: IBM) is upgrading its ...</td>\n",
              "      <td>IBM Fashions New Blades (NewsFactor) NewsFacto...</td>\n",
              "    </tr>\n",
              "    <tr>\n",
              "      <th>74186</th>\n",
              "      <td>world</td>\n",
              "      <td>Lawmakers Back Sharon on Plan for Leaving Gaza</td>\n",
              "      <td>The vote, in an atmosphere of high drama and t...</td>\n",
              "      <td>Lawmakers Back Sharon on Plan for Leaving Gaza...</td>\n",
              "    </tr>\n",
              "    <tr>\n",
              "      <th>55112</th>\n",
              "      <td>sport</td>\n",
              "      <td>Works in Progress</td>\n",
              "      <td>U-Md.'s Joel Statham and Georgia Tech's Reggie...</td>\n",
              "      <td>Works in Progress U-Md.'s Joel Statham and Geo...</td>\n",
              "    </tr>\n",
              "    <tr>\n",
              "      <th>93914</th>\n",
              "      <td>business</td>\n",
              "      <td>US Economy: Consumer Prices, Industrial Produc...</td>\n",
              "      <td>US consumer prices rose in October, spurred by...</td>\n",
              "      <td>US Economy: Consumer Prices, Industrial Produc...</td>\n",
              "    </tr>\n",
              "  </tbody>\n",
              "</table>\n",
              "</div>\n",
              "      <button class=\"colab-df-convert\" onclick=\"convertToInteractive('df-bd786aed-a0c6-4be4-b490-f8ed27523f64')\"\n",
              "              title=\"Convert this dataframe to an interactive table.\"\n",
              "              style=\"display:none;\">\n",
              "        \n",
              "  <svg xmlns=\"http://www.w3.org/2000/svg\" height=\"24px\"viewBox=\"0 0 24 24\"\n",
              "       width=\"24px\">\n",
              "    <path d=\"M0 0h24v24H0V0z\" fill=\"none\"/>\n",
              "    <path d=\"M18.56 5.44l.94 2.06.94-2.06 2.06-.94-2.06-.94-.94-2.06-.94 2.06-2.06.94zm-11 1L8.5 8.5l.94-2.06 2.06-.94-2.06-.94L8.5 2.5l-.94 2.06-2.06.94zm10 10l.94 2.06.94-2.06 2.06-.94-2.06-.94-.94-2.06-.94 2.06-2.06.94z\"/><path d=\"M17.41 7.96l-1.37-1.37c-.4-.4-.92-.59-1.43-.59-.52 0-1.04.2-1.43.59L10.3 9.45l-7.72 7.72c-.78.78-.78 2.05 0 2.83L4 21.41c.39.39.9.59 1.41.59.51 0 1.02-.2 1.41-.59l7.78-7.78 2.81-2.81c.8-.78.8-2.07 0-2.86zM5.41 20L4 18.59l7.72-7.72 1.47 1.35L5.41 20z\"/>\n",
              "  </svg>\n",
              "      </button>\n",
              "      \n",
              "  <style>\n",
              "    .colab-df-container {\n",
              "      display:flex;\n",
              "      flex-wrap:wrap;\n",
              "      gap: 12px;\n",
              "    }\n",
              "\n",
              "    .colab-df-convert {\n",
              "      background-color: #E8F0FE;\n",
              "      border: none;\n",
              "      border-radius: 50%;\n",
              "      cursor: pointer;\n",
              "      display: none;\n",
              "      fill: #1967D2;\n",
              "      height: 32px;\n",
              "      padding: 0 0 0 0;\n",
              "      width: 32px;\n",
              "    }\n",
              "\n",
              "    .colab-df-convert:hover {\n",
              "      background-color: #E2EBFA;\n",
              "      box-shadow: 0px 1px 2px rgba(60, 64, 67, 0.3), 0px 1px 3px 1px rgba(60, 64, 67, 0.15);\n",
              "      fill: #174EA6;\n",
              "    }\n",
              "\n",
              "    [theme=dark] .colab-df-convert {\n",
              "      background-color: #3B4455;\n",
              "      fill: #D2E3FC;\n",
              "    }\n",
              "\n",
              "    [theme=dark] .colab-df-convert:hover {\n",
              "      background-color: #434B5C;\n",
              "      box-shadow: 0px 1px 3px 1px rgba(0, 0, 0, 0.15);\n",
              "      filter: drop-shadow(0px 1px 2px rgba(0, 0, 0, 0.3));\n",
              "      fill: #FFFFFF;\n",
              "    }\n",
              "  </style>\n",
              "\n",
              "      <script>\n",
              "        const buttonEl =\n",
              "          document.querySelector('#df-bd786aed-a0c6-4be4-b490-f8ed27523f64 button.colab-df-convert');\n",
              "        buttonEl.style.display =\n",
              "          google.colab.kernel.accessAllowed ? 'block' : 'none';\n",
              "\n",
              "        async function convertToInteractive(key) {\n",
              "          const element = document.querySelector('#df-bd786aed-a0c6-4be4-b490-f8ed27523f64');\n",
              "          const dataTable =\n",
              "            await google.colab.kernel.invokeFunction('convertToInteractive',\n",
              "                                                     [key], {});\n",
              "          if (!dataTable) return;\n",
              "\n",
              "          const docLinkHtml = 'Like what you see? Visit the ' +\n",
              "            '<a target=\"_blank\" href=https://colab.research.google.com/notebooks/data_table.ipynb>data table notebook</a>'\n",
              "            + ' to learn more about interactive tables.';\n",
              "          element.innerHTML = '';\n",
              "          dataTable['output_type'] = 'display_data';\n",
              "          await google.colab.output.renderOutput(dataTable, element);\n",
              "          const docLink = document.createElement('div');\n",
              "          docLink.innerHTML = docLinkHtml;\n",
              "          element.appendChild(docLink);\n",
              "        }\n",
              "      </script>\n",
              "    </div>\n",
              "  </div>\n",
              "  "
            ],
            "text/plain": [
              "          label                                              title  \\\n",
              "90289     sport                    Holyfield can #39;t see the end   \n",
              "57351  sci/tech               IBM Fashions New Blades (NewsFactor)   \n",
              "74186     world     Lawmakers Back Sharon on Plan for Leaving Gaza   \n",
              "55112     sport                                  Works in Progress   \n",
              "93914  business  US Economy: Consumer Prices, Industrial Produc...   \n",
              "\n",
              "                                                    lead  \\\n",
              "90289  Evander Holyfield may have finally run out of ...   \n",
              "57351  NewsFactor - IBM (NYSE: IBM) is upgrading its ...   \n",
              "74186  The vote, in an atmosphere of high drama and t...   \n",
              "55112  U-Md.'s Joel Statham and Georgia Tech's Reggie...   \n",
              "93914  US consumer prices rose in October, spurred by...   \n",
              "\n",
              "                                                    text  \n",
              "90289  Holyfield can #39;t see the end Evander Holyfi...  \n",
              "57351  IBM Fashions New Blades (NewsFactor) NewsFacto...  \n",
              "74186  Lawmakers Back Sharon on Plan for Leaving Gaza...  \n",
              "55112  Works in Progress U-Md.'s Joel Statham and Geo...  \n",
              "93914  US Economy: Consumer Prices, Industrial Produc...  "
            ]
          },
          "execution_count": 1,
          "metadata": {},
          "output_type": "execute_result"
        }
      ],
      "source": [
        "!wget https://raw.githubusercontent.com/mhjabreel/CharCnn_Keras/master/data/ag_news_csv/train.csv\n",
        "\n",
        "import pandas as pd\n",
        "import nltk\n",
        "df = pd.read_csv('train.csv')\n",
        "\n",
        "df.columns = [\"label\", \"title\", \"lead\"]\n",
        "label_map = {1:\"world\", 2:\"sport\", 3:\"business\", 4:\"sci/tech\"}\n",
        "def replace_label(x):\n",
        "\treturn label_map[x]\n",
        "df[\"label\"] = df[\"label\"].apply(replace_label) \n",
        "df[\"text\"] = df[\"title\"] + \" \" + df[\"lead\"]\n",
        "df = df.sample(n=10000) # # only use 10K datapoints\n",
        "df.head()"
      ]
    },
    {
      "cell_type": "markdown",
      "id": "regulated-klein",
      "metadata": {
        "id": "regulated-klein"
      },
      "source": [
        "## Hugginface Transformers"
      ]
    },
    {
      "cell_type": "code",
      "execution_count": null,
      "id": "reasonable-graph",
      "metadata": {
        "id": "reasonable-graph"
      },
      "outputs": [],
      "source": [
        "!pip install transformers\n",
        "from transformers import DistilBertForSequenceClassification, DistilBertConfig, DistilBertTokenizerFast\n",
        "import torch"
      ]
    },
    {
      "cell_type": "code",
      "execution_count": null,
      "id": "ACF4bjkham9e",
      "metadata": {
        "colab": {
          "base_uri": "https://localhost:8080/"
        },
        "id": "ACF4bjkham9e",
        "outputId": "885847fd-e3d5-4b4c-d316-2115061d4869"
      },
      "outputs": [
        {
          "name": "stdout",
          "output_type": "stream",
          "text": [
            "cuda\n"
          ]
        }
      ],
      "source": [
        "device = torch.device('cuda' if torch.cuda.is_available() else 'cpu')\n",
        "print (device)"
      ]
    },
    {
      "cell_type": "code",
      "execution_count": null,
      "id": "confident-village",
      "metadata": {
        "id": "confident-village"
      },
      "outputs": [],
      "source": [
        "##TODO build a transformer model to do sequence classification with the goal to predict the label from the text\n",
        "model_name = 'distilbert-base-uncased' # huggingface model_ID or path to folder \n",
        "model = DistilBertForSequenceClassification.from_pretrained('distilbert-base-uncased', num_labels=4)\n"
      ]
    },
    {
      "cell_type": "code",
      "execution_count": null,
      "id": "psychological-object",
      "metadata": {
        "colab": {
          "base_uri": "https://localhost:8080/"
        },
        "id": "psychological-object",
        "outputId": "512056ce-7c74-45b8-b3e2-eea0861e1eb6"
      },
      "outputs": [
        {
          "name": "stdout",
          "output_type": "stream",
          "text": [
            "DistilBertForSequenceClassification(\n",
            "  (distilbert): DistilBertModel(\n",
            "    (embeddings): Embeddings(\n",
            "      (word_embeddings): Embedding(30522, 768, padding_idx=0)\n",
            "      (position_embeddings): Embedding(512, 768)\n",
            "      (LayerNorm): LayerNorm((768,), eps=1e-12, elementwise_affine=True)\n",
            "      (dropout): Dropout(p=0.1, inplace=False)\n",
            "    )\n",
            "    (transformer): Transformer(\n",
            "      (layer): ModuleList(\n",
            "        (0-5): 6 x TransformerBlock(\n",
            "          (attention): MultiHeadSelfAttention(\n",
            "            (dropout): Dropout(p=0.1, inplace=False)\n",
            "            (q_lin): Linear(in_features=768, out_features=768, bias=True)\n",
            "            (k_lin): Linear(in_features=768, out_features=768, bias=True)\n",
            "            (v_lin): Linear(in_features=768, out_features=768, bias=True)\n",
            "            (out_lin): Linear(in_features=768, out_features=768, bias=True)\n",
            "          )\n",
            "          (sa_layer_norm): LayerNorm((768,), eps=1e-12, elementwise_affine=True)\n",
            "          (ffn): FFN(\n",
            "            (dropout): Dropout(p=0.1, inplace=False)\n",
            "            (lin1): Linear(in_features=768, out_features=3072, bias=True)\n",
            "            (lin2): Linear(in_features=3072, out_features=768, bias=True)\n",
            "            (activation): GELUActivation()\n",
            "          )\n",
            "          (output_layer_norm): LayerNorm((768,), eps=1e-12, elementwise_affine=True)\n",
            "        )\n",
            "      )\n",
            "    )\n",
            "  )\n",
            "  (pre_classifier): Linear(in_features=768, out_features=768, bias=True)\n",
            "  (classifier): Linear(in_features=768, out_features=4, bias=True)\n",
            "  (dropout): Dropout(p=0.2, inplace=False)\n",
            ")\n"
          ]
        }
      ],
      "source": [
        "##TODO print the summary of the model\n",
        "print(model)"
      ]
    },
    {
      "cell_type": "code",
      "execution_count": null,
      "id": "f35b0eMRf49M",
      "metadata": {
        "colab": {
          "base_uri": "https://localhost:8080/",
          "height": 206
        },
        "id": "f35b0eMRf49M",
        "outputId": "6f3d5a6a-5bd0-46ad-ab84-3f1b48c2a0a3"
      },
      "outputs": [
        {
          "data": {
            "text/html": [
              "\n",
              "  <div id=\"df-a6c8af53-a493-49a0-ad4d-9d58c29c78a5\">\n",
              "    <div class=\"colab-df-container\">\n",
              "      <div>\n",
              "<style scoped>\n",
              "    .dataframe tbody tr th:only-of-type {\n",
              "        vertical-align: middle;\n",
              "    }\n",
              "\n",
              "    .dataframe tbody tr th {\n",
              "        vertical-align: top;\n",
              "    }\n",
              "\n",
              "    .dataframe thead th {\n",
              "        text-align: right;\n",
              "    }\n",
              "</style>\n",
              "<table border=\"1\" class=\"dataframe\">\n",
              "  <thead>\n",
              "    <tr style=\"text-align: right;\">\n",
              "      <th></th>\n",
              "      <th>label</th>\n",
              "      <th>title</th>\n",
              "      <th>lead</th>\n",
              "      <th>text</th>\n",
              "      <th>label_int</th>\n",
              "    </tr>\n",
              "  </thead>\n",
              "  <tbody>\n",
              "    <tr>\n",
              "      <th>90289</th>\n",
              "      <td>sport</td>\n",
              "      <td>Holyfield can #39;t see the end</td>\n",
              "      <td>Evander Holyfield may have finally run out of ...</td>\n",
              "      <td>Holyfield can #39;t see the end Evander Holyfi...</td>\n",
              "      <td>0</td>\n",
              "    </tr>\n",
              "    <tr>\n",
              "      <th>57351</th>\n",
              "      <td>sci/tech</td>\n",
              "      <td>IBM Fashions New Blades (NewsFactor)</td>\n",
              "      <td>NewsFactor - IBM (NYSE: IBM) is upgrading its ...</td>\n",
              "      <td>IBM Fashions New Blades (NewsFactor) NewsFacto...</td>\n",
              "      <td>1</td>\n",
              "    </tr>\n",
              "    <tr>\n",
              "      <th>74186</th>\n",
              "      <td>world</td>\n",
              "      <td>Lawmakers Back Sharon on Plan for Leaving Gaza</td>\n",
              "      <td>The vote, in an atmosphere of high drama and t...</td>\n",
              "      <td>Lawmakers Back Sharon on Plan for Leaving Gaza...</td>\n",
              "      <td>2</td>\n",
              "    </tr>\n",
              "    <tr>\n",
              "      <th>55112</th>\n",
              "      <td>sport</td>\n",
              "      <td>Works in Progress</td>\n",
              "      <td>U-Md.'s Joel Statham and Georgia Tech's Reggie...</td>\n",
              "      <td>Works in Progress U-Md.'s Joel Statham and Geo...</td>\n",
              "      <td>0</td>\n",
              "    </tr>\n",
              "    <tr>\n",
              "      <th>93914</th>\n",
              "      <td>business</td>\n",
              "      <td>US Economy: Consumer Prices, Industrial Produc...</td>\n",
              "      <td>US consumer prices rose in October, spurred by...</td>\n",
              "      <td>US Economy: Consumer Prices, Industrial Produc...</td>\n",
              "      <td>3</td>\n",
              "    </tr>\n",
              "  </tbody>\n",
              "</table>\n",
              "</div>\n",
              "      <button class=\"colab-df-convert\" onclick=\"convertToInteractive('df-a6c8af53-a493-49a0-ad4d-9d58c29c78a5')\"\n",
              "              title=\"Convert this dataframe to an interactive table.\"\n",
              "              style=\"display:none;\">\n",
              "        \n",
              "  <svg xmlns=\"http://www.w3.org/2000/svg\" height=\"24px\"viewBox=\"0 0 24 24\"\n",
              "       width=\"24px\">\n",
              "    <path d=\"M0 0h24v24H0V0z\" fill=\"none\"/>\n",
              "    <path d=\"M18.56 5.44l.94 2.06.94-2.06 2.06-.94-2.06-.94-.94-2.06-.94 2.06-2.06.94zm-11 1L8.5 8.5l.94-2.06 2.06-.94-2.06-.94L8.5 2.5l-.94 2.06-2.06.94zm10 10l.94 2.06.94-2.06 2.06-.94-2.06-.94-.94-2.06-.94 2.06-2.06.94z\"/><path d=\"M17.41 7.96l-1.37-1.37c-.4-.4-.92-.59-1.43-.59-.52 0-1.04.2-1.43.59L10.3 9.45l-7.72 7.72c-.78.78-.78 2.05 0 2.83L4 21.41c.39.39.9.59 1.41.59.51 0 1.02-.2 1.41-.59l7.78-7.78 2.81-2.81c.8-.78.8-2.07 0-2.86zM5.41 20L4 18.59l7.72-7.72 1.47 1.35L5.41 20z\"/>\n",
              "  </svg>\n",
              "      </button>\n",
              "      \n",
              "  <style>\n",
              "    .colab-df-container {\n",
              "      display:flex;\n",
              "      flex-wrap:wrap;\n",
              "      gap: 12px;\n",
              "    }\n",
              "\n",
              "    .colab-df-convert {\n",
              "      background-color: #E8F0FE;\n",
              "      border: none;\n",
              "      border-radius: 50%;\n",
              "      cursor: pointer;\n",
              "      display: none;\n",
              "      fill: #1967D2;\n",
              "      height: 32px;\n",
              "      padding: 0 0 0 0;\n",
              "      width: 32px;\n",
              "    }\n",
              "\n",
              "    .colab-df-convert:hover {\n",
              "      background-color: #E2EBFA;\n",
              "      box-shadow: 0px 1px 2px rgba(60, 64, 67, 0.3), 0px 1px 3px 1px rgba(60, 64, 67, 0.15);\n",
              "      fill: #174EA6;\n",
              "    }\n",
              "\n",
              "    [theme=dark] .colab-df-convert {\n",
              "      background-color: #3B4455;\n",
              "      fill: #D2E3FC;\n",
              "    }\n",
              "\n",
              "    [theme=dark] .colab-df-convert:hover {\n",
              "      background-color: #434B5C;\n",
              "      box-shadow: 0px 1px 3px 1px rgba(0, 0, 0, 0.15);\n",
              "      filter: drop-shadow(0px 1px 2px rgba(0, 0, 0, 0.3));\n",
              "      fill: #FFFFFF;\n",
              "    }\n",
              "  </style>\n",
              "\n",
              "      <script>\n",
              "        const buttonEl =\n",
              "          document.querySelector('#df-a6c8af53-a493-49a0-ad4d-9d58c29c78a5 button.colab-df-convert');\n",
              "        buttonEl.style.display =\n",
              "          google.colab.kernel.accessAllowed ? 'block' : 'none';\n",
              "\n",
              "        async function convertToInteractive(key) {\n",
              "          const element = document.querySelector('#df-a6c8af53-a493-49a0-ad4d-9d58c29c78a5');\n",
              "          const dataTable =\n",
              "            await google.colab.kernel.invokeFunction('convertToInteractive',\n",
              "                                                     [key], {});\n",
              "          if (!dataTable) return;\n",
              "\n",
              "          const docLinkHtml = 'Like what you see? Visit the ' +\n",
              "            '<a target=\"_blank\" href=https://colab.research.google.com/notebooks/data_table.ipynb>data table notebook</a>'\n",
              "            + ' to learn more about interactive tables.';\n",
              "          element.innerHTML = '';\n",
              "          dataTable['output_type'] = 'display_data';\n",
              "          await google.colab.output.renderOutput(dataTable, element);\n",
              "          const docLink = document.createElement('div');\n",
              "          docLink.innerHTML = docLinkHtml;\n",
              "          element.appendChild(docLink);\n",
              "        }\n",
              "      </script>\n",
              "    </div>\n",
              "  </div>\n",
              "  "
            ],
            "text/plain": [
              "          label                                              title  \\\n",
              "90289     sport                    Holyfield can #39;t see the end   \n",
              "57351  sci/tech               IBM Fashions New Blades (NewsFactor)   \n",
              "74186     world     Lawmakers Back Sharon on Plan for Leaving Gaza   \n",
              "55112     sport                                  Works in Progress   \n",
              "93914  business  US Economy: Consumer Prices, Industrial Produc...   \n",
              "\n",
              "                                                    lead  \\\n",
              "90289  Evander Holyfield may have finally run out of ...   \n",
              "57351  NewsFactor - IBM (NYSE: IBM) is upgrading its ...   \n",
              "74186  The vote, in an atmosphere of high drama and t...   \n",
              "55112  U-Md.'s Joel Statham and Georgia Tech's Reggie...   \n",
              "93914  US consumer prices rose in October, spurred by...   \n",
              "\n",
              "                                                    text  label_int  \n",
              "90289  Holyfield can #39;t see the end Evander Holyfi...          0  \n",
              "57351  IBM Fashions New Blades (NewsFactor) NewsFacto...          1  \n",
              "74186  Lawmakers Back Sharon on Plan for Leaving Gaza...          2  \n",
              "55112  Works in Progress U-Md.'s Joel Statham and Geo...          0  \n",
              "93914  US Economy: Consumer Prices, Industrial Produc...          3  "
            ]
          },
          "execution_count": 23,
          "metadata": {},
          "output_type": "execute_result"
        }
      ],
      "source": [
        "##TODO prepare the dataset for torch.\n",
        "## transform labels\n",
        "cat_to_int = {cat: i for i, cat in enumerate(df['label'].unique())}\n",
        "df['label_int'] = df['label'].map(cat_to_int)\n",
        "df.head()"
      ]
    },
    {
      "cell_type": "code",
      "execution_count": null,
      "id": "statistical-recommendation",
      "metadata": {
        "colab": {
          "base_uri": "https://localhost:8080/"
        },
        "id": "statistical-recommendation",
        "outputId": "5df8ad76-8036-42e2-8592-a1462f6bddd9"
      },
      "outputs": [
        {
          "name": "stdout",
          "output_type": "stream",
          "text": [
            "tensor([0, 1, 2,  ..., 1, 3, 2])\n"
          ]
        }
      ],
      "source": [
        "##TODO prepare the dataset for torch.\n",
        "tokenizer = DistilBertTokenizerFast.from_pretrained(model_name)\n",
        "\n",
        "inputs = tokenizer(df['text'].tolist(), return_tensors=\"pt\", padding=True, truncation=True)\n",
        "labels = torch.tensor(df['label_int'].tolist()).long() \n",
        "#print(inputs, labels)\n"
      ]
    },
    {
      "cell_type": "code",
      "execution_count": null,
      "id": "2StSU7img-sc",
      "metadata": {
        "colab": {
          "base_uri": "https://localhost:8080/"
        },
        "id": "2StSU7img-sc",
        "outputId": "6a8d576a-6ff5-4c4a-883a-ee0382580ef1"
      },
      "outputs": [
        {
          "name": "stdout",
          "output_type": "stream",
          "text": [
            "[0 1 2 3] [2456 2546 2513 2485]\n"
          ]
        },
        {
          "name": "stderr",
          "output_type": "stream",
          "text": [
            "Some weights of the model checkpoint at distilbert-base-uncased were not used when initializing DistilBertForSequenceClassification: ['vocab_layer_norm.bias', 'vocab_transform.weight', 'vocab_projector.bias', 'vocab_projector.weight', 'vocab_transform.bias', 'vocab_layer_norm.weight']\n",
            "- This IS expected if you are initializing DistilBertForSequenceClassification from the checkpoint of a model trained on another task or with another architecture (e.g. initializing a BertForSequenceClassification model from a BertForPreTraining model).\n",
            "- This IS NOT expected if you are initializing DistilBertForSequenceClassification from the checkpoint of a model that you expect to be exactly identical (initializing a BertForSequenceClassification model from a BertForSequenceClassification model).\n",
            "Some weights of DistilBertForSequenceClassification were not initialized from the model checkpoint at distilbert-base-uncased and are newly initialized: ['classifier.weight', 'classifier.bias', 'pre_classifier.weight', 'pre_classifier.bias']\n",
            "You should probably TRAIN this model on a down-stream task to be able to use it for predictions and inference.\n"
          ]
        }
      ],
      "source": [
        "import numpy as np\n",
        "unique_labels, counts = np.unique(df[\"label_int\"], return_counts=True)\n",
        "print (unique_labels, counts)\n",
        "model = DistilBertForSequenceClassification.from_pretrained('distilbert-base-uncased', num_labels=len(unique_labels))\n",
        "\n",
        "optimizer = torch.optim.Adam([\n",
        "    {'params': model.distilbert.parameters(), 'lr': 1e-5},  \n",
        "    {'params': model.classifier.parameters(), 'lr': 1e-3}\n",
        "])"
      ]
    },
    {
      "cell_type": "code",
      "execution_count": null,
      "id": "J4y8mmX9bloZ",
      "metadata": {
        "id": "J4y8mmX9bloZ"
      },
      "outputs": [],
      "source": [
        "##TODO split the sample into a training and a test set \n",
        "from sklearn.model_selection import train_test_split\n",
        "\n",
        "X_train, X_test, y_train, y_test = train_test_split(df['text'].tolist(), df['label_int'].tolist(), test_size=.2, stratify=df['label_int'])\n",
        "\n",
        "# generate batches\n",
        "batch_size = 8\n",
        "\n",
        "# calculate the number of batches based on the batch size\n",
        "num_train_batches = len(X_train) // batch_size\n",
        "num_test_batches = len(X_test) // batch_size\n",
        "\n",
        "# trim the data to fit the batch size\n",
        "X_train = X_train[:num_train_batches * batch_size]\n",
        "X_test = X_test[:num_test_batches * batch_size]\n",
        "y_train = y_train[:num_train_batches * batch_size]\n",
        "y_test = y_test[:num_test_batches * batch_size]\n",
        "\n",
        "# convert the lists to numpy arrays\n",
        "X_train = np.array(X_train)\n",
        "X_test = np.array(X_test)\n",
        "y_train = np.array(y_train)\n",
        "y_test = np.array(y_test)\n",
        "\n",
        "# reshape the data into batches\n",
        "X_train = X_train.reshape(-1, batch_size)\n",
        "X_test = X_test.reshape(-1, batch_size)\n",
        "y_train = y_train.reshape(-1, batch_size)\n",
        "y_test = y_test.reshape(-1, batch_size)\n",
        "\n",
        "X_train, X_test = X_train.tolist(), X_test.tolist()"
      ]
    },
    {
      "cell_type": "code",
      "execution_count": null,
      "id": "piano-compound",
      "metadata": {
        "colab": {
          "base_uri": "https://localhost:8080/"
        },
        "id": "piano-compound",
        "outputId": "03af565e-0d7e-427e-8314-7fbf71b4918f"
      },
      "outputs": [
        {
          "name": "stderr",
          "output_type": "stream",
          "text": [
            "100%|██████████| 1000/1000 [04:22<00:00,  3.80it/s]\n"
          ]
        }
      ],
      "source": [
        "##TODO fit the model and print the obtained accuracy (hint: you can follow the training steps in the notebook. To learn more, checkout the trainer class of huggingface transformers)\n",
        "\n",
        "# train\n",
        "from tqdm import tqdm\n",
        "\n",
        "model.to(device)\n",
        "num_epochs = 1\n",
        "for epoch in range(num_epochs):\n",
        "    model.train()\n",
        "    for text, labels in tqdm(zip(X_train, y_train), total=len(X_train)):\n",
        "        # prepare model input through our tokenizer\n",
        "        model_inputs = tokenizer(text, return_tensors=\"pt\", padding=True, truncation=True, max_length=256)\n",
        "        # place everything on the right device\n",
        "        model_inputs = {k:v.to(device) for k,v in model_inputs.items()}\n",
        "        # labels have to be torch long tensors\n",
        "        labels = torch.tensor(labels).long().to(device)\n",
        "        # now, we can perform the forward pass\n",
        "        output = model(**model_inputs, labels=labels)\n",
        "        loss, logits = output[:2]\n",
        "        # and the backward pass\n",
        "        loss.backward()\n",
        "        optimizer.step()\n",
        "        optimizer.zero_grad()\n",
        "\n"
      ]
    },
    {
      "cell_type": "code",
      "execution_count": null,
      "id": "ectMsFHdrTOX",
      "metadata": {
        "colab": {
          "base_uri": "https://localhost:8080/"
        },
        "id": "ectMsFHdrTOX",
        "outputId": "4c517850-07b0-4302-f9d3-b7941d41e3e5"
      },
      "outputs": [
        {
          "name": "stderr",
          "output_type": "stream",
          "text": [
            "100%|██████████| 250/250 [00:21<00:00, 11.88it/s]"
          ]
        },
        {
          "name": "stdout",
          "output_type": "stream",
          "text": [
            "accuracy 0.908\n",
            "              precision    recall  f1-score   support\n",
            "\n",
            "           0       0.95      0.98      0.97       491\n",
            "           1       0.88      0.91      0.89       509\n",
            "           2       0.90      0.91      0.91       503\n",
            "           3       0.90      0.83      0.87       497\n",
            "\n",
            "    accuracy                           0.91      2000\n",
            "   macro avg       0.91      0.91      0.91      2000\n",
            "weighted avg       0.91      0.91      0.91      2000\n",
            "\n"
          ]
        },
        {
          "name": "stderr",
          "output_type": "stream",
          "text": [
            "\n"
          ]
        }
      ],
      "source": [
        "predictions, targets = [], []\n",
        "model.eval()\n",
        "\n",
        "with torch.no_grad():\n",
        "    for text, labels in tqdm(zip(X_test, y_test), total=len(X_test)):\n",
        "        model_inputs = tokenizer(text, return_tensors=\"pt\", padding=True, truncation=True)\n",
        "        model_inputs = {k:v.to(device) for k,v in model_inputs.items()}\n",
        "\n",
        "        output = model(**model_inputs)\n",
        "        logits = output[0]\n",
        "        # prediction is the argmax of the logits\n",
        "        predictions.extend(logits.argmax(dim=1).tolist())\n",
        "        targets.extend(labels)\n",
        "        \n",
        "from sklearn import metrics\n",
        "accuracy = metrics.accuracy_score(targets, predictions)\n",
        "print (\"accuracy\", accuracy)\n",
        "classification_report = metrics.classification_report(targets, predictions)\n",
        "print (classification_report)"
      ]
    },
    {
      "cell_type": "markdown",
      "id": "e7fe3a17",
      "metadata": {
        "id": "e7fe3a17"
      },
      "source": [
        "# Doc Embedding"
      ]
    },
    {
      "cell_type": "code",
      "execution_count": null,
      "id": "3b41f71c",
      "metadata": {
        "id": "3b41f71c"
      },
      "outputs": [],
      "source": [
        "# obtain the data\n",
        "!wget http://alt.qcri.org/semeval2017/task1/data/uploads/sts2017.eval.v1.1.zip\n",
        "!wget http://alt.qcri.org/semeval2017/task1/data/uploads/sts2017.gs.zip\n",
        "\n",
        "!unzip sts2017.eval.v1.1.zip \n",
        "!unzip sts2017.gs.zip "
      ]
    },
    {
      "cell_type": "code",
      "execution_count": null,
      "id": "d48a11ab",
      "metadata": {
        "colab": {
          "base_uri": "https://localhost:8080/"
        },
        "id": "d48a11ab",
        "outputId": "9b2b19e2-72e2-4648-a3ca-c3972c82a693"
      },
      "outputs": [
        {
          "data": {
            "text/plain": [
              "('A person is on a baseball team.',\n",
              " 'A person is playing basketball on a team.',\n",
              " 2.4)"
            ]
          },
          "execution_count": 43,
          "metadata": {},
          "output_type": "execute_result"
        }
      ],
      "source": [
        "# load the data\n",
        "def load_STS_data():\n",
        "    with open(\"STS2017.gs/STS.gs.track5.en-en.txt\") as f:\n",
        "        labels = [float(line.strip()) for line in f]\n",
        "    \n",
        "    text_a, text_b = [], []\n",
        "    with open(\"STS2017.eval.v1.1/STS.input.track5.en-en.txt\") as f:\n",
        "        for line in f:\n",
        "            line = line.strip().split(\"\\t\")\n",
        "            text_a.append(line[0])\n",
        "            text_b.append(line[1])\n",
        "    return text_a, text_b, labels\n",
        "\n",
        "text_a, text_b, labels = load_STS_data()\n",
        "text_a[0], text_b[0], labels[0]"
      ]
    },
    {
      "cell_type": "code",
      "execution_count": null,
      "id": "dee8bcb4",
      "metadata": {
        "id": "dee8bcb4"
      },
      "outputs": [],
      "source": [
        "# some utils\n",
        "from scipy.stats import spearmanr\n",
        "def evaluate(predictions, labels):\n",
        "    print (\"spearman's rank correlation\", spearmanr(predictions, labels)[0])\n",
        "\n",
        "import numpy as np\n",
        "from numpy import dot\n",
        "from numpy.linalg import norm\n",
        "\n",
        "def cosine_similarity(a,b):\n",
        "    return dot(a, b)/(norm(a)*norm(b))\n"
      ]
    },
    {
      "cell_type": "code",
      "execution_count": null,
      "id": "46f02f97",
      "metadata": {
        "colab": {
          "base_uri": "https://localhost:8080/"
        },
        "id": "46f02f97",
        "outputId": "f0505c90-5bc3-4248-9747-3b209b95308f"
      },
      "outputs": [
        {
          "name": "stdout",
          "output_type": "stream",
          "text": [
            "spearman's rank correlation 0.6998056665685976\n"
          ]
        }
      ],
      "source": [
        "# Wordcounts baseline\n",
        "from sklearn.feature_extraction.text import CountVectorizer\n",
        "vec = CountVectorizer()\n",
        "vec.fit(text_a + text_b)\n",
        "\n",
        "# encode documents\n",
        "text_a_encoded = np.array(vec.transform(text_a).todense())\n",
        "text_b_encoded = np.array(vec.transform(text_b).todense())\n",
        "\n",
        "# predict cosine similarities\n",
        "predictions = [cosine_similarity(a,b) for a,b in zip(text_a_encoded, text_b_encoded)]\n",
        "\n",
        "# evaluate\n",
        "evaluate(predictions, labels)"
      ]
    },
    {
      "cell_type": "code",
      "execution_count": null,
      "id": "965242a5",
      "metadata": {
        "colab": {
          "base_uri": "https://localhost:8080/"
        },
        "id": "965242a5",
        "outputId": "a0d74937-5499-4ee7-e8d7-28ca07837d83"
      },
      "outputs": [
        {
          "name": "stderr",
          "output_type": "stream",
          "text": [
            "[nltk_data] Downloading package punkt to /root/nltk_data...\n",
            "[nltk_data]   Package punkt is already up-to-date!\n"
          ]
        }
      ],
      "source": [
        "##TODO train Doc2Vec on the texts in the dataset \n",
        "import nltk\n",
        "nltk.download('punkt')\n",
        "from nltk import word_tokenize\n",
        "from gensim.models.doc2vec import Doc2Vec, TaggedDocument\n",
        "from random import shuffle\n",
        "\n",
        "texts = text_a + text_b\n",
        "\n",
        "# tokenize\n",
        "docs_a = []\n",
        "for text in text_a:\n",
        "    docs_a += [word_tokenize(text)]\n",
        "docs_b = []\n",
        "for text in text_b:\n",
        "    docs_b += [word_tokenize(text)]"
      ]
    },
    {
      "cell_type": "code",
      "execution_count": null,
      "id": "2PkwHOLd2mpZ",
      "metadata": {
        "colab": {
          "base_uri": "https://localhost:8080/"
        },
        "id": "2PkwHOLd2mpZ",
        "outputId": "975ac178-963d-4990-ce79-6c96972d4f7e"
      },
      "outputs": [
        {
          "data": {
            "text/plain": [
              "((250, 100), (250, 100))"
            ]
          },
          "execution_count": 126,
          "metadata": {},
          "output_type": "execute_result"
        }
      ],
      "source": [
        "# Doc2Vec (a)\n",
        "doc_iterator_a = [TaggedDocument(doc, [i]) for i, doc in enumerate(docs_a)]\n",
        "d2v_a = Doc2Vec(doc_iterator_a,\n",
        "                min_count=10, # minimum word count\n",
        "                window=10,    # window size\n",
        "                vector_size=100, # size of document vector\n",
        "                sample=1e-4, \n",
        "                negative=5, \n",
        "                workers=4, # threads\n",
        "                max_vocab_size=1000) # max vocab size\n",
        "\n",
        "doc_iterator_b = [TaggedDocument(doc, [i]) for i, doc in enumerate(docs_b)]\n",
        "d2v_b = Doc2Vec(doc_iterator_b,\n",
        "                min_count=10, # minimum word count\n",
        "                window=10,    # window size\n",
        "                vector_size=100, # size of document vector\n",
        "                sample=1e-4, \n",
        "                negative=5, \n",
        "                workers=4, # threads\n",
        "                max_vocab_size=1000) # max vocab size              \n",
        "\n",
        "# matrix of all document vectors:\n",
        "D_a = d2v_a.dv.vectors\n",
        "D_b = d2v_b.dv.vectors\n",
        "D_a.shape, D_b.shape "
      ]
    },
    {
      "cell_type": "code",
      "execution_count": null,
      "id": "_wb-qNSDwcih",
      "metadata": {
        "colab": {
          "base_uri": "https://localhost:8080/"
        },
        "id": "_wb-qNSDwcih",
        "outputId": "15d2131a-de17-4183-96bd-55f342a9c999"
      },
      "outputs": [
        {
          "name": "stdout",
          "output_type": "stream",
          "text": [
            "0.0033083113\n"
          ]
        }
      ],
      "source": [
        "##TODO derive the word vectors for each text in the dataset \n",
        "vectors_a = [d2v_a.infer_vector(text_a)]\n",
        "vectors_b = [d2v_b.infer_vector(text_b)]\n",
        "\n",
        "##TODO compute cosine similarity between the text pairs and evaluate spearman's rank correlation\n",
        "similarity_matrix = cosine_similarity(vectors_a[0], vectors_b[0])\n",
        "print(similarity_matrix)\n",
        "\n",
        "\n",
        "## Don't worry if results are not satisfactory using Doc2Vec (the dataset is too small to train good embeddings)"
      ]
    },
    {
      "cell_type": "code",
      "execution_count": null,
      "id": "e67b67c8",
      "metadata": {
        "id": "e67b67c8"
      },
      "outputs": [],
      "source": [
        "##TODO do the same with embeddings provided by spaCy"
      ]
    },
    {
      "cell_type": "code",
      "execution_count": null,
      "id": "2cf40ced",
      "metadata": {
        "id": "2cf40ced"
      },
      "outputs": [],
      "source": [
        "##TODO do the same with SBERT embeddings"
      ]
    }
  ],
  "metadata": {
    "accelerator": "GPU",
    "colab": {
      "provenance": []
    },
    "gpuClass": "standard",
    "kernelspec": {
      "display_name": "Python 3 (ipykernel)",
      "language": "python",
      "name": "python3"
    },
    "language_info": {
      "codemirror_mode": {
        "name": "ipython",
        "version": 3
      },
      "file_extension": ".py",
      "mimetype": "text/x-python",
      "name": "python",
      "nbconvert_exporter": "python",
      "pygments_lexer": "ipython3",
      "version": "3.11.2"
    },
    "toc": {
      "base_numbering": 1,
      "nav_menu": {},
      "number_sections": true,
      "sideBar": true,
      "skip_h1_title": false,
      "title_cell": "Table of Contents",
      "title_sidebar": "Contents",
      "toc_cell": false,
      "toc_position": {},
      "toc_section_display": true,
      "toc_window_display": false
    }
  },
  "nbformat": 4,
  "nbformat_minor": 5
}