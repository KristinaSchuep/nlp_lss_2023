{
  "cells": [
    {
      "cell_type": "markdown",
      "id": "4uqIDL5TELq2",
      "metadata": {
        "id": "4uqIDL5TELq2"
      },
      "source": [
        "# HW03: Distance and Topic Model"
      ]
    },
    {
      "cell_type": "markdown",
      "id": "BROoam_wELq3",
      "metadata": {
        "id": "BROoam_wELq3"
      },
      "source": [
        "Remember that these homework work as a completion grade. **You can skip one section without losing credit.**"
      ]
    },
    {
      "cell_type": "markdown",
      "id": "pwac0WPhELq3",
      "metadata": {
        "id": "pwac0WPhELq3"
      },
      "source": [
        "## Load and Pre-process Text"
      ]
    },
    {
      "cell_type": "code",
      "execution_count": 270,
      "id": "bmcziBH4ELq3",
      "metadata": {
        "colab": {
          "base_uri": "https://localhost:8080/",
          "height": 206
        },
        "id": "bmcziBH4ELq3",
        "outputId": "d6946aed-5b6a-434e-c745-eb2c2067c4d9"
      },
      "outputs": [
        {
          "data": {
            "text/html": [
              "<div>\n",
              "<style scoped>\n",
              "    .dataframe tbody tr th:only-of-type {\n",
              "        vertical-align: middle;\n",
              "    }\n",
              "\n",
              "    .dataframe tbody tr th {\n",
              "        vertical-align: top;\n",
              "    }\n",
              "\n",
              "    .dataframe thead th {\n",
              "        text-align: right;\n",
              "    }\n",
              "</style>\n",
              "<table border=\"1\" class=\"dataframe\">\n",
              "  <thead>\n",
              "    <tr style=\"text-align: right;\">\n",
              "      <th></th>\n",
              "      <th>label</th>\n",
              "      <th>title</th>\n",
              "      <th>lead</th>\n",
              "      <th>text</th>\n",
              "    </tr>\n",
              "  </thead>\n",
              "  <tbody>\n",
              "    <tr>\n",
              "      <th>0</th>\n",
              "      <td>business</td>\n",
              "      <td>Carlyle Looks Toward Commercial Aerospace (Reu...</td>\n",
              "      <td>Reuters - Private investment firm Carlyle Grou...</td>\n",
              "      <td>Carlyle Looks Toward Commercial Aerospace (Reu...</td>\n",
              "    </tr>\n",
              "    <tr>\n",
              "      <th>1</th>\n",
              "      <td>business</td>\n",
              "      <td>Oil and Economy Cloud Stocks' Outlook (Reuters)</td>\n",
              "      <td>Reuters - Soaring crude prices plus worries\\ab...</td>\n",
              "      <td>Oil and Economy Cloud Stocks' Outlook (Reuters...</td>\n",
              "    </tr>\n",
              "    <tr>\n",
              "      <th>2</th>\n",
              "      <td>business</td>\n",
              "      <td>Iraq Halts Oil Exports from Main Southern Pipe...</td>\n",
              "      <td>Reuters - Authorities have halted oil export\\f...</td>\n",
              "      <td>Iraq Halts Oil Exports from Main Southern Pipe...</td>\n",
              "    </tr>\n",
              "    <tr>\n",
              "      <th>3</th>\n",
              "      <td>business</td>\n",
              "      <td>Oil prices soar to all-time record, posing new...</td>\n",
              "      <td>AFP - Tearaway world oil prices, toppling reco...</td>\n",
              "      <td>Oil prices soar to all-time record, posing new...</td>\n",
              "    </tr>\n",
              "    <tr>\n",
              "      <th>4</th>\n",
              "      <td>business</td>\n",
              "      <td>Stocks End Up, But Near Year Lows (Reuters)</td>\n",
              "      <td>Reuters - Stocks ended slightly higher on Frid...</td>\n",
              "      <td>Stocks End Up, But Near Year Lows (Reuters) Re...</td>\n",
              "    </tr>\n",
              "  </tbody>\n",
              "</table>\n",
              "</div>"
            ],
            "text/plain": [
              "      label                                              title  \\\n",
              "0  business  Carlyle Looks Toward Commercial Aerospace (Reu...   \n",
              "1  business    Oil and Economy Cloud Stocks' Outlook (Reuters)   \n",
              "2  business  Iraq Halts Oil Exports from Main Southern Pipe...   \n",
              "3  business  Oil prices soar to all-time record, posing new...   \n",
              "4  business        Stocks End Up, But Near Year Lows (Reuters)   \n",
              "\n",
              "                                                lead  \\\n",
              "0  Reuters - Private investment firm Carlyle Grou...   \n",
              "1  Reuters - Soaring crude prices plus worries\\ab...   \n",
              "2  Reuters - Authorities have halted oil export\\f...   \n",
              "3  AFP - Tearaway world oil prices, toppling reco...   \n",
              "4  Reuters - Stocks ended slightly higher on Frid...   \n",
              "\n",
              "                                                text  \n",
              "0  Carlyle Looks Toward Commercial Aerospace (Reu...  \n",
              "1  Oil and Economy Cloud Stocks' Outlook (Reuters...  \n",
              "2  Iraq Halts Oil Exports from Main Southern Pipe...  \n",
              "3  Oil prices soar to all-time record, posing new...  \n",
              "4  Stocks End Up, But Near Year Lows (Reuters) Re...  "
            ]
          },
          "execution_count": 270,
          "metadata": {},
          "output_type": "execute_result"
        }
      ],
      "source": [
        "#Import the AG news dataset (same as hw01)\n",
        "#Download them from here \n",
        "#!wget https://raw.githubusercontent.com/mhjabreel/CharCnn_Keras/master/data/ag_news_csv/train.csv\n",
        "\n",
        "import pandas as pd\n",
        "import nltk\n",
        "df = pd.read_csv('train.csv')\n",
        "\n",
        "df.columns = [\"label\", \"title\", \"lead\"]\n",
        "label_map = {1:\"world\", 2:\"sport\", 3:\"business\", 4:\"sci/tech\"}\n",
        "def replace_label(x):\n",
        "\treturn label_map[x]\n",
        "df[\"label\"] = df[\"label\"].apply(replace_label) \n",
        "df[\"text\"] = df[\"title\"] + \" \" + df[\"lead\"]\n",
        "df.head()"
      ]
    },
    {
      "cell_type": "code",
      "execution_count": 271,
      "id": "SXfvpd-LELq4",
      "metadata": {
        "colab": {
          "base_uri": "https://localhost:8080/"
        },
        "id": "SXfvpd-LELq4",
        "outputId": "31a4c760-1016-43e1-ac5e-246d44b22d4f"
      },
      "outputs": [],
      "source": [
        "import spacy\n",
        "dfs = df.sample(200, random_state=102)\n",
        "nlp = spacy.load('en_core_web_sm')\n",
        "from sklearn.feature_extraction.text import TfidfVectorizer\n",
        "\n",
        "##TODO pre-process text as you did in HW02\n",
        "dfs[\"processed\"] = dfs[\"text\"].apply(lambda x: nlp(x))\n",
        "dfs['meaningful_toks'] = dfs['processed'].apply(lambda doc: [w.lemma_.lower() for w in doc if not w.is_stop and not w.is_punct and not w.is_digit])\n",
        "dfs[\"input_TFIDF\"] = dfs[\"meaningful_toks\"].apply(lambda x: \" \".join(x))"
      ]
    },
    {
      "cell_type": "code",
      "execution_count": 272,
      "id": "019a47db",
      "metadata": {},
      "outputs": [
        {
          "data": {
            "text/html": [
              "<div>\n",
              "<style scoped>\n",
              "    .dataframe tbody tr th:only-of-type {\n",
              "        vertical-align: middle;\n",
              "    }\n",
              "\n",
              "    .dataframe tbody tr th {\n",
              "        vertical-align: top;\n",
              "    }\n",
              "\n",
              "    .dataframe thead th {\n",
              "        text-align: right;\n",
              "    }\n",
              "</style>\n",
              "<table border=\"1\" class=\"dataframe\">\n",
              "  <thead>\n",
              "    <tr style=\"text-align: right;\">\n",
              "      <th></th>\n",
              "      <th>label</th>\n",
              "      <th>title</th>\n",
              "      <th>lead</th>\n",
              "      <th>text</th>\n",
              "      <th>processed</th>\n",
              "      <th>meaningful_toks</th>\n",
              "      <th>input_TFIDF</th>\n",
              "    </tr>\n",
              "  </thead>\n",
              "  <tbody>\n",
              "    <tr>\n",
              "      <th>102378</th>\n",
              "      <td>business</td>\n",
              "      <td>GE Gives Airline Help On Leases</td>\n",
              "      <td>ARLINGTON, Va. - US Airways Group said Friday ...</td>\n",
              "      <td>GE Gives Airline Help On Leases ARLINGTON, Va....</td>\n",
              "      <td>(GE, Gives, Airline, Help, On, Leases, ARLINGT...</td>\n",
              "      <td>[ge, give, airline, help, leases, arlington, v...</td>\n",
              "      <td>ge give airline help leases arlington va. airw...</td>\n",
              "    </tr>\n",
              "    <tr>\n",
              "      <th>50436</th>\n",
              "      <td>sport</td>\n",
              "      <td>Ravens #39; Battle Plans for Chiefs</td>\n",
              "      <td>Once again, Ravens Insider staffer Dev Panchwa...</td>\n",
              "      <td>Ravens #39; Battle Plans for Chiefs Once again...</td>\n",
              "      <td>(Ravens, #, 39, ;, Battle, Plans, for, Chiefs,...</td>\n",
              "      <td>[ravens, battle, plans, chiefs, ravens, inside...</td>\n",
              "      <td>ravens battle plans chiefs ravens insider staf...</td>\n",
              "    </tr>\n",
              "    <tr>\n",
              "      <th>61913</th>\n",
              "      <td>world</td>\n",
              "      <td>Rain in Boston Postpones BoSox-Yanks Game</td>\n",
              "      <td>BOSTON - Steady rain Friday night forced major...</td>\n",
              "      <td>Rain in Boston Postpones BoSox-Yanks Game BOST...</td>\n",
              "      <td>(Rain, in, Boston, Postpones, BoSox, -, Yanks,...</td>\n",
              "      <td>[rain, boston, postpones, bosox, yanks, game, ...</td>\n",
              "      <td>rain boston postpones bosox yanks game boston ...</td>\n",
              "    </tr>\n",
              "    <tr>\n",
              "      <th>16282</th>\n",
              "      <td>world</td>\n",
              "      <td>Terrorists Storm School in Southern Russia</td>\n",
              "      <td>Armed terrorists stormed a school in southern ...</td>\n",
              "      <td>Terrorists Storm School in Southern Russia Arm...</td>\n",
              "      <td>(Terrorists, Storm, School, in, Southern, Russ...</td>\n",
              "      <td>[terrorists, storm, school, southern, russia, ...</td>\n",
              "      <td>terrorists storm school southern russia armed ...</td>\n",
              "    </tr>\n",
              "    <tr>\n",
              "      <th>77900</th>\n",
              "      <td>business</td>\n",
              "      <td>Surge in car sales spurs economy</td>\n",
              "      <td>The final snapshot of the economy before Elect...</td>\n",
              "      <td>Surge in car sales spurs economy The final sna...</td>\n",
              "      <td>(Surge, in, car, sales, spurs, economy, The, f...</td>\n",
              "      <td>[surge, car, sale, spur, economy, final, snaps...</td>\n",
              "      <td>surge car sale spur economy final snapshot eco...</td>\n",
              "    </tr>\n",
              "  </tbody>\n",
              "</table>\n",
              "</div>"
            ],
            "text/plain": [
              "           label                                       title  \\\n",
              "102378  business             GE Gives Airline Help On Leases   \n",
              "50436      sport         Ravens #39; Battle Plans for Chiefs   \n",
              "61913      world   Rain in Boston Postpones BoSox-Yanks Game   \n",
              "16282      world  Terrorists Storm School in Southern Russia   \n",
              "77900   business            Surge in car sales spurs economy   \n",
              "\n",
              "                                                     lead  \\\n",
              "102378  ARLINGTON, Va. - US Airways Group said Friday ...   \n",
              "50436   Once again, Ravens Insider staffer Dev Panchwa...   \n",
              "61913   BOSTON - Steady rain Friday night forced major...   \n",
              "16282   Armed terrorists stormed a school in southern ...   \n",
              "77900   The final snapshot of the economy before Elect...   \n",
              "\n",
              "                                                     text  \\\n",
              "102378  GE Gives Airline Help On Leases ARLINGTON, Va....   \n",
              "50436   Ravens #39; Battle Plans for Chiefs Once again...   \n",
              "61913   Rain in Boston Postpones BoSox-Yanks Game BOST...   \n",
              "16282   Terrorists Storm School in Southern Russia Arm...   \n",
              "77900   Surge in car sales spurs economy The final sna...   \n",
              "\n",
              "                                                processed  \\\n",
              "102378  (GE, Gives, Airline, Help, On, Leases, ARLINGT...   \n",
              "50436   (Ravens, #, 39, ;, Battle, Plans, for, Chiefs,...   \n",
              "61913   (Rain, in, Boston, Postpones, BoSox, -, Yanks,...   \n",
              "16282   (Terrorists, Storm, School, in, Southern, Russ...   \n",
              "77900   (Surge, in, car, sales, spurs, economy, The, f...   \n",
              "\n",
              "                                          meaningful_toks  \\\n",
              "102378  [ge, give, airline, help, leases, arlington, v...   \n",
              "50436   [ravens, battle, plans, chiefs, ravens, inside...   \n",
              "61913   [rain, boston, postpones, bosox, yanks, game, ...   \n",
              "16282   [terrorists, storm, school, southern, russia, ...   \n",
              "77900   [surge, car, sale, spur, economy, final, snaps...   \n",
              "\n",
              "                                              input_TFIDF  \n",
              "102378  ge give airline help leases arlington va. airw...  \n",
              "50436   ravens battle plans chiefs ravens insider staf...  \n",
              "61913   rain boston postpones bosox yanks game boston ...  \n",
              "16282   terrorists storm school southern russia armed ...  \n",
              "77900   surge car sale spur economy final snapshot eco...  "
            ]
          },
          "execution_count": 272,
          "metadata": {},
          "output_type": "execute_result"
        }
      ],
      "source": [
        "dfs.head()"
      ]
    },
    {
      "cell_type": "code",
      "execution_count": 273,
      "id": "2694af93",
      "metadata": {},
      "outputs": [],
      "source": [
        "##TODO vectorize the pre-processed text using TfidfVectorizer\n",
        "from sklearn.feature_extraction.text import TfidfVectorizer\n",
        "tfidf = TfidfVectorizer(min_df=0.01, # When building the vocabulary ignore terms that have a document frequency strictly lower than the given threshold.\n",
        "                        max_df=0.9,  # When building the vocabulary ignore terms that have a document frequency strictly higher than the given threshold (corpus-specific stop words).\n",
        "                        max_features=1000,\n",
        "                        stop_words='english',\n",
        "                        use_idf=True, # the new piece\n",
        "                        ngram_range=(1,1))\n",
        "\n",
        "X_tfidf = tfidf.fit_transform(dfs['input_TFIDF'])"
      ]
    },
    {
      "cell_type": "code",
      "execution_count": 274,
      "id": "71bddb3d",
      "metadata": {},
      "outputs": [],
      "source": [
        "# Some exploration:\n",
        "# The weights of each feature computed by the fit method call are stored in a model attribute:\n",
        "# print(tfidf.idf_)\n",
        "# tfidf.get_feature_names_out()\n",
        "# This is the weighted counts of words in the first document:\n",
        "# X_tfidf[0].toarray()\n",
        "# tfidf matrix for first two documents and first 40 features\n",
        "# X_tfidf.toarray()[:2, :40]\n",
        "\n",
        "X_tfidf = X_tfidf.toarray()"
      ]
    },
    {
      "attachments": {},
      "cell_type": "markdown",
      "id": "Xv-PoYE1ELq4",
      "metadata": {
        "id": "Xv-PoYE1ELq4"
      },
      "source": [
        "## Cosine Similarity and PCA\n",
        "\n",
        "cosine_similarity computes the L2-normalized dot product of vectors. This kernel is a popular choice for computing the similarity of documents represented as tf-idf vectors.\n",
        "\n",
        "https://scikit-learn.org/stable/modules/metrics.html#cosine-similarity"
      ]
    },
    {
      "cell_type": "code",
      "execution_count": 275,
      "id": "CbtPCqjaELq4",
      "metadata": {
        "id": "CbtPCqjaELq4"
      },
      "outputs": [
        {
          "name": "stdout",
          "output_type": "stream",
          "text": [
            "\n",
            "Most similar documents to: \n",
            "'ge give airline help leases arlington va. airways group say friday reach agreement general electric co. aircraft leasing financing term help airline low cost reduce debt seek avoid liquidation':\n",
            "\n",
            "Cosine similarity: '0.171' - Snippet: 'start offer low power personal supercomputers   new york reuters lower electrical power consumption   great datum processing oomph help new class   desktop supercomputer unveil monday turn conventional   industry logic head designer'\n",
            "Cosine similarity: '0.164' - Snippet: 'delta cut flights okc dallas fort worth oklahoma city oklahoma lose delta air lines flight dallas fort worth international airport airline restructure try avoid bankruptcy'\n",
            "Cosine similarity: '0.152' - Snippet: 'update air seek court impose cut wage benefit bankrupt airways group inc. uairq.ob quote profile research thursday ask court impose wage benefit cut union employee save'\n"
          ]
        }
      ],
      "source": [
        "from sklearn.metrics.pairwise import cosine_similarity\n",
        "import numpy as np\n",
        "\n",
        "##TODO compute the cosine similarity for the first 200 snippets and for the first snippet, show the three most similar snippets and their respective cosine similarity scores\n",
        "\n",
        "# Compute cosine similarity matrix\n",
        "cos_sim_matrix = cosine_similarity(X_tfidf)\n",
        "#print(cos_sim_matrix[:1])\n",
        "\n",
        "# Sort cosine similarity matrix for each document in descending order\n",
        "cos_sim_sorted = np.argsort(-cos_sim_matrix)\n",
        "#print(cos_sim_sorted[:1]) # the first element is always the snippet itself\n",
        "\n",
        "# Select top three similar documents for each document\n",
        "print(f\"\\nMost similar documents to: \\n'{dfs.iloc[0]['input_TFIDF']}':\\n\")\n",
        "\n",
        "for j in cos_sim_sorted[0][1:4]: # start with 1 to skip the first snippet itself\n",
        "    print(f\"Cosine similarity: '{round(cos_sim_matrix[0,j], 3)}' - Snippet: '{dfs.iloc[j]['input_TFIDF']}'\")"
      ]
    },
    {
      "cell_type": "code",
      "execution_count": 276,
      "id": "MVg9wiT_ELq4",
      "metadata": {
        "id": "MVg9wiT_ELq4"
      },
      "outputs": [
        {
          "data": {
            "text/plain": [
              "array([0.01662343, 0.01414936, 0.01337693])"
            ]
          },
          "execution_count": 276,
          "metadata": {},
          "output_type": "execute_result"
        }
      ],
      "source": [
        "from sklearn.decomposition import PCA\n",
        "pca = PCA(n_components=3,svd_solver='randomized')\n",
        "\n",
        "##TODO reduce the vectorized data using PCA\n",
        "Xpca = pca.fit_transform(X_tfidf)\n",
        "pca.explained_variance_ratio_"
      ]
    },
    {
      "cell_type": "code",
      "execution_count": 277,
      "id": "4d3e1dcd",
      "metadata": {},
      "outputs": [
        {
          "name": "stdout",
          "output_type": "stream",
          "text": [
            "\n",
            "Most similar documents to: \n",
            "'ge give airline help leases arlington va. airways group say friday reach agreement general electric co. aircraft leasing financing term help airline low cost reduce debt seek avoid liquidation':\n",
            "\n",
            "Cosine similarity: '0.977' - Snippet: 'north korean refugee enter south korean consulate beijing beijing group north korean refugee attempt enter south korean consulate building beijing manage shelter inside south korean official medium say'\n",
            "Cosine similarity: '0.96' - Snippet: 'internet satire sequel parodies u.s. newsmakers anick jesdanun     new york ap creator political satire sensation land come sequel set tune dixie     online animation good dc feature presidential vice presidential candidate attorney general john ashcroft cbs news anchor dan filmmaker michael moore talk host rush limbaugh jane fonda     land basically president bush john kerry say evan spiridellis co produce cartoon brother gregg'\n",
            "Cosine similarity: '0.947' - Snippet: 'u.n. deliver aid haiti flood gonaives haiti bodies lay grow pile outside morgue u.n. peacekeeper plan major distribution food water wednesday city devastate flood tear apart family leave hungry crowd mob truckload aid'\n"
          ]
        }
      ],
      "source": [
        "##TODO compute again cosine similarity with the reduced version for the first 200 snippets\n",
        "\n",
        "# Compute cosine similarity matrix\n",
        "cos_sim_matrix = cosine_similarity(Xpca)\n",
        "\n",
        "# Sort cosine similarity matrix for each document in descending order\n",
        "cos_sim_sorted = np.argsort(-cos_sim_matrix)\n",
        "\n",
        "##TODO for the first snippet, show again its three most similar snippets\n",
        "# Select top three similar documents for each document\n",
        "print(f\"\\nMost similar documents to: \\n'{dfs.iloc[0]['input_TFIDF']}':\\n\")\n",
        "\n",
        "for j in cos_sim_sorted[0][1:4]: # start with 1 to skip the first snippet itself\n",
        "    print(f\"Cosine similarity: '{round(cos_sim_matrix[0,j], 3)}' - Snippet: '{dfs.iloc[j]['input_TFIDF']}'\")"
      ]
    },
    {
      "attachments": {},
      "cell_type": "markdown",
      "id": "UM-7eKCpELq5",
      "metadata": {
        "id": "UM-7eKCpELq5"
      },
      "source": [
        "Compare the cosine similarity before and after PCA reduction. Did the results change? \n",
        "\n",
        "Yes, the cosine similarities are much higher now and the most similar snippets also changes."
      ]
    },
    {
      "cell_type": "markdown",
      "id": "G5XaeYINELq5",
      "metadata": {
        "id": "G5XaeYINELq5"
      },
      "source": [
        "## Clustering"
      ]
    },
    {
      "cell_type": "code",
      "execution_count": 278,
      "id": "ba267d73",
      "metadata": {},
      "outputs": [],
      "source": [
        "# Instead of tfidf, try with count vectorizer\n",
        "from sklearn.feature_extraction.text import CountVectorizer\n",
        "vec = CountVectorizer(min_df=0.01, # at min 1% of docs\n",
        "                        max_df=.9,  \n",
        "                        max_features=1000,\n",
        "                        stop_words='english',\n",
        "                        ngram_range=(1,3))\n",
        "X = vec.fit_transform(dfs['input_TFIDF'])"
      ]
    },
    {
      "cell_type": "code",
      "execution_count": 279,
      "id": "YemXavPQELq5",
      "metadata": {
        "id": "YemXavPQELq5"
      },
      "outputs": [],
      "source": [
        "# !pip install scikit-learn-extra\n",
        "from sklearn_extra.cluster import KMedoids\n",
        "\n",
        "##TODO create the clusters found with k-medoids clustering and 5 clusters\n",
        "kmed = KMedoids(n_clusters=3)\n",
        "kmed.fit(X)\n",
        "doc_clusters = kmed.labels_.tolist()\n",
        "dfs['cluster_medoid'] = doc_clusters"
      ]
    },
    {
      "cell_type": "code",
      "execution_count": 280,
      "id": "8fcf5911",
      "metadata": {},
      "outputs": [],
      "source": [
        "##TODO create the clusters found with k-means clustering and 5 clusters\n",
        "from sklearn.cluster import KMeans\n",
        "km = KMeans(n_clusters=5, n_init=10)\n",
        "km.fit(X)\n",
        "doc_clusters = km.labels_.tolist()\n",
        "dfs['cluster_means'] = doc_clusters"
      ]
    },
    {
      "cell_type": "code",
      "execution_count": 281,
      "id": "fbf0228a",
      "metadata": {},
      "outputs": [
        {
          "name": "stdout",
          "output_type": "stream",
          "text": [
            "(200, 888)\n",
            "(200, 2)\n"
          ]
        },
        {
          "data": {
            "image/png": "[encoded data removed]",
            "text/plain": [
              "<Figure size 640x480 with 1 Axes>"
            ]
          },
          "metadata": {},
          "output_type": "display_data"
        }
      ],
      "source": [
        "##TODO visualize the k-medoids clustering results through Isomap (first reduce the dimensionality to 2 using Isomap, then use scatter plot (plt.scatter()) to visualize)\n",
        "\n",
        "# Reduce dimensionality to 2\n",
        "from sklearn.manifold import Isomap\n",
        "print(X.shape)\n",
        "embedding = Isomap(n_components=2)\n",
        "X_transformed = embedding.fit_transform(X)\n",
        "print(X_transformed.shape)\n",
        "\n",
        "# Plot the data in the reduced two-dimensional space\n",
        "import matplotlib.pyplot as plt\n",
        "plt.scatter(X_transformed[:,0], X_transformed[:,1], c=dfs['cluster_medoid'])\n",
        "plt.show()"
      ]
    },
    {
      "cell_type": "code",
      "execution_count": 282,
      "id": "mT0YQfX-z1YL",
      "metadata": {
        "id": "mT0YQfX-z1YL"
      },
      "outputs": [
        {
          "data": {
            "image/png": "[encoded data removed]",
            "text/plain": [
              "<Figure size 640x480 with 1 Axes>"
            ]
          },
          "metadata": {},
          "output_type": "display_data"
        }
      ],
      "source": [
        "##TODO similarly, visualize the k-means results\n",
        "\n",
        "plt.scatter(X_transformed[:,0], X_transformed[:,1], c=dfs['cluster_means'])\n",
        "plt.show()"
      ]
    },
    {
      "cell_type": "markdown",
      "id": "Q6ioDcP-ELq5",
      "metadata": {
        "id": "Q6ioDcP-ELq5"
      },
      "source": [
        "## Topic Modeling: LDA"
      ]
    },
    {
      "cell_type": "markdown",
      "id": "ev37xRqwELq5",
      "metadata": {
        "id": "ev37xRqwELq5"
      },
      "source": [
        "For this part you will need to use LDA Mallet. If you cannot have Mallet run, you can use the simple LDA algorithm "
      ]
    },
    {
      "cell_type": "code",
      "execution_count": 283,
      "id": "kjLuOgsHELq5",
      "metadata": {
        "id": "kjLuOgsHELq5"
      },
      "outputs": [
        {
          "name": "stderr",
          "output_type": "stream",
          "text": [
            "100%|██████████| 200/200 [00:02<00:00, 81.31it/s]"
          ]
        },
        {
          "name": "stdout",
          "output_type": "stream",
          "text": [
            "[['give', 'airline', 'help', 'leases', 'arlington', 'va.', 'airways', 'group', 'say', 'friday', 'reach', 'agreement', 'general', 'electric', 'co.', 'aircraft', 'leasing', 'financing', 'term', 'help', 'airline', 'low', 'cost', 'reduce', 'debt', 'seek', 'avoid', 'liquidation'], ['ravens', 'battle', 'plans', 'chiefs', 'ravens', 'insider', 'staffer', 'dev', 'panchwagh', 'break', 'upcoming', 'ravens', 'game', 'thos', 'week', 'defeat', 'chiefs', 'monday', 'night']]\n",
            "147\n"
          ]
        },
        {
          "name": "stderr",
          "output_type": "stream",
          "text": [
            "\n"
          ]
        }
      ],
      "source": [
        "from gensim.corpora import Dictionary\n",
        "from gensim.models.wrappers import LdaMallet\n",
        "from gensim.models.coherencemodel import CoherenceModel\n",
        "\n",
        "##TODO create a dictionary with the pre-processed tokenized text and filter it according to frequencies and keeping 1000 vocabularies\n",
        "\n",
        "# clean document\n",
        "#from gensim.utils import simple_preprocess\n",
        "from spacy.tokenizer import Tokenizer\n",
        "from tqdm import tqdm as tq\n",
        "\n",
        "def tokenize(x, nlp):\n",
        "    # lemmatize and lowercase without stopwords, punctuation and numbers\n",
        "    return [w.lemma_.lower() for w in nlp(x) if not w.is_stop and not w.is_punct and not w.is_digit and len(w) > 2]\n",
        "\n",
        "# split into paragraphs\n",
        "doc_clean = []\n",
        "for doc in tq(dfs['text']):\n",
        "    # split by paragraph\n",
        "    for paragraph in doc.split(\"\\n\\n\"):\n",
        "        doc_clean.append(tokenize(paragraph, nlp))\n",
        "print(doc_clean[:2])\n",
        "\n",
        "# randomize document order\n",
        "from random import shuffle\n",
        "shuffle(doc_clean)\n",
        "\n",
        "# creating the term dictionary\n",
        "from gensim import corpora\n",
        "dictionary = corpora.Dictionary(doc_clean)\n",
        "# filter extremes, drop all words appearing in less than 10 paragraphs and all words appearing in at least every third paragraph\n",
        "dictionary.filter_extremes(keep_n=1000)\n",
        "print(len(dictionary))"
      ]
    },
    {
      "cell_type": "code",
      "execution_count": 284,
      "id": "ecf67465",
      "metadata": {},
      "outputs": [],
      "source": [
        "##TODO create the doc_term_matrix\n",
        "doc_term_matrix = [dictionary.doc2bow(doc) for doc in doc_clean]"
      ]
    },
    {
      "cell_type": "code",
      "execution_count": 285,
      "id": "jZsmeNyvELq5",
      "metadata": {
        "id": "jZsmeNyvELq5"
      },
      "outputs": [
        {
          "data": {
            "text/plain": [
              "[(0,\n",
              "  '0.041*\"new\" + 0.040*\"say\" + 0.030*\"reuters\" + 0.024*\"start\" + 0.024*\"inc.\" + 0.023*\"win\" + 0.022*\"quot\" + 0.022*\"lt;a\" + 0.021*\"company\" + 0.020*\"night\"'),\n",
              " (1,\n",
              "  '0.086*\"39;s\" + 0.038*\"say\" + 0.028*\"bank\" + 0.022*\"corp.\" + 0.022*\"economy\" + 0.021*\"time\" + 0.020*\"world\" + 0.020*\"international\" + 0.019*\"friday\" + 0.019*\"fall\"'),\n",
              " (2,\n",
              "  '0.035*\"high\" + 0.034*\"state\" + 0.030*\"city\" + 0.030*\"yesterday\" + 0.029*\"sale\" + 0.029*\"chief\" + 0.027*\"group\" + 0.025*\"report\" + 0.023*\"work\" + 0.023*\"percent\"'),\n",
              " (3,\n",
              "  '0.037*\"say\" + 0.034*\"39;s\" + 0.031*\"year\" + 0.028*\"oil\" + 0.025*\"new\" + 0.025*\"reuters\" + 0.024*\"take\" + 0.023*\"industry\" + 0.022*\"official\" + 0.021*\"stock\"'),\n",
              " (4,\n",
              "  '0.056*\"year\" + 0.040*\"bush\" + 0.037*\"39;s\" + 0.035*\"president\" + 0.033*\"say\" + 0.029*\"win\" + 0.025*\"friday\" + 0.025*\"school\" + 0.023*\"set\" + 0.022*\"want\"')]"
            ]
          },
          "execution_count": 285,
          "metadata": {},
          "output_type": "execute_result"
        }
      ],
      "source": [
        "##TODO train a LDA Mallet model with 5, 10 and 15 topics\n",
        "\n",
        "# LDA Mallet did not work, use simple LDA instead\n",
        "# train LDA with 10 topics and print \n",
        "from gensim.models.ldamodel import LdaModel\n",
        "lda = LdaModel(doc_term_matrix, num_topics=5, \n",
        "               id2word = dictionary, passes=3)\n",
        "lda.show_topics(formatted=True)"
      ]
    },
    {
      "cell_type": "code",
      "execution_count": 286,
      "id": "4c2aa099",
      "metadata": {},
      "outputs": [
        {
          "data": {
            "text/plain": [
              "[(0,\n",
              "  '0.082*\"year\" + 0.052*\"new\" + 0.029*\"game\" + 0.028*\"friday\" + 0.025*\"good\" + 0.025*\"fall\" + 0.024*\"want\" + 0.019*\"technology\" + 0.018*\"39;s\" + 0.016*\"report\"'),\n",
              " (1,\n",
              "  '0.046*\"say\" + 0.037*\"win\" + 0.035*\"vote\" + 0.033*\"bank\" + 0.030*\"year\" + 0.029*\"u.s.\" + 0.028*\"demand\" + 0.028*\"39;s\" + 0.027*\"early\" + 0.023*\"north\"'),\n",
              " (2,\n",
              "  '0.074*\"price\" + 0.072*\"gold\" + 0.054*\"high\" + 0.049*\"say\" + 0.032*\"39;s\" + 0.029*\"work\" + 0.028*\"post\" + 0.028*\"report\" + 0.028*\"earning\" + 0.020*\"giant\"'),\n",
              " (3,\n",
              "  '0.068*\"say\" + 0.042*\"take\" + 0.038*\"state\" + 0.034*\"school\" + 0.033*\"year\" + 0.030*\"wednesday\" + 0.029*\"thursday\" + 0.022*\"work\" + 0.022*\"corp.\" + 0.022*\"people\"'),\n",
              " (4,\n",
              "  '0.050*\"39;s\" + 0.045*\"year\" + 0.045*\"start\" + 0.041*\"open\" + 0.041*\"chief\" + 0.028*\"say\" + 0.028*\"find\" + 0.028*\"stock\" + 0.028*\"run\" + 0.028*\"profit\"'),\n",
              " (5,\n",
              "  '0.051*\"release\" + 0.038*\"39;s\" + 0.033*\"president\" + 0.028*\"user\" + 0.022*\"world\" + 0.022*\"night\" + 0.022*\"final\" + 0.022*\"city\" + 0.022*\"get\" + 0.022*\"stock\"'),\n",
              " (6,\n",
              "  '0.057*\"39;s\" + 0.044*\"reuters\" + 0.028*\"international\" + 0.028*\"profit\" + 0.027*\"time\" + 0.024*\"coach\" + 0.023*\"hold\" + 0.020*\"say\" + 0.019*\"official\" + 0.019*\"quarter\"'),\n",
              " (7,\n",
              "  '0.064*\"say\" + 0.053*\"39;s\" + 0.027*\"new\" + 0.024*\"company\" + 0.023*\"quot\" + 0.023*\"election\" + 0.021*\"sunday\" + 0.021*\"high\" + 0.019*\"tuesday\" + 0.019*\"economy\"'),\n",
              " (8,\n",
              "  '0.055*\"monday\" + 0.044*\"lead\" + 0.035*\"business\" + 0.034*\"software\" + 0.031*\"take\" + 0.028*\"time\" + 0.028*\"win\" + 0.028*\"night\" + 0.028*\"year\" + 0.027*\"good\"'),\n",
              " (9,\n",
              "  '0.045*\"set\" + 0.038*\"bush\" + 0.038*\"president\" + 0.033*\"say\" + 0.030*\"oil\" + 0.028*\"new\" + 0.028*\"month\" + 0.027*\"china\" + 0.024*\"39;s\" + 0.023*\"talk\"')]"
            ]
          },
          "execution_count": 286,
          "metadata": {},
          "output_type": "execute_result"
        }
      ],
      "source": [
        "lda = LdaModel(doc_term_matrix, num_topics=10, \n",
        "               id2word = dictionary, passes=3)\n",
        "lda.show_topics(formatted=True)"
      ]
    },
    {
      "cell_type": "code",
      "execution_count": 287,
      "id": "e69ae09e",
      "metadata": {},
      "outputs": [],
      "source": [
        "##TODO compute the coherence score for each of these model and print the topics from the model with \n",
        "# highest coherence score. Then find the opitimal number of topics using the coherence score."
      ]
    },
    {
      "cell_type": "code",
      "execution_count": 288,
      "id": "3EJIIr58ELq6",
      "metadata": {
        "id": "3EJIIr58ELq6"
      },
      "outputs": [
        {
          "name": "stderr",
          "output_type": "stream",
          "text": [
            "c:\\Users\\kschuepbach\\.conda\\envs\\nlp_lss\\lib\\site-packages\\pyLDAvis\\_prepare.py:247: FutureWarning: In a future version of pandas all arguments of DataFrame.drop except for the argument 'labels' will be keyword-only.\n",
            "  default_term_info = default_term_info.sort_values(\n"
          ]
        },
        {
          "data": {
            "text/html": [
              "\n",
              "<link rel=\"stylesheet\" type=\"text/css\" href=\"https://cdn.jsdelivr.net/gh/bmabey/pyLDAvis@3.2.2/pyLDAvis/js/ldavis.v1.0.0.css\">\n",
              "\n",
              "\n",
              "<div id=\"ldavis_el738813915872008002570167390\"></div>\n",
              "<script type=\"text/javascript\">\n",
              "\n",
              "var ldavis_el738813915872008002570167390_data = {\"mdsDat\": {\"x\": [-0.046006174415397144, 0.06887384246346542, 0.0017491825659420297, -0.11130509664738047, -0.11537631110508717, 0.038804140997784474, 0.017961938525274845, 0.09474121351873992, -0.08090755499484037, 0.13146481909149849], \"y\": [0.038267163114484574, -0.028776795988844098, -0.0559481011611946, -0.012101214036108858, -0.033553435974612966, 0.11914513519213725, 0.15791256488724603, -0.08739822484488206, -0.057760071165930446, -0.039787020022294825], \"topics\": [1, 2, 3, 4, 5, 6, 7, 8, 9, 10], \"cluster\": [1, 1, 1, 1, 1, 1, 1, 1, 1, 1], \"Freq\": [15.046912696402332, 13.417061524260868, 13.371937442670323, 12.428499402958678, 9.358025157841647, 8.433238532712897, 7.747142815502377, 7.494350735091064, 7.488942137558823, 5.2138895550009945]}, \"tinfo\": {\"Term\": [\"year\", \"price\", \"gold\", \"say\", \"high\", \"monday\", \"release\", \"take\", \"set\", \"president\", \"start\", \"lead\", \"win\", \"chief\", \"bush\", \"profit\", \"time\", \"open\", \"good\", \"business\", \"state\", \"national\", \"bank\", \"run\", \"work\", \"new\", \"coach\", \"launch\", \"vote\", \"software\", \"party\", \"share\", \"see\", \"quot\", \"airline\", \"announce\", \"microsoft\", \"election\", \"sunday\", \"low\", \"east\", \"tuesday\", \"co.\", \"giant\", \"avoid\", \"despite\", \"launch\", \"file\", \"yesterday\", \"way\", \"day\", \"economy\", \"show\", \"say\", \"industry\", \"company\", \"corp.\", \"season\", \"high\", \"panel\", \"39;s\", \"rival\", \"wednesday\", \"new\", \"win\", \"bush\", \"friday\", \"maker\", \"close\", \"hit\", \"international\", \"profit\", \"hold\", \"player\", \"expect\", \"coach\", \"quarter\", \"reuters\", \"time\", \"china\", \"official\", \"find\", \"turn\", \"post\", \"week\", \"executive\", \"big\", \"rise\", \"leave\", \"school\", \"football\", \"lt;a\", \"inc.\", \"election\", \"percent\", \"game\", \"take\", \"39;s\", \"win\", \"stock\", \"wednesday\", \"high\", \"say\", \"start\", \"friday\", \"want\", \"fuel\", \"game\", \"year\", \"technology\", \"fall\", \"good\", \"need\", \"new\", \"update\", \"york\", \"user\", \"big\", \"friday\", \"rise\", \"east\", \"state\", \"co.\", \"demand\", \"league\", \"follow\", \"government\", \"share\", \"early\", \"victory\", \"today\", \"group\", \"microsoft\", \"offer\", \"percent\", \"report\", \"oil\", \"39;s\", \"company\", \"reuters\", \"thursday\", \"inc.\", \"tuesday\", \"yesterday\", \"coach\", \"set\", \"china\", \"avoid\", \"go\", \"national\", \"bush\", \"battle\", \"talk\", \"month\", \"president\", \"plan\", \"right\", \"today\", \"service\", \"oil\", \"business\", \"york\", \"season\", \"good\", \"u.s.\", \"international\", \"presidential\", \"internet\", \"executive\", \"technology\", \"maker\", \"start\", \"city\", \"government\", \"friday\", \"new\", \"company\", \"say\", \"39;s\", \"vote\", \"demand\", \"bank\", \"early\", \"victory\", \"north\", \"federal\", \"u.s.\", \"give\", \"home\", \"man\", \"presidential\", \"sale\", \"sunday\", \"network\", \"league\", \"city\", \"economy\", \"right\", \"win\", \"plan\", \"fuel\", \"lt;b&gt;\", \"&lt;/b&gt\", \"francisco\", \"raise\", \"continue\", \"open\", \"need\", \"percent\", \"wednesday\", \"group\", \"reuters\", \"say\", \"industry\", \"year\", \"president\", \"39;s\", \"report\", \"state\", \"school\", \"francisco\", \"san\", \"way\", \"thursday\", \"take\", \"people\", \"update\", \"board\", \"relate\", \"computer\", \"bank\", \"lt;a\", \"work\", \"corp.\", \"wednesday\", \"late\", \"announce\", \"maker\", \"close\", \"executive\", \"time\", \"say\", \"government\", \"lt;b&gt;\", \"&lt;/b&gt\", \"datum\", \"continue\", \"day\", \"price\", \"year\", \"new\", \"stock\", \"sunday\", \"39;s\", \"cost\", \"gold\", \"price\", \"post\", \"earning\", \"high\", \"giant\", \"show\", \"raise\", \"continue\", \"work\", \"takeover\", \"chief\", \"sale\", \"turn\", \"despite\", \"go\", \"datum\", \"report\", \"month\", \"cost\", \"computer\", \"file\", \"low\", \"north\", \"quarter\", \"york\", \"plan\", \"talk\", \"oil\", \"late\", \"say\", \"win\", \"39;s\", \"set\", \"industry\", \"year\", \"new\", \"world\", \"friday\", \"maker\", \"monday\", \"software\", \"lead\", \"datum\", \"run\", \"business\", \"launch\", \"night\", \"panel\", \"lt;b&gt;\", \"&lt;/b&gt\", \"time\", \"good\", \"take\", \"internet\", \"fall\", \"executive\", \"turn\", \"go\", \"san\", \"news\", \"group\", \"hit\", \"week\", \"federal\", \"low\", \"league\", \"win\", \"expect\", \"people\", \"report\", \"company\", \"year\", \"new\", \"39;s\", \"start\", \"friday\", \"reuters\", \"find\", \"offer\", \"release\", \"user\", \"final\", \"relate\", \"football\", \"man\", \"get\", \"takeover\", \"world\", \"night\", \"city\", \"president\", \"rival\", \"end\", \"francisco\", \"san\", \"day\", \"home\", \"news\", \"party\", \"second\", \"week\", \"lead\", \"follow\", \"north\", \"league\", \"stock\", \"bush\", \"people\", \"today\", \"game\", \"win\", \"39;s\", \"work\", \"industry\", \"report\", \"official\", \"company\", \"chief\", \"run\", \"start\", \"open\", \"leave\", \"follow\", \"national\", \"network\", \"service\", \"end\", \"profit\", \"find\", \"&lt;/b&gt\", \"lt;b&gt;\", \"coach\", \"launch\", \"earning\", \"stock\", \"player\", \"quarter\", \"offer\", \"get\", \"cost\", \"late\", \"rise\", \"quot\", \"release\", \"work\", \"monday\", \"year\", \"39;s\", \"say\", \"economy\", \"wednesday\", \"report\", \"fall\"], \"Freq\": [32.0, 12.0, 9.0, 43.0, 15.0, 10.0, 9.0, 13.0, 10.0, 13.0, 10.0, 8.0, 19.0, 8.0, 12.0, 9.0, 11.0, 10.0, 11.0, 8.0, 8.0, 7.0, 8.0, 6.0, 10.0, 26.0, 8.0, 7.0, 7.0, 6.0, 3.400551491411336, 3.751152382596423, 3.7510747319478877, 4.646925784251579, 3.1638263962641684, 3.073439548087675, 3.5578198138041697, 4.563132521432903, 4.203011586073335, 2.836235482834399, 2.6428586755717065, 3.7595841977301365, 2.64287080848554, 2.398308224322292, 1.9212954372059852, 1.9213105566832238, 2.6005261925654226, 2.200527355998215, 2.836218123434606, 2.1590587364568834, 1.9213064501585417, 3.7511609689662126, 2.2005131698220404, 12.813942873450364, 3.5082088891192154, 4.8886257473909485, 2.932502314375081, 1.9212357059378813, 4.182933293620641, 1.92129973039088, 10.598685600077518, 2.656421406635544, 3.75114491618791, 5.3876230010533135, 3.7511430495857816, 2.835358366494336, 2.836217563453968, 2.323626406472224, 3.2171468353037214, 3.291663052731098, 5.046683402109476, 5.046674414265462, 4.183454245793454, 3.3920126640385617, 3.3920246478305813, 4.219333719100218, 3.3920279766616983, 7.783142696701037, 4.82644127777543, 3.392007670791887, 3.455885609736951, 3.3920279766616983, 1.7373560734998925, 1.7373512466947736, 3.3920186559345717, 1.5820001910561168, 2.0569947647927314, 2.564690443886015, 1.7373667257594656, 2.1117641895950996, 1.7373349354223024, 1.776234324318012, 2.641976914568595, 2.3493836445653846, 2.5647150772362775, 2.564680457392665, 3.105516148225337, 10.122035363561018, 3.391976712662503, 2.5646658105357525, 2.739486700050519, 2.564641343627046, 3.5848691605428673, 2.1140392792217146, 2.3649647379311256, 4.269604972870247, 2.7224809983767613, 5.171584507392522, 14.545276358870327, 3.415110093683823, 4.466312234438921, 4.478890718190552, 1.8967669400991773, 9.285623554693258, 1.8442336727337205, 2.7224595996269065, 1.8442321797976842, 2.1975527445062624, 5.030304320873105, 2.7224931077468337, 1.8442688396714657, 2.5368531468974367, 1.8442505926754658, 1.8442285303984842, 1.8442330092065933, 1.7389171541576083, 1.8442306868616478, 1.8442515879661567, 1.8442253786446297, 1.6188610439763509, 1.8442578914738659, 2.722437537349925, 1.8442170845555388, 1.8442069657668478, 2.5368103493977276, 2.7958392305133257, 2.5572567719427286, 3.1412691306244254, 2.2346493850193783, 2.154538603190383, 1.9034267618755725, 1.897262594863247, 1.8442627020455384, 1.8442554032471385, 1.8442418009410295, 7.442655490893687, 4.49418188505933, 2.7317298522350755, 2.7316897658956703, 3.6129682029054813, 6.257428860829635, 3.4267227530385806, 3.8274720552013837, 4.585877227953499, 6.213549120290888, 3.4267249115337792, 2.2179831722399586, 2.7317477369095795, 2.7317317023738172, 4.981365352247599, 3.005285199465217, 2.731744344988553, 2.152428131271913, 3.4267394042872565, 2.4830870856976586, 2.5454842481899465, 1.8505368299638434, 2.5302765702672176, 1.1347921563196435, 1.6642697951449554, 2.22336630508739, 2.1474128676776387, 1.8504489483736088, 1.3483954535829854, 3.013839624294284, 4.632173558045464, 2.9180221722834343, 5.418018446833344, 3.9210270958874958, 4.326392886809174, 3.503134384363501, 4.1537843993066215, 3.3299087712983155, 2.795522147623379, 2.828421812540869, 2.6262300715341644, 3.616364851920369, 1.9203498726786334, 1.9202974007534435, 1.9202997225200447, 2.3777789884092635, 2.8089103825532815, 2.7632305533787767, 1.9203185288295155, 1.9203039016999273, 2.6341955883900035, 2.805147727599168, 1.3457023069883636, 4.614577058312596, 1.9203001868733651, 0.9986187477241201, 1.0058556942204622, 1.0058525598355503, 1.0058147150399488, 1.0003663414449404, 0.9953261344184455, 1.8276413840225818, 0.9511812251440792, 1.9203379155806366, 2.762182275758277, 1.8929645195276295, 2.8107220570322986, 5.698841596779856, 1.9067531431079314, 3.7191884650400997, 1.9202974007534435, 3.437186925819356, 1.8948953006332945, 4.292715802791882, 3.7763932483301463, 2.2625372761996836, 2.262524722261495, 2.4252802539060023, 3.3132671700128684, 4.734575928282487, 2.4378099211473145, 1.7932993130753458, 1.7933081008320777, 1.7933049623475306, 1.7933388579806395, 2.2979724405950845, 1.7933120762458374, 2.524507418276935, 2.488452926264236, 3.320757477233023, 1.7067694110205414, 1.2565485719287144, 2.105515128125854, 0.939331581752372, 0.9393313725200688, 2.020594850179115, 7.686229838028525, 1.2454368720057905, 0.9393364987114957, 0.9393353479338284, 0.9393266647932481, 0.9393291755808858, 0.939331058671614, 1.7932742051989687, 3.6834945242000243, 1.928984160107131, 1.3278716794235137, 1.1197933970502099, 1.845764731552628, 0.9393562711641426, 7.444101505655421, 7.603558897620941, 2.9397296457643605, 2.871640801207165, 5.592769278080549, 2.030911696987457, 2.0308280856500596, 1.6409603363835243, 1.640951110304915, 2.9980211636782745, 2.0309015098589924, 2.030885556431397, 2.0308878629510496, 1.0637825287746092, 1.0637961756825522, 1.063803960186379, 1.0637855080291603, 2.917234544014972, 1.8264833225202637, 1.4571146705589682, 1.0637430296255628, 1.0638002120919439, 1.0637797417300294, 1.0637729182760578, 0.9977563855215095, 1.0637808949898555, 1.063784162559363, 1.0637693623915938, 1.7395092716795721, 1.0637605207329264, 5.030128022265589, 2.0307535081813004, 3.2771288781892998, 1.2681792847015683, 1.3019777743222347, 1.9599164454583344, 1.2681598714944944, 1.063817991514264, 1.0638097264855098, 1.0637997315670165, 5.53547399744598, 3.3692424431299037, 4.3943949957559765, 2.6466639692673777, 2.548241360115006, 3.472100419479904, 2.501278976736746, 2.8351657735999574, 1.9241070642232854, 1.3982483934238321, 1.398245697321528, 2.8403262993483844, 2.7389348167138072, 3.0660962328635866, 2.1892114569147054, 2.122377683925573, 1.0078209843548498, 1.0078497117897467, 1.0077924428580427, 1.0078298164141222, 1.00783818362817, 1.9241092954803647, 1.0078383695662598, 1.730410335595638, 1.0078380906591249, 1.007840879730474, 1.0078247960856936, 2.8403090071060193, 1.0078337211140111, 1.007812524171757, 1.9240812188287826, 2.0494602025714195, 2.799648251534199, 1.9241005563901372, 2.3169347480954112, 1.1982416697756968, 1.0830376831602597, 1.0078566844681198, 1.0078540813348604, 1.0078474805326674, 5.0571191428300075, 2.807369286244365, 2.2077756406846074, 2.2077148828092095, 2.2077414527669523, 1.6820390454938599, 2.2077613337842843, 2.2077384799045476, 2.2078246929142864, 2.207776383900209, 2.2077652356661908, 3.2590583820682957, 2.2077464694722604, 1.5849669126058423, 1.156402877311224, 1.156400833468321, 1.156403434722925, 1.1564210860934534, 1.1564260098968113, 1.1564184848388492, 1.6820579974916905, 2.2077416385708526, 1.6820232521623344, 1.1564063146833796, 1.1636627931076224, 1.15641272491794, 2.207757246098478, 2.2077301187290344, 1.1564209931915033, 1.1564274034260635, 1.6820121039283165, 2.2077501855502666, 3.784715081581915, 1.307523042247582, 1.192286998772146, 1.1856026105569253, 1.156479149812297, 1.1564252666812103, 2.8767627825529005, 1.9487750510715829, 3.14773777128214, 2.8768010727753626, 1.7526223910052272, 1.7526265304887367, 1.9487339149542078, 1.6276103770966868, 1.752629505742509, 1.752657059179619, 1.9487503435293858, 1.9488749161112482, 1.0207753538957458, 1.0207703735796485, 1.6276403883521302, 1.3771021590678607, 1.0207667515315777, 1.9488111421934309, 1.0207816924798696, 1.0207690799910518, 1.0207816924798696, 1.020774836460307, 1.0207994793230744, 1.020783891580484, 1.02076196525377, 1.0207736075511402, 1.0207702442207889, 1.0207918471503536, 1.020739198094468, 3.1562741624317656, 3.4491822045357785, 1.95610724059654, 1.034779550005334, 1.0291708085677607, 1.0207907476000466, 1.0207761300489038], \"Total\": [32.0, 12.0, 9.0, 43.0, 15.0, 10.0, 9.0, 13.0, 10.0, 13.0, 10.0, 8.0, 19.0, 8.0, 12.0, 9.0, 11.0, 10.0, 11.0, 8.0, 8.0, 7.0, 8.0, 6.0, 10.0, 26.0, 8.0, 7.0, 7.0, 6.0, 5.590638441299773, 7.1566776183955865, 7.186259892213782, 8.924388519350789, 6.242279907314787, 6.231160084433776, 7.362134436490785, 9.788504948166263, 9.046133738794005, 6.419500750116232, 6.223231882659149, 8.95081963104834, 6.295527656095196, 6.403060360252261, 5.386722057484476, 5.415659764754423, 7.339057662273176, 6.2882091567628065, 8.120356543378298, 6.201977254348606, 5.526502228735138, 10.88738009135368, 6.427986089996712, 43.08086058337236, 12.041226004601159, 17.193532274822502, 10.702404511789416, 7.056783617486324, 15.530973842415158, 7.137964941632635, 45.89392975992485, 10.258343461316096, 15.89631886333802, 26.024915347468564, 19.237849761362256, 12.843483451648034, 15.989153213303378, 10.737658664270132, 5.095280851679191, 6.060202435061405, 9.434631422793025, 9.554180423021618, 7.934790610684147, 6.882667162693502, 6.898169241851382, 8.65774077720785, 6.965476011333157, 17.324772445363593, 11.2557899380983, 8.628644773196141, 9.761904623922144, 9.702246764063485, 5.329388695878133, 5.463800841498832, 10.868323423404824, 5.22936480880634, 6.979136068004978, 8.791351756492674, 6.2432412196114715, 7.717562140179229, 6.402631855322366, 6.983779594759789, 10.556387259140802, 9.788504948166263, 10.697623935279777, 10.719897045446938, 13.904207988346867, 45.89392975992485, 19.237849761362256, 12.662749516182071, 15.89631886333802, 15.530973842415158, 43.08086058337236, 10.6913090340365, 15.989153213303378, 7.027378276729732, 5.290732023448439, 10.719897045446938, 32.16162958295778, 8.015010554399021, 10.592666933772225, 11.55668008658508, 5.290432047490837, 26.024915347468564, 5.292490218690994, 8.074841222954936, 5.738797389056962, 6.979136068004978, 15.989153213303378, 8.791351756492674, 6.223231882659149, 8.647617563627806, 6.295527656095196, 6.3225374167011115, 6.46604960535119, 6.406276622520883, 7.025588178303834, 7.1566776183955865, 7.1590582458383, 6.311064180880149, 7.191917549360038, 10.812666021128942, 7.362134436490785, 7.3944660604091625, 10.697623935279777, 15.47586824543728, 13.362586669087307, 45.89392975992485, 17.193532274822502, 17.324772445363593, 9.025704281397214, 10.556387259140802, 8.95081963104834, 8.120356543378298, 8.65774077720785, 10.710186911623797, 8.628644773196141, 5.386722057484476, 5.440169769328189, 7.210280661090675, 12.843483451648034, 7.230947708198984, 8.142723655677523, 9.889359688313037, 13.80763175362804, 8.087347541619618, 5.361226577916478, 7.191917549360038, 7.202671981183802, 13.362586669087307, 8.86557848670591, 8.074841222954936, 7.056783617486324, 11.55668008658508, 8.938574613839547, 9.434631422793025, 7.297777209724168, 10.16000109395172, 5.22936480880634, 8.015010554399021, 10.737658664270132, 10.6913090340365, 9.265296313009658, 7.025588178303834, 15.989153213303378, 26.024915347468564, 17.193532274822502, 43.08086058337236, 45.89392975992485, 7.418071500977835, 6.3225374167011115, 8.038990784008906, 7.1590582458383, 6.311064180880149, 6.50315705340026, 6.382508927736028, 8.938574613839547, 5.362498732313772, 5.552792536308526, 5.656518116967219, 7.297777209724168, 9.042304778340316, 9.046133738794005, 6.352920806690355, 6.46604960535119, 9.265296313009658, 10.88738009135368, 5.361226577916478, 19.237849761362256, 8.087347541619618, 5.290732023448439, 5.420199790327238, 5.420196187312779, 5.451734235168824, 5.450104863815693, 5.476079589639431, 10.056180692334145, 5.290432047490837, 10.697623935279777, 15.89631886333802, 10.812666021128942, 17.324772445363593, 43.08086058337236, 12.041226004601159, 32.16162958295778, 13.80763175362804, 45.89392975992485, 15.47586824543728, 8.647617563627806, 7.717562140179229, 5.451734235168824, 5.4535437060456395, 6.201977254348606, 9.025704281397214, 13.904207988346867, 7.179507845175542, 5.292490218690994, 5.295520854207316, 5.638643128418349, 6.208622710793375, 8.038990784008906, 6.983779594759789, 10.092481264621311, 10.702404511789416, 15.89631886333802, 8.2449767177019, 6.231160084433776, 10.737658664270132, 5.095280851679191, 5.22936480880634, 11.2557899380983, 43.08086058337236, 7.025588178303834, 5.420199790327238, 5.420196187312779, 5.4755515611164, 5.476079589639431, 5.526502228735138, 12.120088323474933, 32.16162958295778, 26.024915347468564, 12.662749516182071, 9.046133738794005, 45.89392975992485, 8.150951799619158, 9.665444645205563, 12.120088323474933, 5.463800841498832, 6.439368486713302, 15.530973842415158, 6.403060360252261, 6.427986089996712, 5.450104863815693, 5.476079589639431, 10.092481264621311, 7.60002645542532, 8.282685211188602, 9.042304778340316, 5.329388695878133, 5.415659764754423, 5.440169769328189, 5.4755515611164, 15.47586824543728, 9.889359688313037, 8.150951799619158, 6.208622710793375, 6.2882091567628065, 6.419500750116232, 6.50315705340026, 6.965476011333157, 8.074841222954936, 8.087347541619618, 8.142723655677523, 13.362586669087307, 8.2449767177019, 43.08086058337236, 19.237849761362256, 45.89392975992485, 10.710186911623797, 12.041226004601159, 32.16162958295778, 26.024915347468564, 9.19938539886146, 15.989153213303378, 10.737658664270132, 10.225662196166372, 6.346464861790211, 8.398148002853386, 5.4755515611164, 6.344744628539513, 8.86557848670591, 7.339057662273176, 9.252282614491191, 7.137964941632635, 5.420199790327238, 5.420196187312779, 11.2557899380983, 11.55668008658508, 13.904207988346867, 10.16000109395172, 10.592666933772225, 5.22936480880634, 5.329388695878133, 5.440169769328189, 5.4535437060456395, 5.5687663889918735, 10.812666021128942, 6.060202435061405, 10.868323423404824, 6.382508927736028, 6.419500750116232, 6.46604960535119, 19.237849761362256, 6.898169241851382, 7.179507845175542, 15.47586824543728, 17.193532274822502, 32.16162958295778, 26.024915347468564, 45.89392975992485, 10.6913090340365, 15.989153213303378, 17.324772445363593, 9.702246764063485, 7.3944660604091625, 9.782624069652512, 5.738797389056962, 5.6362545817138505, 5.638643128418349, 6.402631855322366, 5.656518116967219, 7.50380992378264, 7.60002645542532, 9.19938539886146, 9.252282614491191, 9.265296313009658, 13.80763175362804, 10.258343461316096, 7.372776918437813, 5.451734235168824, 5.4535437060456395, 5.526502228735138, 5.552792536308526, 5.5687663889918735, 5.590638441299773, 8.248750165875485, 10.868323423404824, 8.398148002853386, 6.406276622520883, 6.50315705340026, 6.46604960535119, 12.662749516182071, 12.843483451648034, 7.179507845175542, 7.191917549360038, 10.719897045446938, 19.237849761362256, 45.89392975992485, 10.092481264621311, 12.041226004601159, 15.47586824543728, 9.761904623922144, 17.193532274822502, 8.282685211188602, 6.344744628539513, 10.6913090340365, 10.056180692334145, 6.2432412196114715, 6.406276622520883, 7.210280661090675, 6.352920806690355, 7.202671981183802, 7.372776918437813, 9.554180423021618, 9.702246764063485, 5.420196187312779, 5.420199790327238, 8.65774077720785, 7.339057662273176, 6.439368486713302, 12.662749516182071, 6.882667162693502, 6.965476011333157, 7.3944660604091625, 7.50380992378264, 8.150951799619158, 8.2449767177019, 8.791351756492674, 8.924388519350789, 9.782624069652512, 10.092481264621311, 10.225662196166372, 32.16162958295778, 45.89392975992485, 43.08086058337236, 10.88738009135368, 15.89631886333802, 15.47586824543728, 10.592666933772225], \"Category\": [\"Default\", \"Default\", \"Default\", \"Default\", \"Default\", \"Default\", \"Default\", \"Default\", \"Default\", \"Default\", \"Default\", \"Default\", \"Default\", \"Default\", \"Default\", \"Default\", \"Default\", \"Default\", \"Default\", \"Default\", \"Default\", \"Default\", \"Default\", \"Default\", \"Default\", \"Default\", \"Default\", \"Default\", \"Default\", \"Default\", \"Topic1\", \"Topic1\", \"Topic1\", \"Topic1\", \"Topic1\", \"Topic1\", \"Topic1\", \"Topic1\", \"Topic1\", \"Topic1\", \"Topic1\", \"Topic1\", \"Topic1\", \"Topic1\", \"Topic1\", \"Topic1\", \"Topic1\", \"Topic1\", \"Topic1\", \"Topic1\", \"Topic1\", \"Topic1\", \"Topic1\", \"Topic1\", \"Topic1\", \"Topic1\", \"Topic1\", \"Topic1\", \"Topic1\", \"Topic1\", \"Topic1\", \"Topic1\", \"Topic1\", \"Topic1\", \"Topic1\", \"Topic1\", \"Topic1\", \"Topic1\", \"Topic2\", \"Topic2\", \"Topic2\", \"Topic2\", \"Topic2\", \"Topic2\", \"Topic2\", \"Topic2\", \"Topic2\", \"Topic2\", \"Topic2\", \"Topic2\", \"Topic2\", \"Topic2\", \"Topic2\", \"Topic2\", \"Topic2\", \"Topic2\", \"Topic2\", \"Topic2\", \"Topic2\", \"Topic2\", \"Topic2\", \"Topic2\", \"Topic2\", \"Topic2\", \"Topic2\", \"Topic2\", \"Topic2\", \"Topic2\", \"Topic2\", \"Topic2\", \"Topic2\", \"Topic2\", \"Topic2\", \"Topic2\", \"Topic2\", \"Topic3\", \"Topic3\", \"Topic3\", \"Topic3\", \"Topic3\", \"Topic3\", \"Topic3\", \"Topic3\", \"Topic3\", \"Topic3\", \"Topic3\", \"Topic3\", \"Topic3\", \"Topic3\", \"Topic3\", \"Topic3\", \"Topic3\", \"Topic3\", \"Topic3\", \"Topic3\", \"Topic3\", \"Topic3\", \"Topic3\", \"Topic3\", \"Topic3\", \"Topic3\", \"Topic3\", \"Topic3\", \"Topic3\", \"Topic3\", \"Topic3\", \"Topic3\", \"Topic3\", \"Topic3\", \"Topic3\", \"Topic3\", \"Topic3\", \"Topic3\", \"Topic3\", \"Topic3\", \"Topic4\", \"Topic4\", \"Topic4\", \"Topic4\", \"Topic4\", \"Topic4\", \"Topic4\", \"Topic4\", \"Topic4\", \"Topic4\", \"Topic4\", \"Topic4\", \"Topic4\", \"Topic4\", \"Topic4\", \"Topic4\", \"Topic4\", \"Topic4\", \"Topic4\", \"Topic4\", \"Topic4\", \"Topic4\", \"Topic4\", \"Topic4\", \"Topic4\", \"Topic4\", \"Topic4\", \"Topic4\", \"Topic4\", \"Topic4\", \"Topic4\", \"Topic4\", \"Topic4\", \"Topic4\", \"Topic5\", \"Topic5\", \"Topic5\", \"Topic5\", \"Topic5\", \"Topic5\", \"Topic5\", \"Topic5\", \"Topic5\", \"Topic5\", \"Topic5\", \"Topic5\", \"Topic5\", \"Topic5\", \"Topic5\", \"Topic5\", \"Topic5\", \"Topic5\", \"Topic5\", \"Topic5\", \"Topic5\", \"Topic5\", \"Topic5\", \"Topic5\", \"Topic5\", \"Topic5\", \"Topic5\", \"Topic5\", \"Topic5\", \"Topic5\", \"Topic5\", \"Topic5\", \"Topic5\", \"Topic5\", \"Topic5\", \"Topic5\", \"Topic5\", \"Topic5\", \"Topic5\", \"Topic6\", \"Topic6\", \"Topic6\", \"Topic6\", \"Topic6\", \"Topic6\", \"Topic6\", \"Topic6\", \"Topic6\", \"Topic6\", \"Topic6\", \"Topic6\", \"Topic6\", \"Topic6\", \"Topic6\", \"Topic6\", \"Topic6\", \"Topic6\", \"Topic6\", \"Topic6\", \"Topic6\", \"Topic6\", \"Topic6\", \"Topic6\", \"Topic6\", \"Topic6\", \"Topic6\", \"Topic6\", \"Topic6\", \"Topic6\", \"Topic6\", \"Topic6\", \"Topic6\", \"Topic6\", \"Topic6\", \"Topic6\", \"Topic6\", \"Topic7\", \"Topic7\", \"Topic7\", \"Topic7\", \"Topic7\", \"Topic7\", \"Topic7\", \"Topic7\", \"Topic7\", \"Topic7\", \"Topic7\", \"Topic7\", \"Topic7\", \"Topic7\", \"Topic7\", \"Topic7\", \"Topic7\", \"Topic7\", \"Topic7\", \"Topic7\", \"Topic7\", \"Topic7\", \"Topic7\", \"Topic7\", \"Topic7\", \"Topic7\", \"Topic7\", \"Topic7\", \"Topic7\", \"Topic7\", \"Topic7\", \"Topic7\", \"Topic7\", \"Topic7\", \"Topic7\", \"Topic7\", \"Topic7\", \"Topic7\", \"Topic7\", \"Topic7\", \"Topic8\", \"Topic8\", \"Topic8\", \"Topic8\", \"Topic8\", \"Topic8\", \"Topic8\", \"Topic8\", \"Topic8\", \"Topic8\", \"Topic8\", \"Topic8\", \"Topic8\", \"Topic8\", \"Topic8\", \"Topic8\", \"Topic8\", \"Topic8\", \"Topic8\", \"Topic8\", \"Topic8\", \"Topic8\", \"Topic8\", \"Topic8\", \"Topic8\", \"Topic8\", \"Topic8\", \"Topic8\", \"Topic8\", \"Topic8\", \"Topic8\", \"Topic8\", \"Topic8\", \"Topic8\", \"Topic8\", \"Topic8\", \"Topic8\", \"Topic8\", \"Topic8\", \"Topic8\", \"Topic9\", \"Topic9\", \"Topic9\", \"Topic9\", \"Topic9\", \"Topic9\", \"Topic9\", \"Topic9\", \"Topic9\", \"Topic9\", \"Topic9\", \"Topic9\", \"Topic9\", \"Topic9\", \"Topic9\", \"Topic9\", \"Topic9\", \"Topic9\", \"Topic9\", \"Topic9\", \"Topic9\", \"Topic9\", \"Topic9\", \"Topic9\", \"Topic9\", \"Topic9\", \"Topic9\", \"Topic9\", \"Topic9\", \"Topic9\", \"Topic9\", \"Topic9\", \"Topic9\", \"Topic9\", \"Topic9\", \"Topic9\", \"Topic9\", \"Topic9\", \"Topic10\", \"Topic10\", \"Topic10\", \"Topic10\", \"Topic10\", \"Topic10\", \"Topic10\", \"Topic10\", \"Topic10\", \"Topic10\", \"Topic10\", \"Topic10\", \"Topic10\", \"Topic10\", \"Topic10\", \"Topic10\", \"Topic10\", \"Topic10\", \"Topic10\", \"Topic10\", \"Topic10\", \"Topic10\", \"Topic10\", \"Topic10\", \"Topic10\", \"Topic10\", \"Topic10\", \"Topic10\", \"Topic10\", \"Topic10\", \"Topic10\", \"Topic10\", \"Topic10\", \"Topic10\", \"Topic10\", \"Topic10\"], \"logprob\": [30.0, 29.0, 28.0, 27.0, 26.0, 25.0, 24.0, 23.0, 22.0, 21.0, 20.0, 19.0, 18.0, 17.0, 16.0, 15.0, 14.0, 13.0, 12.0, 11.0, 10.0, 9.0, 8.0, 7.0, 6.0, 5.0, 4.0, 3.0, 2.0, 1.0, -4.0765, -3.9784, -3.9784, -3.7642, -4.1487, -4.1776, -4.0313, -3.7824, -3.8646, -4.258, -4.3286, -3.9761, -4.3286, -4.4257, -4.6474, -4.6474, -4.3447, -4.5117, -4.258, -4.5308, -4.6474, -3.9784, -4.5117, -2.7499, -4.0453, -3.7135, -4.2246, -4.6475, -3.8694, -4.6474, -2.9397, -4.3235, -3.9784, -3.6163, -3.9784, -4.2583, -4.258, -4.4573, -4.0173, -3.9944, -3.5671, -3.5671, -3.7547, -3.9644, -3.9644, -3.7461, -3.9644, -3.1338, -3.6117, -3.9644, -3.9457, -3.9644, -4.6334, -4.6334, -3.9644, -4.7271, -4.4645, -4.244, -4.6334, -4.4383, -4.6334, -4.6113, -4.2143, -4.3316, -4.2439, -4.244, -4.0526, -2.8711, -3.9644, -4.244, -4.178, -4.244, -3.9091, -4.4372, -4.325, -3.7309, -4.1809, -3.5392, -2.5052, -3.9542, -3.6859, -3.683, -4.5423, -2.954, -4.5704, -4.1809, -4.5704, -4.3951, -3.5669, -4.1809, -4.5703, -4.2515, -4.5704, -4.5704, -4.5704, -4.6292, -4.5704, -4.5704, -4.5704, -4.7007, -4.5703, -4.1809, -4.5704, -4.5704, -4.2515, -4.1543, -4.2435, -4.0378, -4.3783, -4.4148, -4.5388, -4.542, -4.5703, -4.5703, -4.5704, -3.102, -3.6065, -4.1043, -4.1043, -3.8247, -3.2755, -3.8777, -3.7671, -3.5863, -3.2825, -3.8777, -4.3127, -4.1043, -4.1043, -3.5036, -4.0089, -4.1043, -4.3427, -3.8776, -4.1998, -4.1749, -4.4938, -4.1809, -4.9828, -4.5999, -4.3102, -4.345, -4.4938, -4.8103, -4.006, -3.5762, -4.0384, -3.4195, -3.7429, -3.3608, -3.5718, -3.4015, -3.6226, -3.7975, -3.7858, -3.86, -3.54, -4.173, -4.173, -4.173, -3.9593, -3.7927, -3.8091, -4.173, -4.173, -3.8569, -3.794, -4.5286, -3.2963, -4.173, -4.8269, -4.8197, -4.8197, -4.8197, -4.8251, -4.8302, -4.2225, -4.8756, -4.173, -3.8095, -4.1874, -3.7921, -3.0852, -4.1801, -3.512, -4.173, -3.5908, -4.1863, -3.2645, -3.3927, -3.905, -3.905, -3.8355, -3.5235, -3.1666, -3.8303, -4.1374, -4.1374, -4.1374, -4.1374, -3.8894, -4.1374, -3.7954, -3.8098, -3.5213, -4.1868, -4.4931, -3.9769, -4.784, -4.784, -4.0181, -2.682, -4.502, -4.784, -4.784, -4.784, -4.784, -4.784, -4.1374, -3.4176, -4.0645, -4.4379, -4.6083, -4.1086, -4.784, -2.6292, -2.608, -3.5583, -3.5817, -2.9151, -3.9281, -3.9281, -4.1413, -4.1413, -3.5386, -3.9281, -3.9281, -3.9281, -4.5748, -4.5747, -4.5747, -4.5748, -3.566, -4.0342, -4.2601, -4.5748, -4.5747, -4.5748, -4.5748, -4.6388, -4.5748, -4.5748, -4.5748, -4.083, -4.5748, -3.0211, -3.9282, -3.4496, -4.399, -4.3727, -3.9637, -4.399, -4.5747, -4.5747, -4.5747, -2.8922, -3.3887, -3.1231, -3.6301, -3.668, -3.3587, -3.6866, -3.5613, -3.949, -4.2682, -4.2682, -3.5595, -3.5958, -3.483, -3.8199, -3.8509, -4.5956, -4.5956, -4.5957, -4.5956, -4.5956, -3.949, -4.5956, -4.0551, -4.5956, -4.5956, -4.5956, -3.5595, -4.5956, -4.5956, -3.949, -3.8858, -3.5739, -3.949, -3.7632, -4.4226, -4.5236, -4.5956, -4.5956, -4.5956, -2.9819, -3.5704, -3.8107, -3.8107, -3.8107, -4.0827, -3.8107, -3.8107, -3.8107, -3.8107, -3.8107, -3.4213, -3.8107, -4.1421, -4.4574, -4.4574, -4.4574, -4.4574, -4.4574, -4.4574, -4.0827, -3.8107, -4.0827, -4.4574, -4.4511, -4.4574, -3.8107, -3.8107, -4.4574, -4.4574, -4.0827, -3.8107, -3.2717, -4.3346, -4.4268, -4.4324, -4.4573, -4.4574, -3.1839, -3.5734, -3.0939, -3.1839, -3.6795, -3.6795, -3.5734, -3.7535, -3.6795, -3.6795, -3.5734, -3.5733, -4.22, -4.22, -3.7535, -3.9206, -4.22, -3.5734, -4.22, -4.22, -4.22, -4.22, -4.22, -4.22, -4.22, -4.22, -4.22, -4.22, -4.2201, -3.0912, -3.0025, -3.5696, -4.2064, -4.2118, -4.22, -4.22], \"loglift\": [30.0, 29.0, 28.0, 27.0, 26.0, 25.0, 24.0, 23.0, 22.0, 21.0, 20.0, 19.0, 18.0, 17.0, 16.0, 15.0, 14.0, 13.0, 12.0, 11.0, 10.0, 9.0, 8.0, 7.0, 6.0, 5.0, 4.0, 3.0, 2.0, 1.0, 1.3968, 1.248, 1.2439, 1.2414, 1.2144, 1.1872, 1.1668, 1.1308, 1.1275, 1.0771, 1.0376, 1.0266, 1.026, 0.912, 0.8631, 0.8577, 0.8565, 0.844, 0.8421, 0.8388, 0.8374, 0.8285, 0.822, 0.6815, 0.6608, 0.6364, 0.5994, 0.593, 0.5822, 0.5816, 0.4284, 0.5429, 0.45, 0.319, 0.2592, 0.3833, 0.1646, 0.3634, 1.5488, 1.3983, 1.383, 1.3704, 1.3685, 1.3011, 1.2988, 1.2899, 1.2891, 1.2085, 1.1619, 1.075, 0.9702, 0.9577, 0.8878, 0.8629, 0.8442, 0.813, 0.787, 0.7767, 0.7295, 0.7127, 0.7043, 0.6395, 0.6234, 0.5816, 0.5805, 0.5784, 0.5096, 0.497, 0.2732, 0.4118, 0.2503, 0.2076, -0.4777, 0.3878, 0.0975, 1.5137, 1.3476, 1.2831, 1.2185, 1.1589, 1.1484, 1.0641, 0.9863, 0.9814, 0.9578, 0.9248, 0.8768, 0.8564, 0.8556, 0.8398, 0.7958, 0.7857, 0.7842, 0.78, 0.7575, 0.708, 0.6745, 0.656, 0.6557, 0.6514, 0.6511, 0.6328, 0.6277, 0.6233, 0.5729, 0.3009, 0.3585, -0.6697, -0.0284, -0.0725, 0.4556, 0.2957, 0.4323, 0.5297, 0.4656, 1.7212, 1.4329, 1.4062, 1.3963, 1.3942, 1.3661, 1.3384, 1.3303, 1.3167, 1.2867, 1.2265, 1.2026, 1.1172, 1.1157, 1.0984, 1.0034, 1.0014, 0.8978, 0.8695, 0.8043, 0.7751, 0.7131, 0.695, 0.5573, 0.5132, 0.5104, 0.48, 0.4743, 0.4345, 0.4165, 0.3591, 0.3116, 0.0118, -0.3748, 1.8298, 1.7785, 1.7087, 1.6035, 1.5547, 1.5364, 1.4809, 1.464, 1.342, 1.3071, 1.2886, 1.2475, 1.1998, 1.183, 1.1725, 1.1549, 1.1112, 1.0128, 0.9867, 0.9413, 0.9311, 0.7016, 0.6846, 0.6846, 0.6788, 0.6737, 0.6639, 0.6638, 0.653, 0.6514, 0.6189, 0.6264, 0.5502, 0.3461, 0.526, 0.2117, 0.3962, -0.2227, 0.2688, 1.7726, 1.7583, 1.5935, 1.5932, 1.5341, 1.4708, 1.3957, 1.3929, 1.3908, 1.3902, 1.3274, 1.2311, 1.2207, 1.1135, 1.0872, 1.0142, 0.9071, 0.898, 0.8718, 0.8438, 0.7821, 0.7561, 0.7555, 0.7493, 0.7429, 0.7203, 0.7203, 0.7101, 0.71, 0.7008, 0.5622, 0.3061, -0.1291, 0.2179, 0.3838, -0.7404, 0.3123, 2.2967, 2.0916, 1.938, 1.7503, 1.5365, 1.4096, 1.4056, 1.3575, 1.3527, 1.344, 1.2382, 1.1522, 1.0644, 0.9464, 0.9304, 0.9259, 0.9194, 0.8892, 0.8688, 0.8362, 0.7937, 0.781, 0.7603, 0.7474, 0.6146, 0.5309, 0.5294, 0.5225, 0.519, 0.5101, 0.4102, 0.3094, -0.0815, 0.4242, 0.3334, -0.24, -0.4636, 0.4006, -0.1522, 0.2459, 1.9773, 1.9578, 1.9433, 1.864, 1.6788, 1.6536, 1.5146, 1.4083, 1.2801, 1.2361, 1.2361, 1.2141, 1.1513, 1.0792, 1.0561, 0.9834, 0.9445, 0.9256, 0.905, 0.9026, 0.8817, 0.8648, 0.7971, 0.7535, 0.7453, 0.7395, 0.7322, 0.6781, 0.6676, 0.6276, 0.5062, 0.4641, 0.1497, -0.0136, -0.3951, 0.4024, -0.1011, -0.2533, 0.3265, 0.5981, 1.9319, 1.8767, 1.6545, 1.6541, 1.527, 1.3789, 1.3683, 1.3556, 1.1646, 1.1589, 1.1574, 1.148, 1.0556, 1.0545, 1.0411, 1.0408, 1.0275, 1.0228, 1.0199, 1.016, 1.0017, 0.9979, 0.9837, 0.8798, 0.871, 0.8705, 0.8451, 0.8309, 0.7658, 0.7641, 0.7396, 0.4268, 0.0964, 0.5481, 0.2793, 0.0227, 0.4586, -0.1075, 1.8963, 1.7734, 1.7311, 1.7023, 1.6835, 1.6577, 1.6455, 1.592, 1.5405, 1.5172, 1.3641, 1.3487, 1.2843, 1.2843, 1.2825, 1.2806, 1.112, 1.0824, 1.0454, 1.0334, 0.9737, 0.959, 0.8763, 0.8648, 0.8006, 0.7856, 0.6938, 0.6626, 0.6495, 0.6325, 0.3656, -0.1383, 0.6004, 0.2165, 0.2351, 0.6142]}, \"token.table\": {\"Topic\": [3, 5, 6, 8, 10, 1, 2, 3, 4, 5, 6, 7, 8, 9, 10, 1, 2, 4, 6, 1, 2, 3, 6, 1, 4, 4, 5, 6, 1, 2, 4, 9, 2, 3, 4, 5, 1, 3, 4, 6, 1, 4, 5, 9, 2, 4, 8, 4, 6, 7, 8, 10, 2, 4, 3, 4, 5, 9, 2, 6, 1, 3, 4, 2, 3, 10, 1, 2, 3, 4, 5, 7, 8, 9, 1, 2, 3, 6, 7, 4, 5, 6, 7, 1, 3, 4, 5, 6, 8, 1, 3, 4, 6, 7, 10, 6, 7, 8, 1, 3, 6, 9, 3, 5, 1, 2, 3, 7, 2, 3, 5, 2, 4, 7, 10, 1, 2, 3, 1, 3, 4, 5, 10, 1, 2, 4, 5, 1, 2, 3, 6, 9, 10, 2, 4, 6, 8, 2, 3, 4, 8, 2, 3, 6, 8, 10, 1, 5, 6, 8, 1, 2, 3, 6, 7, 1, 2, 3, 9, 1, 2, 3, 5, 8, 10, 2, 3, 9, 10, 2, 3, 6, 9, 5, 6, 9, 1, 2, 3, 4, 7, 8, 2, 3, 5, 2, 3, 7, 9, 1, 3, 4, 9, 10, 1, 2, 7, 1, 2, 3, 5, 4, 7, 8, 7, 9, 3, 4, 8, 1, 2, 3, 4, 6, 1, 3, 4, 5, 8, 1, 2, 3, 7, 10, 1, 2, 8, 1, 2, 9, 3, 4, 5, 9, 2, 3, 4, 5, 6, 7, 8, 1, 3, 4, 5, 7, 8, 9, 10, 2, 4, 5, 1, 4, 5, 7, 8, 9, 1, 3, 6, 7, 9, 10, 1, 8, 10, 6, 7, 8, 9, 3, 5, 8, 9, 1, 2, 5, 10, 1, 3, 7, 8, 1, 2, 4, 5, 6, 3, 5, 6, 8, 10, 1, 2, 4, 5, 6, 7, 8, 5, 6, 7, 9, 1, 3, 9, 7, 8, 9, 10, 1, 2, 3, 4, 7, 4, 8, 10, 2, 3, 4, 5, 3, 4, 5, 10, 1, 3, 4, 6, 7, 8, 9, 1, 3, 4, 8, 9, 1, 2, 3, 8, 9, 2, 5, 7, 9, 1, 3, 5, 8, 9, 10, 1, 2, 3, 4, 5, 9, 1, 2, 3, 4, 7, 8, 2, 3, 5, 8, 9, 10, 1, 2, 4, 6, 8, 1, 9, 1, 2, 6, 8, 9, 1, 2, 3, 5, 6, 9, 4, 5, 6, 7, 2, 3, 6, 10, 2, 7, 1, 4, 5, 6, 9, 1, 2, 4, 5, 9, 1, 3, 6, 7, 2, 6, 7, 10, 2, 6, 7, 10, 1, 2, 6, 10, 2, 4, 5, 7, 1, 6, 9, 1, 5, 9, 10, 2, 3, 4, 5, 6, 7, 8, 9, 10, 1, 2, 3, 4, 5, 6, 8, 3, 4, 5, 1, 2, 3, 5, 10, 1, 4, 5, 6, 7, 9, 2, 8, 10, 1, 2, 3, 5, 7, 6, 8, 9, 1, 2, 4, 5, 6, 7, 10, 2, 3, 6, 1, 2, 3, 4, 2, 3, 4, 5, 7, 8, 9, 1, 3, 4, 6, 3, 4, 5, 10, 3, 4, 7, 1, 2, 3, 1, 3, 6, 7, 1, 6, 8, 1, 2, 3, 4, 8, 10, 2, 3, 6, 1, 2, 3, 4, 6, 9, 10, 1, 5, 6, 2, 3, 4, 6, 8, 1, 4, 6, 7, 9, 2, 4, 7, 9, 1, 3, 4, 3, 5, 6, 7, 9, 1, 2, 6, 8, 2, 3, 4, 9, 1, 2, 3, 4, 5, 6, 2, 3, 7, 8, 2, 3, 4, 5, 1, 3, 6, 3, 9, 1, 3, 5, 4, 5, 9, 3, 4, 6, 1, 4, 6, 1, 2, 4, 5, 6, 10, 1, 2, 4, 8, 9, 1, 2, 5, 7, 8, 9, 2, 4, 6, 7, 9, 10, 1, 2, 3, 4, 7, 9, 1, 3, 4, 5, 6, 7, 8, 10, 1, 2, 3, 9, 3, 4, 7, 8], \"Freq\": [0.18449516686143777, 0.18449516686143777, 0.18449516686143777, 0.18449516686143777, 0.18449516686143777, 0.23968311403146253, 0.2178937400286023, 0.06536812200858069, 0.08715749601144092, 0.06536812200858069, 0.04357874800572046, 0.06536812200858069, 0.04357874800572046, 0.08715749601144092, 0.06536812200858069, 0.4805936363866926, 0.1601978787955642, 0.1601978787955642, 0.1601978787955642, 0.48145128023502054, 0.16048376007834017, 0.16048376007834017, 0.16048376007834017, 0.371283310825577, 0.5569249662383654, 0.12439372389743147, 0.4975748955897259, 0.24878744779486295, 0.1382944588115505, 0.1382944588115505, 0.4148833764346515, 0.1382944588115505, 0.28656842057697696, 0.28656842057697696, 0.14328421028848848, 0.14328421028848848, 0.18883883710995025, 0.18883883710995025, 0.18883883710995025, 0.3776776742199005, 0.2335814898889483, 0.4671629797778966, 0.07786049662964943, 0.15572099325929886, 0.22559159596850165, 0.33838739395275247, 0.33838739395275247, 0.12073379278608315, 0.12073379278608315, 0.2414675855721663, 0.12073379278608315, 0.36220137835824945, 0.34767916386118286, 0.4635722184815771, 0.21585925937325337, 0.21585925937325337, 0.32378888905988007, 0.21585925937325337, 0.5887801060095296, 0.19626003533650985, 0.476528761984782, 0.317685841323188, 0.158842920661594, 0.46201429482969725, 0.23100714741484862, 0.23100714741484862, 0.2908070267400372, 0.11632281069601488, 0.11632281069601488, 0.1744842160440223, 0.05816140534800744, 0.05816140534800744, 0.11632281069601488, 0.05816140534800744, 0.16106631801954252, 0.16106631801954252, 0.16106631801954252, 0.32213263603908504, 0.16106631801954252, 0.18261239334285212, 0.18261239334285212, 0.18261239334285212, 0.36522478668570424, 0.2803108401196478, 0.09343694670654926, 0.1868738934130985, 0.09343694670654926, 0.1868738934130985, 0.09343694670654926, 0.24537011740070006, 0.24537011740070006, 0.12268505870035003, 0.12268505870035003, 0.12268505870035003, 0.12268505870035003, 0.18263000335917062, 0.18263000335917062, 0.5478900100775118, 0.36189255287023453, 0.18094627643511726, 0.18094627643511726, 0.18094627643511726, 0.3163286934003679, 0.6326573868007358, 0.3692994181459055, 0.18464970907295275, 0.18464970907295275, 0.18464970907295275, 0.1396831769850901, 0.2793663539701802, 0.4190495309552703, 0.15529473147302475, 0.15529473147302475, 0.4658841944190743, 0.15529473147302475, 0.4820646340303358, 0.16068821134344527, 0.32137642268689054, 0.3673978465376293, 0.09184946163440733, 0.18369892326881465, 0.275548384903222, 0.09184946163440733, 0.5108032356807133, 0.20432129427228532, 0.10216064713614266, 0.10216064713614266, 0.13563410517673521, 0.13563410517673521, 0.13563410517673521, 0.13563410517673521, 0.27126821035347043, 0.27126821035347043, 0.3824556276188584, 0.1912278138094292, 0.1912278138094292, 0.1912278138094292, 0.43489799899354714, 0.1449659996645157, 0.1449659996645157, 0.1449659996645157, 0.18880986370141317, 0.37761972740282634, 0.09440493185070659, 0.18880986370141317, 0.09440493185070659, 0.15667819838909572, 0.4700345951672872, 0.15667819838909572, 0.15667819838909572, 0.31805557832774245, 0.15902778916387122, 0.15902778916387122, 0.15902778916387122, 0.15902778916387122, 0.1774227876867698, 0.1774227876867698, 0.1774227876867698, 0.3548455753735396, 0.10306891015222756, 0.3092067304566827, 0.10306891015222756, 0.10306891015222756, 0.10306891015222756, 0.20613782030445513, 0.15609691228202038, 0.31219382456404077, 0.15609691228202038, 0.31219382456404077, 0.3123715442638552, 0.1561857721319276, 0.1561857721319276, 0.3123715442638552, 0.18342787026356816, 0.3668557405271363, 0.18342787026356816, 0.18762719701152933, 0.1250847980076862, 0.31271199501921554, 0.18762719701152933, 0.0625423990038431, 0.0625423990038431, 0.18900976189457644, 0.5670292856837292, 0.18900976189457644, 0.2798534339725016, 0.4664223899541694, 0.09328447799083388, 0.18656895598166776, 0.13326563574466238, 0.26653127148932476, 0.13326563574466238, 0.26653127148932476, 0.13326563574466238, 0.3123506397683257, 0.15617531988416286, 0.3123506397683257, 0.18648023056380794, 0.18648023056380794, 0.18648023056380794, 0.3729604611276159, 0.5514533787004358, 0.18381779290014527, 0.18381779290014527, 0.7242294852386613, 0.10346135503409447, 0.34612016340602647, 0.25959012255451985, 0.25959012255451985, 0.14233683709047504, 0.14233683709047504, 0.2846736741809501, 0.14233683709047504, 0.14233683709047504, 0.18496825816055137, 0.27745238724082705, 0.18496825816055137, 0.18496825816055137, 0.18496825816055137, 0.25754985106445694, 0.19316238829834267, 0.12877492553222847, 0.38632477659668535, 0.06438746276611423, 0.16501098943733017, 0.49503296831199045, 0.16501098943733017, 0.25205454033116037, 0.5041090806623207, 0.12602727016558019, 0.18008956636885196, 0.18008956636885196, 0.3601791327377039, 0.18008956636885196, 0.2841881342882995, 0.18945875619219965, 0.18945875619219965, 0.09472937809609983, 0.09472937809609983, 0.09472937809609983, 0.09472937809609983, 0.33219208729007593, 0.08304802182251898, 0.08304802182251898, 0.16609604364503797, 0.08304802182251898, 0.08304802182251898, 0.08304802182251898, 0.08304802182251898, 0.5299624093338244, 0.3179774456002947, 0.1059924818667649, 0.19685037250543272, 0.29527555875814904, 0.09842518625271636, 0.09842518625271636, 0.19685037250543272, 0.09842518625271636, 0.12128597014143264, 0.24257194028286527, 0.24257194028286527, 0.12128597014143264, 0.12128597014143264, 0.12128597014143264, 0.40877182576472487, 0.40877182576472487, 0.1362572752549083, 0.11907387196084616, 0.11907387196084616, 0.47629548784338466, 0.23814774392169233, 0.30930786524508486, 0.30930786524508486, 0.15465393262254243, 0.15465393262254243, 0.16017321209034302, 0.32034642418068604, 0.16017321209034302, 0.32034642418068604, 0.4673260611342217, 0.15577535371140722, 0.15577535371140722, 0.15577535371140722, 0.14318894037697585, 0.2863778807539517, 0.14318894037697585, 0.14318894037697585, 0.2863778807539517, 0.184495044220432, 0.184495044220432, 0.184495044220432, 0.184495044220432, 0.184495044220432, 0.1862603443202248, 0.0931301721601124, 0.1862603443202248, 0.0931301721601124, 0.1862603443202248, 0.0931301721601124, 0.0931301721601124, 0.353574400124491, 0.1767872000622455, 0.1767872000622455, 0.353574400124491, 0.5433206951741877, 0.27166034758709384, 0.13583017379354692, 0.09779317767556439, 0.5867590660533863, 0.09779317767556439, 0.09779317767556439, 0.10111878134858128, 0.10111878134858128, 0.10111878134858128, 0.5055939067429064, 0.20223756269716256, 0.5547634257270276, 0.1386908564317569, 0.2773817128635138, 0.18902047905034206, 0.3780409581006841, 0.18902047905034206, 0.18902047905034206, 0.15740791211294264, 0.15740791211294264, 0.3148158242258853, 0.3148158242258853, 0.19212358362142948, 0.3458224505185731, 0.19212358362142948, 0.07684943344857179, 0.03842471672428589, 0.07684943344857179, 0.03842471672428589, 0.17957298441837355, 0.17957298441837355, 0.17957298441837355, 0.17957298441837355, 0.17957298441837355, 0.10808143694549183, 0.10808143694549183, 0.10808143694549183, 0.3242443108364755, 0.21616287389098365, 0.15377146696420887, 0.4613144008926266, 0.15377146696420887, 0.15377146696420887, 0.13523626883002643, 0.27047253766005286, 0.13523626883002643, 0.13523626883002643, 0.13523626883002643, 0.13523626883002643, 0.10243902583819954, 0.30731707751459864, 0.10243902583819954, 0.10243902583819954, 0.10243902583819954, 0.10243902583819954, 0.07483581021879368, 0.14967162043758736, 0.224507430656381, 0.3741790510939684, 0.14967162043758736, 0.07483581021879368, 0.09944133171376911, 0.19888266342753821, 0.19888266342753821, 0.09944133171376911, 0.09944133171376911, 0.2983239951413073, 0.28019190572580044, 0.14009595286290022, 0.14009595286290022, 0.14009595286290022, 0.28019190572580044, 0.5366113426041065, 0.17887044753470213, 0.13928531336197036, 0.13928531336197036, 0.27857062672394073, 0.13928531336197036, 0.13928531336197036, 0.09347870200429202, 0.28043610601287605, 0.28043610601287605, 0.18695740400858404, 0.09347870200429202, 0.09347870200429202, 0.3709498057998881, 0.24729987053325875, 0.12364993526662937, 0.12364993526662937, 0.43587753542130653, 0.14529251180710218, 0.14529251180710218, 0.14529251180710218, 0.36604555290696855, 0.5490683293604528, 0.07242371594515068, 0.4345422956709041, 0.14484743189030136, 0.07242371594515068, 0.21727114783545204, 0.13702802528248142, 0.13702802528248142, 0.27405605056496285, 0.27405605056496285, 0.13702802528248142, 0.08250764955756457, 0.08250764955756457, 0.16501529911512913, 0.6600611964605165, 0.5233311261269539, 0.10466622522539078, 0.10466622522539078, 0.20933245045078155, 0.43069561866538036, 0.14356520622179345, 0.14356520622179345, 0.14356520622179345, 0.5602624750321525, 0.22410499001286102, 0.11205249500643051, 0.11205249500643051, 0.18348270812901135, 0.18348270812901135, 0.18348270812901135, 0.3669654162580227, 0.17734763084403643, 0.35469526168807286, 0.35469526168807286, 0.20444412314732258, 0.10222206157366129, 0.5111103078683065, 0.10222206157366129, 0.12923346000891783, 0.19385019001337675, 0.06461673000445892, 0.12923346000891783, 0.06461673000445892, 0.19385019001337675, 0.12923346000891783, 0.06461673000445892, 0.06461673000445892, 0.05772081585219419, 0.46176652681755354, 0.11544163170438838, 0.05772081585219419, 0.17316244755658258, 0.05772081585219419, 0.05772081585219419, 0.18652448007310818, 0.37304896014621636, 0.18652448007310818, 0.11374815019333863, 0.3412444505800159, 0.3412444505800159, 0.11374815019333863, 0.11374815019333863, 0.2924448778024356, 0.1949632518682904, 0.0974816259341452, 0.0974816259341452, 0.0974816259341452, 0.1949632518682904, 0.15761075638913277, 0.47283226916739834, 0.31522151277826554, 0.11059127341022303, 0.22118254682044605, 0.11059127341022303, 0.3317738202306691, 0.22118254682044605, 0.36673401879641276, 0.18336700939820638, 0.18336700939820638, 0.3017581316613142, 0.09284865589578899, 0.11606081986973624, 0.1392729838436835, 0.18569731179157797, 0.11606081986973624, 0.04642432794789449, 0.259149192928112, 0.129574596464056, 0.518298385856224, 0.2834152368005318, 0.1417076184002659, 0.1417076184002659, 0.2834152368005318, 0.12123048703025721, 0.24246097406051442, 0.12123048703025721, 0.12123048703025721, 0.12123048703025721, 0.12123048703025721, 0.24246097406051442, 0.5566177761444374, 0.13915444403610935, 0.13915444403610935, 0.13915444403610935, 0.13883736516287168, 0.41651209548861506, 0.13883736516287168, 0.27767473032574336, 0.09336905212314242, 0.6535833648619969, 0.09336905212314242, 0.5589185671460686, 0.13972964178651714, 0.2794592835730343, 0.3111394411870955, 0.15556972059354776, 0.15556972059354776, 0.3111394411870955, 0.15756803539883146, 0.15756803539883146, 0.4727041061964944, 0.09353391589527839, 0.18706783179055678, 0.09353391589527839, 0.18706783179055678, 0.09353391589527839, 0.2806017476858352, 0.11563878636423937, 0.3469163590927181, 0.4625551454569575, 0.1579435806926565, 0.23691537103898475, 0.1579435806926565, 0.07897179034632824, 0.07897179034632824, 0.1579435806926565, 0.1579435806926565, 0.4421778536001685, 0.33163339020012633, 0.11054446340004212, 0.2157620198514222, 0.0719206732838074, 0.0719206732838074, 0.359603366419037, 0.2157620198514222, 0.13157848934672386, 0.13157848934672386, 0.13157848934672386, 0.26315697869344773, 0.26315697869344773, 0.12280903077224645, 0.4912361230889858, 0.12280903077224645, 0.12280903077224645, 0.24953179867022188, 0.3742976980053328, 0.24953179867022188, 0.22158935609292887, 0.11079467804646444, 0.3323840341393933, 0.11079467804646444, 0.11079467804646444, 0.08884316476227283, 0.4442158238113642, 0.17768632952454566, 0.2665294942868185, 0.13904497557664347, 0.27808995115328694, 0.4171349267299304, 0.13904497557664347, 0.44688644893758306, 0.11172161223439576, 0.22344322446879153, 0.11172161223439576, 0.11172161223439576, 0.11172161223439576, 0.3752775626117953, 0.18763878130589765, 0.18763878130589765, 0.18763878130589765, 0.11187466046898634, 0.22374932093797267, 0.22374932093797267, 0.44749864187594535, 0.18894697178057945, 0.3778939435611589, 0.3778939435611589, 0.348505072476283, 0.5227576087144244, 0.15845188249385522, 0.31690376498771045, 0.47535564748156567, 0.13480592629340146, 0.5392237051736058, 0.13480592629340146, 0.569202317348632, 0.142300579337158, 0.142300579337158, 0.322477803122814, 0.161238901561407, 0.322477803122814, 0.251630584060897, 0.18872293804567272, 0.1258152920304485, 0.18872293804567272, 0.18872293804567272, 0.06290764601522425, 0.18402102349043278, 0.27603153523564916, 0.09201051174521639, 0.18402102349043278, 0.18402102349043278, 0.20792344516764513, 0.15594258387573384, 0.2599043064595564, 0.10396172258382257, 0.15594258387573384, 0.10396172258382257, 0.09908366176566015, 0.09908366176566015, 0.29725098529698046, 0.29725098529698046, 0.09908366176566015, 0.09908366176566015, 0.10870291401464303, 0.21740582802928607, 0.10870291401464303, 0.21740582802928607, 0.10870291401464303, 0.21740582802928607, 0.031092951848742546, 0.4663942777311382, 0.031092951848742546, 0.12437180739497018, 0.12437180739497018, 0.06218590369748509, 0.09327885554622764, 0.09327885554622764, 0.36944190614959316, 0.24629460409972878, 0.24629460409972878, 0.12314730204986439, 0.3715243330694457, 0.3715243330694457, 0.12384144435648191, 0.12384144435648191], \"Term\": [\"&lt;/b&gt\", \"&lt;/b&gt\", \"&lt;/b&gt\", \"&lt;/b&gt\", \"&lt;/b&gt\", \"39;s\", \"39;s\", \"39;s\", \"39;s\", \"39;s\", \"39;s\", \"39;s\", \"39;s\", \"39;s\", \"39;s\", \"airline\", \"airline\", \"airline\", \"airline\", \"announce\", \"announce\", \"announce\", \"announce\", \"avoid\", \"avoid\", \"bank\", \"bank\", \"bank\", \"battle\", \"battle\", \"battle\", \"battle\", \"big\", \"big\", \"big\", \"big\", \"board\", \"board\", \"board\", \"board\", \"bush\", \"bush\", \"bush\", \"bush\", \"business\", \"business\", \"business\", \"chief\", \"chief\", \"chief\", \"chief\", \"chief\", \"china\", \"china\", \"city\", \"city\", \"city\", \"city\", \"close\", \"close\", \"co.\", \"co.\", \"co.\", \"coach\", \"coach\", \"coach\", \"company\", \"company\", \"company\", \"company\", \"company\", \"company\", \"company\", \"company\", \"computer\", \"computer\", \"computer\", \"computer\", \"computer\", \"continue\", \"continue\", \"continue\", \"continue\", \"corp.\", \"corp.\", \"corp.\", \"corp.\", \"corp.\", \"corp.\", \"cost\", \"cost\", \"cost\", \"cost\", \"cost\", \"cost\", \"datum\", \"datum\", \"datum\", \"day\", \"day\", \"day\", \"day\", \"demand\", \"demand\", \"despite\", \"despite\", \"despite\", \"despite\", \"early\", \"early\", \"early\", \"earning\", \"earning\", \"earning\", \"earning\", \"east\", \"east\", \"east\", \"economy\", \"economy\", \"economy\", \"economy\", \"economy\", \"election\", \"election\", \"election\", \"election\", \"end\", \"end\", \"end\", \"end\", \"end\", \"end\", \"executive\", \"executive\", \"executive\", \"executive\", \"expect\", \"expect\", \"expect\", \"expect\", \"fall\", \"fall\", \"fall\", \"fall\", \"fall\", \"federal\", \"federal\", \"federal\", \"federal\", \"file\", \"file\", \"file\", \"file\", \"file\", \"final\", \"final\", \"final\", \"final\", \"find\", \"find\", \"find\", \"find\", \"find\", \"find\", \"follow\", \"follow\", \"follow\", \"follow\", \"football\", \"football\", \"football\", \"football\", \"francisco\", \"francisco\", \"francisco\", \"friday\", \"friday\", \"friday\", \"friday\", \"friday\", \"friday\", \"fuel\", \"fuel\", \"fuel\", \"game\", \"game\", \"game\", \"game\", \"get\", \"get\", \"get\", \"get\", \"get\", \"giant\", \"giant\", \"giant\", \"give\", \"give\", \"give\", \"give\", \"go\", \"go\", \"go\", \"gold\", \"gold\", \"good\", \"good\", \"good\", \"government\", \"government\", \"government\", \"government\", \"government\", \"group\", \"group\", \"group\", \"group\", \"group\", \"high\", \"high\", \"high\", \"high\", \"high\", \"hit\", \"hit\", \"hit\", \"hold\", \"hold\", \"hold\", \"home\", \"home\", \"home\", \"home\", \"inc.\", \"inc.\", \"inc.\", \"inc.\", \"inc.\", \"inc.\", \"inc.\", \"industry\", \"industry\", \"industry\", \"industry\", \"industry\", \"industry\", \"industry\", \"industry\", \"international\", \"international\", \"international\", \"internet\", \"internet\", \"internet\", \"internet\", \"internet\", \"internet\", \"late\", \"late\", \"late\", \"late\", \"late\", \"late\", \"launch\", \"launch\", \"launch\", \"lead\", \"lead\", \"lead\", \"lead\", \"league\", \"league\", \"league\", \"league\", \"leave\", \"leave\", \"leave\", \"leave\", \"low\", \"low\", \"low\", \"low\", \"lt;a\", \"lt;a\", \"lt;a\", \"lt;a\", \"lt;a\", \"lt;b&gt;\", \"lt;b&gt;\", \"lt;b&gt;\", \"lt;b&gt;\", \"lt;b&gt;\", \"maker\", \"maker\", \"maker\", \"maker\", \"maker\", \"maker\", \"maker\", \"man\", \"man\", \"man\", \"man\", \"microsoft\", \"microsoft\", \"microsoft\", \"monday\", \"monday\", \"monday\", \"monday\", \"month\", \"month\", \"month\", \"month\", \"month\", \"national\", \"national\", \"national\", \"need\", \"need\", \"need\", \"need\", \"network\", \"network\", \"network\", \"network\", \"new\", \"new\", \"new\", \"new\", \"new\", \"new\", \"new\", \"news\", \"news\", \"news\", \"news\", \"news\", \"night\", \"night\", \"night\", \"night\", \"night\", \"north\", \"north\", \"north\", \"north\", \"offer\", \"offer\", \"offer\", \"offer\", \"offer\", \"offer\", \"official\", \"official\", \"official\", \"official\", \"official\", \"official\", \"oil\", \"oil\", \"oil\", \"oil\", \"oil\", \"oil\", \"open\", \"open\", \"open\", \"open\", \"open\", \"open\", \"panel\", \"panel\", \"panel\", \"panel\", \"panel\", \"party\", \"party\", \"people\", \"people\", \"people\", \"people\", \"people\", \"percent\", \"percent\", \"percent\", \"percent\", \"percent\", \"percent\", \"plan\", \"plan\", \"plan\", \"plan\", \"player\", \"player\", \"player\", \"player\", \"post\", \"post\", \"president\", \"president\", \"president\", \"president\", \"president\", \"presidential\", \"presidential\", \"presidential\", \"presidential\", \"presidential\", \"price\", \"price\", \"price\", \"price\", \"profit\", \"profit\", \"profit\", \"profit\", \"quarter\", \"quarter\", \"quarter\", \"quarter\", \"quot\", \"quot\", \"quot\", \"quot\", \"raise\", \"raise\", \"raise\", \"raise\", \"relate\", \"relate\", \"relate\", \"release\", \"release\", \"release\", \"release\", \"report\", \"report\", \"report\", \"report\", \"report\", \"report\", \"report\", \"report\", \"report\", \"reuters\", \"reuters\", \"reuters\", \"reuters\", \"reuters\", \"reuters\", \"reuters\", \"right\", \"right\", \"right\", \"rise\", \"rise\", \"rise\", \"rise\", \"rise\", \"rival\", \"rival\", \"rival\", \"rival\", \"rival\", \"rival\", \"run\", \"run\", \"run\", \"sale\", \"sale\", \"sale\", \"sale\", \"sale\", \"san\", \"san\", \"san\", \"say\", \"say\", \"say\", \"say\", \"say\", \"say\", \"say\", \"school\", \"school\", \"school\", \"season\", \"season\", \"season\", \"season\", \"second\", \"second\", \"second\", \"second\", \"second\", \"second\", \"second\", \"see\", \"see\", \"see\", \"see\", \"service\", \"service\", \"service\", \"service\", \"set\", \"set\", \"set\", \"share\", \"share\", \"share\", \"show\", \"show\", \"show\", \"show\", \"software\", \"software\", \"software\", \"start\", \"start\", \"start\", \"start\", \"start\", \"start\", \"state\", \"state\", \"state\", \"stock\", \"stock\", \"stock\", \"stock\", \"stock\", \"stock\", \"stock\", \"sunday\", \"sunday\", \"sunday\", \"take\", \"take\", \"take\", \"take\", \"take\", \"takeover\", \"takeover\", \"takeover\", \"takeover\", \"takeover\", \"talk\", \"talk\", \"talk\", \"talk\", \"technology\", \"technology\", \"technology\", \"thursday\", \"thursday\", \"thursday\", \"thursday\", \"thursday\", \"time\", \"time\", \"time\", \"time\", \"today\", \"today\", \"today\", \"today\", \"tuesday\", \"tuesday\", \"tuesday\", \"tuesday\", \"tuesday\", \"tuesday\", \"turn\", \"turn\", \"turn\", \"turn\", \"u.s.\", \"u.s.\", \"u.s.\", \"u.s.\", \"update\", \"update\", \"update\", \"user\", \"user\", \"victory\", \"victory\", \"victory\", \"vote\", \"vote\", \"vote\", \"want\", \"want\", \"want\", \"way\", \"way\", \"way\", \"wednesday\", \"wednesday\", \"wednesday\", \"wednesday\", \"wednesday\", \"wednesday\", \"week\", \"week\", \"week\", \"week\", \"week\", \"win\", \"win\", \"win\", \"win\", \"win\", \"win\", \"work\", \"work\", \"work\", \"work\", \"work\", \"work\", \"world\", \"world\", \"world\", \"world\", \"world\", \"world\", \"year\", \"year\", \"year\", \"year\", \"year\", \"year\", \"year\", \"year\", \"yesterday\", \"yesterday\", \"yesterday\", \"yesterday\", \"york\", \"york\", \"york\", \"york\"]}, \"R\": 30, \"lambda.step\": 0.01, \"plot.opts\": {\"xlab\": \"PC1\", \"ylab\": \"PC2\"}, \"topic.order\": [8, 7, 1, 10, 2, 4, 3, 9, 6, 5]};\n",
              "\n",
              "function LDAvis_load_lib(url, callback){\n",
              "  var s = document.createElement('script');\n",
              "  s.src = url;\n",
              "  s.async = true;\n",
              "  s.onreadystatechange = s.onload = callback;\n",
              "  s.onerror = function(){console.warn(\"failed to load library \" + url);};\n",
              "  document.getElementsByTagName(\"head\")[0].appendChild(s);\n",
              "}\n",
              "\n",
              "if(typeof(LDAvis) !== \"undefined\"){\n",
              "   // already loaded: just create the visualization\n",
              "   !function(LDAvis){\n",
              "       new LDAvis(\"#\" + \"ldavis_el738813915872008002570167390\", ldavis_el738813915872008002570167390_data);\n",
              "   }(LDAvis);\n",
              "}else if(typeof define === \"function\" && define.amd){\n",
              "   // require.js is available: use it to load d3/LDAvis\n",
              "   require.config({paths: {d3: \"https://d3js.org/d3.v5\"}});\n",
              "   require([\"d3\"], function(d3){\n",
              "      window.d3 = d3;\n",
              "      LDAvis_load_lib(\"https://cdn.jsdelivr.net/gh/bmabey/pyLDAvis@3.2.2/pyLDAvis/js/ldavis.v3.0.0.js\", function(){\n",
              "        new LDAvis(\"#\" + \"ldavis_el738813915872008002570167390\", ldavis_el738813915872008002570167390_data);\n",
              "      });\n",
              "    });\n",
              "}else{\n",
              "    // require.js not available: dynamically load d3 & LDAvis\n",
              "    LDAvis_load_lib(\"https://d3js.org/d3.v5.js\", function(){\n",
              "         LDAvis_load_lib(\"https://cdn.jsdelivr.net/gh/bmabey/pyLDAvis@3.2.2/pyLDAvis/js/ldavis.v3.0.0.js\", function(){\n",
              "                 new LDAvis(\"#\" + \"ldavis_el738813915872008002570167390\", ldavis_el738813915872008002570167390_data);\n",
              "            })\n",
              "         });\n",
              "}\n",
              "</script>"
            ],
            "text/plain": [
              "PreparedData(topic_coordinates=              x         y  topics  cluster       Freq\n",
              "topic                                                \n",
              "7     -0.046006  0.038267       1        1  15.046913\n",
              "6      0.068874 -0.028777       2        1  13.417062\n",
              "0      0.001749 -0.055948       3        1  13.371937\n",
              "9     -0.111305 -0.012101       4        1  12.428499\n",
              "1     -0.115376 -0.033553       5        1   9.358025\n",
              "3      0.038804  0.119145       6        1   8.433239\n",
              "2      0.017962  0.157913       7        1   7.747143\n",
              "8      0.094741 -0.087398       8        1   7.494351\n",
              "5     -0.080908 -0.057760       9        1   7.488942\n",
              "4      0.131465 -0.039787      10        1   5.213890, topic_info=         Term       Freq      Total Category  logprob  loglift\n",
              "16       year  32.000000  32.000000  Default  30.0000  30.0000\n",
              "76      price  12.000000  12.000000  Default  29.0000  29.0000\n",
              "74       gold   9.000000   9.000000  Default  28.0000  28.0000\n",
              "3         say  43.000000  43.000000  Default  27.0000  27.0000\n",
              "9        high  15.000000  15.000000  Default  26.0000  26.0000\n",
              "..        ...        ...        ...      ...      ...      ...\n",
              "3         say   1.956107  43.080861  Topic10  -3.5696  -0.1383\n",
              "31    economy   1.034780  10.887380  Topic10  -4.2064   0.6004\n",
              "60  wednesday   1.029171  15.896319  Topic10  -4.2118   0.2165\n",
              "14     report   1.020791  15.475868  Topic10  -4.2200   0.2351\n",
              "86       fall   1.020776  10.592667  Topic10  -4.2200   0.6142\n",
              "\n",
              "[409 rows x 6 columns], token_table=      Topic      Freq       Term\n",
              "term                            \n",
              "132       3  0.184495  &lt;/b&gt\n",
              "132       5  0.184495  &lt;/b&gt\n",
              "132       6  0.184495  &lt;/b&gt\n",
              "132       8  0.184495  &lt;/b&gt\n",
              "132      10  0.184495  &lt;/b&gt\n",
              "...     ...       ...        ...\n",
              "82        9  0.123147  yesterday\n",
              "117       3  0.371524       york\n",
              "117       4  0.371524       york\n",
              "117       7  0.123841       york\n",
              "117       8  0.123841       york\n",
              "\n",
              "[645 rows x 3 columns], R=30, lambda_step=0.01, plot_opts={'xlab': 'PC1', 'ylab': 'PC2'}, topic_order=[8, 7, 1, 10, 2, 4, 3, 9, 6, 5])"
            ]
          },
          "execution_count": 288,
          "metadata": {},
          "output_type": "execute_result"
        }
      ],
      "source": [
        "#!pip install pyLDAvis\n",
        "import pyLDAvis.gensim\n",
        "from gensim.models import wrappers\n",
        "\n",
        "##TODO using LDAvis visualize the topics using the optimal number of topics\n",
        "\n",
        "pyLDAvis.enable_notebook()\n",
        "pyLDAvis.gensim.prepare(lda, doc_term_matrix, dictionary)"
      ]
    }
  ],
  "metadata": {
    "colab": {
      "provenance": []
    },
    "kernelspec": {
      "display_name": "Python 3",
      "language": "python",
      "name": "python3"
    },
    "language_info": {
      "codemirror_mode": {
        "name": "ipython",
        "version": 3
      },
      "file_extension": ".py",
      "mimetype": "text/x-python",
      "name": "python",
      "nbconvert_exporter": "python",
      "pygments_lexer": "ipython3",
      "version": "3.8.16"
    }
  },
  "nbformat": 4,
  "nbformat_minor": 5
}
