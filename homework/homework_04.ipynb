{
  "cells": [
    {
      "cell_type": "markdown",
      "id": "d21e1ead",
      "metadata": {
        "id": "d21e1ead"
      },
      "source": [
        "# HW04: ML and DL"
      ]
    },
    {
      "cell_type": "markdown",
      "id": "680d1f0b",
      "metadata": {
        "id": "680d1f0b"
      },
      "source": [
        "Remember that these homework work as a completion grade. **You can skip one section without losing credit.**"
      ]
    },
    {
      "cell_type": "markdown",
      "id": "c9bf38c8",
      "metadata": {
        "id": "c9bf38c8"
      },
      "source": [
        "## Load and Pre-process Text\n",
        "We do sentiment analysis on the [Movie Review Data](https://www.cs.cornell.edu/people/pabo/movie-review-data/). If you would like to know more about the data, have a look at [the paper](https://www.cs.cornell.edu/home/llee/papers/pang-lee-stars.pdf) (but no need to do so)."
      ]
    },
    {
      "cell_type": "code",
      "execution_count": 2,
      "id": "21439804",
      "metadata": {
        "colab": {
          "base_uri": "https://localhost:8080/"
        },
        "id": "21439804",
        "outputId": "8bc71d0e-792d-4fbe-8081-bcf983a25261"
      },
      "outputs": [
        {
          "name": "stdout",
          "output_type": "stream",
          "text": [
            "--2023-03-23 14:03:30--  https://www.cs.cornell.edu/people/pabo/movie-review-data/scale_data.tar.gz\n",
            "Resolving www.cs.cornell.edu (www.cs.cornell.edu)... 132.236.207.36\n",
            "Connecting to www.cs.cornell.edu (www.cs.cornell.edu)|132.236.207.36|:443... connected.\n",
            "HTTP request sent, awaiting response... 200 OK\n",
            "Length: 4029756 (3.8M) [application/x-gzip]\n",
            "Saving to: ‘scale_data.tar.gz’\n",
            "\n",
            "scale_data.tar.gz   100%[===================>]   3.84M  5.67MB/s    in 0.7s    \n",
            "\n",
            "2023-03-23 14:03:31 (5.67 MB/s) - ‘scale_data.tar.gz’ saved [4029756/4029756]\n",
            "\n",
            "--2023-03-23 14:03:31--  https://www.cs.cornell.edu/people/pabo/movie-review-data/scale_whole_review.tar.gz\n",
            "Resolving www.cs.cornell.edu (www.cs.cornell.edu)... 132.236.207.36\n",
            "Connecting to www.cs.cornell.edu (www.cs.cornell.edu)|132.236.207.36|:443... connected.\n",
            "HTTP request sent, awaiting response... 200 OK\n",
            "Length: 8853204 (8.4M) [application/x-gzip]\n",
            "Saving to: ‘scale_whole_review.tar.gz’\n",
            "\n",
            "scale_whole_review. 100%[===================>]   8.44M  10.9MB/s    in 0.8s    \n",
            "\n",
            "2023-03-23 14:03:32 (10.9 MB/s) - ‘scale_whole_review.tar.gz’ saved [8853204/8853204]\n",
            "\n"
          ]
        }
      ],
      "source": [
        "# In this tutorial, we do sentiment analysis\n",
        "# download the data\n",
        "#!wget https://ai.stanford.edu/~amaas/data/sentiment/aclImdb_v1.tar.gz\n",
        "#!tar xf aclImdb_v1.tar.gz\n",
        "\n",
        "# Download only worked with --no-check-certificate -> check website manually first!\n",
        "!wget https://www.cs.cornell.edu/people/pabo/movie-review-data/scale_data.tar.gz # --no-check-certificate\n",
        "!wget https://www.cs.cornell.edu/people/pabo/movie-review-data/scale_whole_review.tar.gz # --no-check-certificate\n",
        " \n",
        "!tar xf scale_data.tar.gz \n",
        "!tar xf scale_whole_review.tar.gz"
      ]
    },
    {
      "cell_type": "markdown",
      "id": "d685ef2e",
      "metadata": {
        "id": "d685ef2e"
      },
      "source": [
        "First, we have to load the data for which we provide the function below. Note how we also preprocess the text using gensim's simple_preprocess() function and how we already split the data into a train and test split."
      ]
    },
    {
      "cell_type": "code",
      "execution_count": 3,
      "id": "a18a238d",
      "metadata": {
        "colab": {
          "base_uri": "https://localhost:8080/"
        },
        "id": "a18a238d",
        "outputId": "422dba4d-c2a4-46c5-c8f5-efb8384988af"
      },
      "outputs": [
        {
          "name": "stdout",
          "output_type": "stream",
          "text": [
            "text: stanley ipkiss whose letter to the local paper signed nice guys finish last had generated torrent of replies the year before has been undergoing change lately bank clerk ipkiss played with sweet sincerity by jim carrey discovers mask that like dr jekyll potion temporarily creates an all new person to understand how the mask works he turns to masks that people wear expert named dr neuman played with dripping sincerity and dead pan humor by ben stein although the doctor proves useless stanley finally discovers for himself what the mask does it magnifies your inner desires since ipkiss is an incurable romantic who spends his free time watching cartoons it is inevitable that the mask turns him into the world greatest lover and song and dance man after avoiding carrey for years was blown away by his performance in liar liar one of this year funniest films since the mask in was the movie that really launched his film career suggested we check it out one evening on vacation with the help of realistic and colorful special effects carrey as the mask struts his stuff non stop when he meets his heart throb cameron diaz in her film debut as blond bombshell tina carlyle at nightclub his heart jumps out of his body and his jaw drops open far enough for yard long tongue to drool out carrey shows off his ability to impersonate countless other actors and reenact their most famous scenes when trapped by bad guys with machine guns he pulls out two cartoonish cannon like guns with dozen barrels each you have to ask yourself question he warns with soft clint eastwood voice do feel lucky ha nguyen stream of elaborate costumes for the mask sets the tone for all of the mask emotions when the mask is trapped by an army of police he switches to latin costume and soon has everyone formed into singing and dancing conga line in highly imaginative film the only surprise is how slowly director chuck russell paces the non mask scenes although it never got the belly laughs out of me that liar liar did the mask delivers some well choreographed numbers and displays carrey talents well still must confess that my favorite character in the film was not stanley but milo his little pooch why cute animals like max who plays milo do not get more acting roles in the movies remains mystery the mask runs it is rated pg for some cartoonish violence and some profanity most of it is so mild that the film should be fine for kids around and up my son jeffrey age thought the show was really good and funny recommend the picture to you and give it must see film excellent show look for it average movie kind of enjoyable poor show don waste your money totally and painfully unbearable picture review written on july opinions expressed are mine and not meant to reflect my employer \n",
            "label: 0.7\n"
          ]
        }
      ],
      "source": [
        "import os\n",
        "from gensim.utils import simple_preprocess\n",
        "def load_data():\n",
        "    examples, labels = [], []\n",
        "    authors = os.listdir(\"scale_whole_review\")\n",
        "    for author in authors:\n",
        "        path = os.listdir(os.path.join(\"scale_whole_review\", author, \"txt.parag\"))\n",
        "        fn_ids = os.path.join(\"scaledata\", author, \"id.\" + author)\n",
        "        fn_ratings = os.path.join(\"scaledata\", author, \"rating.\" + author)\n",
        "        with open(fn_ids) as ids, open(fn_ratings) as ratings:\n",
        "            for idx, rating in zip(ids, ratings):\n",
        "                labels.append(float(rating.strip()))\n",
        "                filename_text = os.path.join(\"scale_whole_review\", author, \"txt.parag\", idx.strip() + \".txt\")\n",
        "                with open(filename_text, encoding='latin-1') as f:\n",
        "                    examples.append(\" \".join(simple_preprocess(f.read())))\n",
        "    return examples, labels\n",
        "                  \n",
        "X,y  = load_data()\n",
        "from sklearn.model_selection import train_test_split\n",
        "X_train, X_test, y_train, y_test = train_test_split(X, y, test_size=0.33, random_state=42)\n",
        "print (\"text:\", X_train[0], \"\\nlabel:\", y_train[0])"
      ]
    },
    {
      "cell_type": "markdown",
      "id": "284033cf",
      "metadata": {
        "id": "284033cf"
      },
      "source": [
        "## Vectorize the data"
      ]
    },
    {
      "cell_type": "code",
      "execution_count": 4,
      "id": "09aff185",
      "metadata": {
        "id": "09aff185"
      },
      "outputs": [],
      "source": [
        "# train a TF_IDF Vectorizer on X_train and vectorize X_train and X_test\n",
        "from sklearn.feature_extraction.text import TfidfVectorizer\n",
        "\n",
        "vec = TfidfVectorizer(min_df=0.01, # at min 1% of docs\n",
        "                        max_df=.5,  \n",
        "                        stop_words='english',\n",
        "                        ngram_range=(1,2))\n",
        "\n",
        "##TODO train vectorizer\n",
        "fitted_vectorizer = vec.fit(X_train)\n",
        "\n",
        "##TODO transform X_train to TF-IDF values\n",
        "X_train_tfidf = fitted_vectorizer.transform(X_train)\n",
        "\n",
        "##TODO transform X_test to TF-IDF values\n",
        "X_test_tfidf = fitted_vectorizer.transform(X_test)"
      ]
    },
    {
      "cell_type": "code",
      "execution_count": 5,
      "id": "a58961ef",
      "metadata": {
        "colab": {
          "base_uri": "https://localhost:8080/",
          "height": 424
        },
        "id": "a58961ef",
        "outputId": "eb5a7bb0-4b9c-4a6e-f863-c5f426c9daef"
      },
      "outputs": [
        {
          "data": {
            "text/html": [
              "\n",
              "  <div id=\"df-26c2b8df-ca73-4db9-94d5-446eaf20f774\">\n",
              "    <div class=\"colab-df-container\">\n",
              "      <div>\n",
              "<style scoped>\n",
              "    .dataframe tbody tr th:only-of-type {\n",
              "        vertical-align: middle;\n",
              "    }\n",
              "\n",
              "    .dataframe tbody tr th {\n",
              "        vertical-align: top;\n",
              "    }\n",
              "\n",
              "    .dataframe thead th {\n",
              "        text-align: right;\n",
              "    }\n",
              "</style>\n",
              "<table border=\"1\" class=\"dataframe\">\n",
              "  <thead>\n",
              "    <tr style=\"text-align: right;\">\n",
              "      <th></th>\n",
              "      <th>tfidf</th>\n",
              "    </tr>\n",
              "  </thead>\n",
              "  <tbody>\n",
              "    <tr>\n",
              "      <th>daughter</th>\n",
              "      <td>0.368164</td>\n",
              "    </tr>\n",
              "    <tr>\n",
              "      <th>pierce</th>\n",
              "      <td>0.350042</td>\n",
              "    </tr>\n",
              "    <tr>\n",
              "      <th>joan</th>\n",
              "      <td>0.223164</td>\n",
              "    </tr>\n",
              "    <tr>\n",
              "      <th>rotten</th>\n",
              "      <td>0.164732</td>\n",
              "    </tr>\n",
              "    <tr>\n",
              "      <th>rt</th>\n",
              "      <td>0.126629</td>\n",
              "    </tr>\n",
              "    <tr>\n",
              "      <th>...</th>\n",
              "      <td>...</td>\n",
              "    </tr>\n",
              "    <tr>\n",
              "      <th>flavor</th>\n",
              "      <td>0.000000</td>\n",
              "    </tr>\n",
              "    <tr>\n",
              "      <th>flat</th>\n",
              "      <td>0.000000</td>\n",
              "    </tr>\n",
              "    <tr>\n",
              "      <th>flashy</th>\n",
              "      <td>0.000000</td>\n",
              "    </tr>\n",
              "    <tr>\n",
              "      <th>flashes</th>\n",
              "      <td>0.000000</td>\n",
              "    </tr>\n",
              "    <tr>\n",
              "      <th>youthful</th>\n",
              "      <td>0.000000</td>\n",
              "    </tr>\n",
              "  </tbody>\n",
              "</table>\n",
              "<p>5611 rows × 1 columns</p>\n",
              "</div>\n",
              "      <button class=\"colab-df-convert\" onclick=\"convertToInteractive('df-26c2b8df-ca73-4db9-94d5-446eaf20f774')\"\n",
              "              title=\"Convert this dataframe to an interactive table.\"\n",
              "              style=\"display:none;\">\n",
              "        \n",
              "  <svg xmlns=\"http://www.w3.org/2000/svg\" height=\"24px\"viewBox=\"0 0 24 24\"\n",
              "       width=\"24px\">\n",
              "    <path d=\"M0 0h24v24H0V0z\" fill=\"none\"/>\n",
              "    <path d=\"M18.56 5.44l.94 2.06.94-2.06 2.06-.94-2.06-.94-.94-2.06-.94 2.06-2.06.94zm-11 1L8.5 8.5l.94-2.06 2.06-.94-2.06-.94L8.5 2.5l-.94 2.06-2.06.94zm10 10l.94 2.06.94-2.06 2.06-.94-2.06-.94-.94-2.06-.94 2.06-2.06.94z\"/><path d=\"M17.41 7.96l-1.37-1.37c-.4-.4-.92-.59-1.43-.59-.52 0-1.04.2-1.43.59L10.3 9.45l-7.72 7.72c-.78.78-.78 2.05 0 2.83L4 21.41c.39.39.9.59 1.41.59.51 0 1.02-.2 1.41-.59l7.78-7.78 2.81-2.81c.8-.78.8-2.07 0-2.86zM5.41 20L4 18.59l7.72-7.72 1.47 1.35L5.41 20z\"/>\n",
              "  </svg>\n",
              "      </button>\n",
              "      \n",
              "  <style>\n",
              "    .colab-df-container {\n",
              "      display:flex;\n",
              "      flex-wrap:wrap;\n",
              "      gap: 12px;\n",
              "    }\n",
              "\n",
              "    .colab-df-convert {\n",
              "      background-color: #E8F0FE;\n",
              "      border: none;\n",
              "      border-radius: 50%;\n",
              "      cursor: pointer;\n",
              "      display: none;\n",
              "      fill: #1967D2;\n",
              "      height: 32px;\n",
              "      padding: 0 0 0 0;\n",
              "      width: 32px;\n",
              "    }\n",
              "\n",
              "    .colab-df-convert:hover {\n",
              "      background-color: #E2EBFA;\n",
              "      box-shadow: 0px 1px 2px rgba(60, 64, 67, 0.3), 0px 1px 3px 1px rgba(60, 64, 67, 0.15);\n",
              "      fill: #174EA6;\n",
              "    }\n",
              "\n",
              "    [theme=dark] .colab-df-convert {\n",
              "      background-color: #3B4455;\n",
              "      fill: #D2E3FC;\n",
              "    }\n",
              "\n",
              "    [theme=dark] .colab-df-convert:hover {\n",
              "      background-color: #434B5C;\n",
              "      box-shadow: 0px 1px 3px 1px rgba(0, 0, 0, 0.15);\n",
              "      filter: drop-shadow(0px 1px 2px rgba(0, 0, 0, 0.3));\n",
              "      fill: #FFFFFF;\n",
              "    }\n",
              "  </style>\n",
              "\n",
              "      <script>\n",
              "        const buttonEl =\n",
              "          document.querySelector('#df-26c2b8df-ca73-4db9-94d5-446eaf20f774 button.colab-df-convert');\n",
              "        buttonEl.style.display =\n",
              "          google.colab.kernel.accessAllowed ? 'block' : 'none';\n",
              "\n",
              "        async function convertToInteractive(key) {\n",
              "          const element = document.querySelector('#df-26c2b8df-ca73-4db9-94d5-446eaf20f774');\n",
              "          const dataTable =\n",
              "            await google.colab.kernel.invokeFunction('convertToInteractive',\n",
              "                                                     [key], {});\n",
              "          if (!dataTable) return;\n",
              "\n",
              "          const docLinkHtml = 'Like what you see? Visit the ' +\n",
              "            '<a target=\"_blank\" href=https://colab.research.google.com/notebooks/data_table.ipynb>data table notebook</a>'\n",
              "            + ' to learn more about interactive tables.';\n",
              "          element.innerHTML = '';\n",
              "          dataTable['output_type'] = 'display_data';\n",
              "          await google.colab.output.renderOutput(dataTable, element);\n",
              "          const docLink = document.createElement('div');\n",
              "          docLink.innerHTML = docLinkHtml;\n",
              "          element.appendChild(docLink);\n",
              "        }\n",
              "      </script>\n",
              "    </div>\n",
              "  </div>\n",
              "  "
            ],
            "text/plain": [
              "             tfidf\n",
              "daughter  0.368164\n",
              "pierce    0.350042\n",
              "joan      0.223164\n",
              "rotten    0.164732\n",
              "rt        0.126629\n",
              "...            ...\n",
              "flavor    0.000000\n",
              "flat      0.000000\n",
              "flashy    0.000000\n",
              "flashes   0.000000\n",
              "youthful  0.000000\n",
              "\n",
              "[5611 rows x 1 columns]"
            ]
          },
          "execution_count": 5,
          "metadata": {},
          "output_type": "execute_result"
        }
      ],
      "source": [
        "import pandas as pd\n",
        "\n",
        "# get the first vector out (for the first document)\n",
        "first_vector_tfidfvectorizer = X_test_tfidf[0]\n",
        "\n",
        "df2 = pd.DataFrame(first_vector_tfidfvectorizer.T.todense(), index = fitted_vectorizer.get_feature_names_out(), columns = [\"tfidf\"])\n",
        "df2.sort_values(by = [\"tfidf\"], ascending = False)"
      ]
    },
    {
      "cell_type": "code",
      "execution_count": 6,
      "id": "58d44dbb",
      "metadata": {
        "id": "58d44dbb"
      },
      "outputs": [],
      "source": [
        "##TODO scale both training and test data with the standard scaler\n",
        "from sklearn.preprocessing import StandardScaler\n",
        "scaler = StandardScaler(with_mean=False)\n",
        "\n",
        "X_train_scale = scaler.fit_transform(X_train_tfidf)\n",
        "X_test_scale = scaler.transform(X_test_tfidf) # use the same scaling and shifting operation as with the train data "
      ]
    },
    {
      "cell_type": "markdown",
      "id": "ad9d8a57",
      "metadata": {
        "id": "ad9d8a57"
      },
      "source": [
        "## ElasticNet"
      ]
    },
    {
      "cell_type": "code",
      "execution_count": 7,
      "id": "1e5f4520",
      "metadata": {
        "colab": {
          "base_uri": "https://localhost:8080/"
        },
        "id": "1e5f4520",
        "outputId": "d6a0e8f3-2415-45c5-ec36-a126fac38ac1"
      },
      "outputs": [
        {
          "name": "stdout",
          "output_type": "stream",
          "text": [
            "0.016478059799741315\n",
            "0.48565901987142357\n"
          ]
        }
      ],
      "source": [
        "##TODO train an elastic net on the transformed output of the scaler\n",
        "from sklearn.linear_model import ElasticNet\n",
        "\n",
        "en = ElasticNet(alpha=0.01)\n",
        "\n",
        "##TODO train the ElasticNet\n",
        "en.fit(X_train_scale, y_train)\n",
        "\n",
        "##TODO predict the testset\n",
        "y_test_pred = en.predict(X_test_scale)\n",
        "\n",
        "##TODO print mean squared error and r2 score on the test set\n",
        "from sklearn.metrics import r2_score, accuracy_score, mean_squared_error, balanced_accuracy_score\n",
        "\n",
        "test_mse = mean_squared_error(y_test, y_test_pred)\n",
        "print(test_mse)\n",
        "\n",
        "test_r2 = r2_score(y_test, y_test_pred)\n",
        "print(test_r2)"
      ]
    },
    {
      "cell_type": "code",
      "execution_count": 8,
      "id": "7848b2f5",
      "metadata": {
        "colab": {
          "base_uri": "https://localhost:8080/",
          "height": 472
        },
        "id": "7848b2f5",
        "outputId": "d48c6785-765d-400b-e1bd-5ba55243b2bc"
      },
      "outputs": [
        {
          "data": {
            "text/plain": [
              "<seaborn.axisgrid.JointGrid at 0x7fa6a10c5430>"
            ]
          },
          "execution_count": 8,
          "metadata": {},
          "output_type": "execute_result"
        },
        {
          "data": {
            "image/png": "[encoded data removed]",
            "text/plain": [
              "<Figure size 432x432 with 3 Axes>"
            ]
          },
          "metadata": {
            "needs_background": "light"
          },
          "output_type": "display_data"
        }
      ],
      "source": [
        "import seaborn as sns\n",
        "\n",
        "p = sns.jointplot(x= y_test, y= y_test_pred, kind='reg')\n",
        "p.set_axis_labels('Ratings', 'Predicted ratings', fontsize=10)"
      ]
    },
    {
      "cell_type": "markdown",
      "id": "872d1ef8",
      "metadata": {
        "id": "872d1ef8"
      },
      "source": [
        "## Logistic Regression"
      ]
    },
    {
      "cell_type": "markdown",
      "id": "27e2756e",
      "metadata": {
        "id": "27e2756e"
      },
      "source": [
        "Next, we train an OLS model doing binary prediction on these movie reviews. Two get two bins, we transform the continuous ratings into two classes, where one class contains all the negative ratings (value < 0.5), the other class all the positive ratings (value > 0.5)"
      ]
    },
    {
      "cell_type": "code",
      "execution_count": 9,
      "id": "9cbd752c",
      "metadata": {
        "id": "9cbd752c"
      },
      "outputs": [],
      "source": [
        "y_train = [1 if i >= 0.5 else 0 for i in y_train]\n",
        "y_test = [1 if i >= 0.5 else 0 for i in y_test]"
      ]
    },
    {
      "cell_type": "code",
      "execution_count": 10,
      "id": "2c2c239d",
      "metadata": {
        "colab": {
          "base_uri": "https://localhost:8080/"
        },
        "id": "2c2c239d",
        "outputId": "712055eb-fd5c-476d-f22e-f3214036484c"
      },
      "outputs": [
        {
          "name": "stdout",
          "output_type": "stream",
          "text": [
            "Accuracy: 0.8153753026634383\n"
          ]
        }
      ],
      "source": [
        "##TODO train logistic regression on X_train\n",
        "from sklearn.linear_model import LogisticRegression\n",
        "logistic_regression = LogisticRegression(max_iter=500)\n",
        "\n",
        "##TODO train a logistic regression\n",
        "logistic_regression.fit(X_train_scale, y_train)\n",
        "\n",
        "##TODO predict the testset \n",
        "y_test_pred = logistic_regression.predict(X_test_scale)\n",
        "\n",
        "##since we have continuous output, we need to post-process our labels into two classes. We choose a threshold of 0.5 \n",
        "def map_predictions(predicted):\n",
        "    predicted = [1 if i > 0.5 else 0 for i in predicted]\n",
        "    return predicted\n",
        "y_test_pred_binary = map_predictions(y_test_pred)\n",
        "\n",
        "##TODO print the accuracy of our classifier on the testset\n",
        "accuracy_mse = accuracy_score(y_test, y_test_pred_binary)\n",
        "print(\"Accuracy:\", accuracy_mse)"
      ]
    },
    {
      "cell_type": "code",
      "execution_count": 11,
      "id": "7761588f",
      "metadata": {
        "colab": {
          "base_uri": "https://localhost:8080/"
        },
        "id": "7761588f",
        "outputId": "d7d38424-90d8-42e7-c2a8-2566e977464b"
      },
      "outputs": [
        {
          "name": "stdout",
          "output_type": "stream",
          "text": [
            "Top 10 most informative words:\n",
            "bad :  -0.25926751954880123\n",
            "uninteresting :  -0.23980993814358967\n",
            "boring :  -0.23240890354371038\n",
            "lifeless :  -0.2247158191159076\n",
            "unfunny :  -0.22318139284155042\n",
            "dumb :  -0.22062402575113682\n",
            "ridiculous :  -0.21428779435990608\n",
            "lame :  -0.2142073821932898\n",
            "success :  0.20775176439957313\n",
            "worst :  -0.20722817798782792\n"
          ]
        }
      ],
      "source": [
        "## TODO print the 10 most informative words of the regression (the 10 words having the highest coefficients)\n",
        "coefficients = logistic_regression.coef_[0]\n",
        "\n",
        "# get the feature names from the TfidfVectorizer object\n",
        "feature_names = vec.get_feature_names_out()\n",
        "\n",
        "# create a list of (feature, coefficient) pairs and sort the list\n",
        "features_coefficients = list(zip(feature_names, coefficients))\n",
        "features_coefficients = sorted(features_coefficients, key=lambda x: abs(x[1]), reverse=True)\n",
        "\n",
        "# top 10 most informative words\n",
        "print(\"Top 10 most informative words:\")\n",
        "for feature, coefficient in features_coefficients[:10]:\n",
        "    print(feature, \": \", coefficient)"
      ]
    },
    {
      "cell_type": "markdown",
      "id": "3hNKx6fUGgCL",
      "metadata": {
        "id": "3hNKx6fUGgCL"
      },
      "source": [
        "# Deep Learning"
      ]
    },
    {
      "cell_type": "markdown",
      "id": "d0a6bc62",
      "metadata": {
        "id": "d0a6bc62"
      },
      "source": [
        "## MLP"
      ]
    },
    {
      "cell_type": "code",
      "execution_count": 12,
      "id": "ueplJsWuS_zl",
      "metadata": {
        "colab": {
          "base_uri": "https://localhost:8080/"
        },
        "id": "ueplJsWuS_zl",
        "outputId": "4dd65dbd-c96e-4dc6-b3b5-f96b5eb088af"
      },
      "outputs": [
        {
          "name": "stdout",
          "output_type": "stream",
          "text": [
            "--2023-03-23 14:04:00--  https://raw.githubusercontent.com/mhjabreel/CharCnn_Keras/master/data/ag_news_csv/train.csv\n",
            "Resolving raw.githubusercontent.com (raw.githubusercontent.com)... 185.199.110.133, 185.199.111.133, 185.199.108.133, ...\n",
            "Connecting to raw.githubusercontent.com (raw.githubusercontent.com)|185.199.110.133|:443... connected.\n",
            "HTTP request sent, awaiting response... 200 OK\n",
            "Length: 29470338 (28M) [text/plain]\n",
            "Saving to: ‘train.csv’\n",
            "\n",
            "train.csv           100%[===================>]  28.10M  --.-KB/s    in 0.1s    \n",
            "\n",
            "2023-03-23 14:04:02 (206 MB/s) - ‘train.csv’ saved [29470338/29470338]\n",
            "\n"
          ]
        }
      ],
      "source": [
        "#Import the AG news dataset (same as hw01)\n",
        "#Download them from here \n",
        "!wget https://raw.githubusercontent.com/mhjabreel/CharCnn_Keras/master/data/ag_news_csv/train.csv\n",
        "\n",
        "import pandas as pd\n",
        "import nltk\n",
        "df = pd.read_csv('train.csv')\n",
        "\n",
        "df.columns = [\"label\", \"title\", \"lead\"]\n",
        "label_map = {1:\"world\", 2:\"sport\", 3:\"business\", 4:\"sci/tech\"}\n",
        "def replace_label(x):\n",
        "\treturn label_map[x]\n",
        "df[\"label\"] = df[\"label\"].apply(replace_label) \n",
        "df[\"text\"] = df[\"title\"] + \" \" + df[\"lead\"]\n",
        "df = df.sample(n=10000) # # only use 10K datapoints"
      ]
    },
    {
      "cell_type": "code",
      "execution_count": 13,
      "id": "df6ZVZfDTBwH",
      "metadata": {
        "colab": {
          "base_uri": "https://localhost:8080/"
        },
        "id": "df6ZVZfDTBwH",
        "outputId": "8c24315d-1a0b-4512-fdff-86defc3a07cb"
      },
      "outputs": [
        {
          "data": {
            "text/plain": [
              "41683     0\n",
              "93129     1\n",
              "83519     0\n",
              "109737    0\n",
              "63190     1\n",
              "Name: business, dtype: int64"
            ]
          },
          "execution_count": 13,
          "metadata": {},
          "output_type": "execute_result"
        }
      ],
      "source": [
        "# create a new variable \"business\" that takes value 1 if the label is business and 0 otherwise\n",
        "df['business'] = df['label'].apply(lambda x: int(x=='business'))\n",
        "y = df['business'].values\n",
        "df['business'].head()"
      ]
    },
    {
      "cell_type": "code",
      "execution_count": 14,
      "id": "7CFbsYDMTCTt",
      "metadata": {
        "colab": {
          "base_uri": "https://localhost:8080/",
          "height": 337
        },
        "id": "7CFbsYDMTCTt",
        "outputId": "66cc98f4-8c53-4ef4-d596-25a50c2f94d7"
      },
      "outputs": [
        {
          "data": {
            "text/html": [
              "\n",
              "  <div id=\"df-fe916104-d92a-400a-b47f-8055e32662c1\">\n",
              "    <div class=\"colab-df-container\">\n",
              "      <div>\n",
              "<style scoped>\n",
              "    .dataframe tbody tr th:only-of-type {\n",
              "        vertical-align: middle;\n",
              "    }\n",
              "\n",
              "    .dataframe tbody tr th {\n",
              "        vertical-align: top;\n",
              "    }\n",
              "\n",
              "    .dataframe thead th {\n",
              "        text-align: right;\n",
              "    }\n",
              "</style>\n",
              "<table border=\"1\" class=\"dataframe\">\n",
              "  <thead>\n",
              "    <tr style=\"text-align: right;\">\n",
              "      <th></th>\n",
              "      <th>label</th>\n",
              "      <th>title</th>\n",
              "      <th>lead</th>\n",
              "      <th>text</th>\n",
              "      <th>business</th>\n",
              "      <th>tokens</th>\n",
              "      <th>preprocessed</th>\n",
              "    </tr>\n",
              "  </thead>\n",
              "  <tbody>\n",
              "    <tr>\n",
              "      <th>41683</th>\n",
              "      <td>world</td>\n",
              "      <td>Ford Launches Its All-New 2005 Mustang</td>\n",
              "      <td>DETROIT - Ford Motor Co. launched its all-new ...</td>\n",
              "      <td>Ford Launches Its All-New 2005 Mustang DETROIT...</td>\n",
              "      <td>0</td>\n",
              "      <td>[ford, launches, new, mustang, detroit, ford, ...</td>\n",
              "      <td>ford launches new mustang detroit ford motor c...</td>\n",
              "    </tr>\n",
              "    <tr>\n",
              "      <th>93129</th>\n",
              "      <td>business</td>\n",
              "      <td>SBC in Deal With Microsoft to Provide TV on Hi...</td>\n",
              "      <td>SBC Communications will pay \\$400 million to M...</td>\n",
              "      <td>SBC in Deal With Microsoft to Provide TV on Hi...</td>\n",
              "      <td>1</td>\n",
              "      <td>[sbc, deal, microsoft, provide, tv, high, spee...</td>\n",
              "      <td>sbc deal microsoft provide tv high speed lines...</td>\n",
              "    </tr>\n",
              "    <tr>\n",
              "      <th>83519</th>\n",
              "      <td>sport</td>\n",
              "      <td>Terps Come Out 'Flat'</td>\n",
              "      <td>The Terps have lost games this season because ...</td>\n",
              "      <td>Terps Come Out 'Flat' The Terps have lost game...</td>\n",
              "      <td>0</td>\n",
              "      <td>[terp, come, flat, terps, lose, game, season, ...</td>\n",
              "      <td>terp come flat terps lose game season offensiv...</td>\n",
              "    </tr>\n",
              "    <tr>\n",
              "      <th>109737</th>\n",
              "      <td>world</td>\n",
              "      <td>Panel Examines Funds for Energy Security (AP)</td>\n",
              "      <td>AP - Future energy security will require devel...</td>\n",
              "      <td>Panel Examines Funds for Energy Security (AP) ...</td>\n",
              "      <td>0</td>\n",
              "      <td>[panel, examines, funds, energy, security, ap,...</td>\n",
              "      <td>panel examines funds energy security ap ap fut...</td>\n",
              "    </tr>\n",
              "    <tr>\n",
              "      <th>63190</th>\n",
              "      <td>business</td>\n",
              "      <td>Oil Prices Hit Peaks on Winter Worries (Reuters)</td>\n",
              "      <td>Reuters - Oil prices rallied to a record above...</td>\n",
              "      <td>Oil Prices Hit Peaks on Winter Worries (Reuter...</td>\n",
              "      <td>1</td>\n",
              "      <td>[oil, price, hit, peaks, winter, worries, reut...</td>\n",
              "      <td>oil price hit peaks winter worries reuters reu...</td>\n",
              "    </tr>\n",
              "  </tbody>\n",
              "</table>\n",
              "</div>\n",
              "      <button class=\"colab-df-convert\" onclick=\"convertToInteractive('df-fe916104-d92a-400a-b47f-8055e32662c1')\"\n",
              "              title=\"Convert this dataframe to an interactive table.\"\n",
              "              style=\"display:none;\">\n",
              "        \n",
              "  <svg xmlns=\"http://www.w3.org/2000/svg\" height=\"24px\"viewBox=\"0 0 24 24\"\n",
              "       width=\"24px\">\n",
              "    <path d=\"M0 0h24v24H0V0z\" fill=\"none\"/>\n",
              "    <path d=\"M18.56 5.44l.94 2.06.94-2.06 2.06-.94-2.06-.94-.94-2.06-.94 2.06-2.06.94zm-11 1L8.5 8.5l.94-2.06 2.06-.94-2.06-.94L8.5 2.5l-.94 2.06-2.06.94zm10 10l.94 2.06.94-2.06 2.06-.94-2.06-.94-.94-2.06-.94 2.06-2.06.94z\"/><path d=\"M17.41 7.96l-1.37-1.37c-.4-.4-.92-.59-1.43-.59-.52 0-1.04.2-1.43.59L10.3 9.45l-7.72 7.72c-.78.78-.78 2.05 0 2.83L4 21.41c.39.39.9.59 1.41.59.51 0 1.02-.2 1.41-.59l7.78-7.78 2.81-2.81c.8-.78.8-2.07 0-2.86zM5.41 20L4 18.59l7.72-7.72 1.47 1.35L5.41 20z\"/>\n",
              "  </svg>\n",
              "      </button>\n",
              "      \n",
              "  <style>\n",
              "    .colab-df-container {\n",
              "      display:flex;\n",
              "      flex-wrap:wrap;\n",
              "      gap: 12px;\n",
              "    }\n",
              "\n",
              "    .colab-df-convert {\n",
              "      background-color: #E8F0FE;\n",
              "      border: none;\n",
              "      border-radius: 50%;\n",
              "      cursor: pointer;\n",
              "      display: none;\n",
              "      fill: #1967D2;\n",
              "      height: 32px;\n",
              "      padding: 0 0 0 0;\n",
              "      width: 32px;\n",
              "    }\n",
              "\n",
              "    .colab-df-convert:hover {\n",
              "      background-color: #E2EBFA;\n",
              "      box-shadow: 0px 1px 2px rgba(60, 64, 67, 0.3), 0px 1px 3px 1px rgba(60, 64, 67, 0.15);\n",
              "      fill: #174EA6;\n",
              "    }\n",
              "\n",
              "    [theme=dark] .colab-df-convert {\n",
              "      background-color: #3B4455;\n",
              "      fill: #D2E3FC;\n",
              "    }\n",
              "\n",
              "    [theme=dark] .colab-df-convert:hover {\n",
              "      background-color: #434B5C;\n",
              "      box-shadow: 0px 1px 3px 1px rgba(0, 0, 0, 0.15);\n",
              "      filter: drop-shadow(0px 1px 2px rgba(0, 0, 0, 0.3));\n",
              "      fill: #FFFFFF;\n",
              "    }\n",
              "  </style>\n",
              "\n",
              "      <script>\n",
              "        const buttonEl =\n",
              "          document.querySelector('#df-fe916104-d92a-400a-b47f-8055e32662c1 button.colab-df-convert');\n",
              "        buttonEl.style.display =\n",
              "          google.colab.kernel.accessAllowed ? 'block' : 'none';\n",
              "\n",
              "        async function convertToInteractive(key) {\n",
              "          const element = document.querySelector('#df-fe916104-d92a-400a-b47f-8055e32662c1');\n",
              "          const dataTable =\n",
              "            await google.colab.kernel.invokeFunction('convertToInteractive',\n",
              "                                                     [key], {});\n",
              "          if (!dataTable) return;\n",
              "\n",
              "          const docLinkHtml = 'Like what you see? Visit the ' +\n",
              "            '<a target=\"_blank\" href=https://colab.research.google.com/notebooks/data_table.ipynb>data table notebook</a>'\n",
              "            + ' to learn more about interactive tables.';\n",
              "          element.innerHTML = '';\n",
              "          dataTable['output_type'] = 'display_data';\n",
              "          await google.colab.output.renderOutput(dataTable, element);\n",
              "          const docLink = document.createElement('div');\n",
              "          docLink.innerHTML = docLinkHtml;\n",
              "          element.appendChild(docLink);\n",
              "        }\n",
              "      </script>\n",
              "    </div>\n",
              "  </div>\n",
              "  "
            ],
            "text/plain": [
              "           label                                              title  \\\n",
              "41683      world             Ford Launches Its All-New 2005 Mustang   \n",
              "93129   business  SBC in Deal With Microsoft to Provide TV on Hi...   \n",
              "83519      sport                              Terps Come Out 'Flat'   \n",
              "109737     world      Panel Examines Funds for Energy Security (AP)   \n",
              "63190   business   Oil Prices Hit Peaks on Winter Worries (Reuters)   \n",
              "\n",
              "                                                     lead  \\\n",
              "41683   DETROIT - Ford Motor Co. launched its all-new ...   \n",
              "93129   SBC Communications will pay \\$400 million to M...   \n",
              "83519   The Terps have lost games this season because ...   \n",
              "109737  AP - Future energy security will require devel...   \n",
              "63190   Reuters - Oil prices rallied to a record above...   \n",
              "\n",
              "                                                     text  business  \\\n",
              "41683   Ford Launches Its All-New 2005 Mustang DETROIT...         0   \n",
              "93129   SBC in Deal With Microsoft to Provide TV on Hi...         1   \n",
              "83519   Terps Come Out 'Flat' The Terps have lost game...         0   \n",
              "109737  Panel Examines Funds for Energy Security (AP) ...         0   \n",
              "63190   Oil Prices Hit Peaks on Winter Worries (Reuter...         1   \n",
              "\n",
              "                                                   tokens  \\\n",
              "41683   [ford, launches, new, mustang, detroit, ford, ...   \n",
              "93129   [sbc, deal, microsoft, provide, tv, high, spee...   \n",
              "83519   [terp, come, flat, terps, lose, game, season, ...   \n",
              "109737  [panel, examines, funds, energy, security, ap,...   \n",
              "63190   [oil, price, hit, peaks, winter, worries, reut...   \n",
              "\n",
              "                                             preprocessed  \n",
              "41683   ford launches new mustang detroit ford motor c...  \n",
              "93129   sbc deal microsoft provide tv high speed lines...  \n",
              "83519   terp come flat terps lose game season offensiv...  \n",
              "109737  panel examines funds energy security ap ap fut...  \n",
              "63190   oil price hit peaks winter worries reuters reu...  "
            ]
          },
          "execution_count": 14,
          "metadata": {},
          "output_type": "execute_result"
        }
      ],
      "source": [
        "import spacy\n",
        "nlp = spacy.load('en_core_web_sm')\n",
        "from sklearn.feature_extraction.text import CountVectorizer\n",
        "\n",
        "# pre-process text as you did in HW02\n",
        "def tokenize(x):\n",
        "    return [w.lemma_.lower() for w in nlp(x) if not w.is_stop and not w.is_punct and not w.is_digit]\n",
        "df[\"tokens\"] = df[\"text\"].apply(lambda x: tokenize(x))\n",
        "df[\"preprocessed\"] = df['tokens'].apply(lambda x: ' '.join(x))\n",
        "df.head()"
      ]
    },
    {
      "cell_type": "code",
      "execution_count": 15,
      "id": "a1e5f848",
      "metadata": {
        "colab": {
          "base_uri": "https://localhost:8080/"
        },
        "id": "a1e5f848",
        "outputId": "c3af2c3a-a0b0-42e2-eed8-ec1840d0105d"
      },
      "outputs": [
        {
          "data": {
            "text/plain": [
              "array(['000', '39', 'accord', 'add', 'afp', 'afp afp', 'agency', 'ago',\n",
              "       'agree', 'agreement', 'ahead', 'aim', 'air', 'al', 'allow',\n",
              "       'america', 'american', 'amp', 'announce', 'ap', 'ap ap', 'apple',\n",
              "       'ask', 'aspx', 'aspx ticker', 'athens', 'attack', 'australia',\n",
              "       'australian', 'away', 'baghdad', 'bank', 'base', 'battle', 'beat',\n",
              "       'begin', 'bid', 'big', 'billion', 'bomb', 'boost', 'boston',\n",
              "       'break', 'bring', 'british', 'build', 'bush', 'business', 'buy',\n",
              "       'campaign', 'capital', 'car', 'case', 'center', 'champion',\n",
              "       'championship', 'change', 'charge', 'chicago', 'chief', 'china',\n",
              "       'chip', 'city', 'claim', 'close', 'coach', 'com', 'com fullquote',\n",
              "       'com fullquote aspx', 'come', 'commission', 'company', 'computer',\n",
              "       'concern', 'consumer', 'continue', 'contract', 'control', 'corp',\n",
              "       'cost', 'country', 'court', 'cup', 'customer', 'cut', 'datum',\n",
              "       'day', 'deal', 'decision', 'demand', 'despite', 'develop',\n",
              "       'dollar', 'drive', 'drop', 'drug', 'early', 'earning', 'economic',\n",
              "       'economy'], dtype=object)"
            ]
          },
          "execution_count": 15,
          "metadata": {},
          "output_type": "execute_result"
        }
      ],
      "source": [
        "##TODO vectorize the pre-processed text using CountVectorizer\n",
        "\n",
        "vectorizer = CountVectorizer(min_df=0.01, # at min 1% of docs\n",
        "                        max_features=1000,\n",
        "                        stop_words='english',\n",
        "                        max_df=.9,  \n",
        "                        ngram_range=(1,3))\n",
        "X = vectorizer.fit_transform(df['preprocessed'])\n",
        "vocab = vectorizer.get_feature_names_out()\n",
        "vocab[:100]"
      ]
    },
    {
      "cell_type": "markdown",
      "id": "9b6e66fc",
      "metadata": {
        "id": "9b6e66fc"
      },
      "source": [
        "Your goal here is to use features from the Vectorized text to predict whether the snippet is from a business article."
      ]
    },
    {
      "cell_type": "code",
      "execution_count": 16,
      "id": "0b718ae5",
      "metadata": {
        "id": "0b718ae5"
      },
      "outputs": [],
      "source": [
        "import torch\n",
        "import torch.nn as nn\n",
        "import torch.nn.functional as F\n",
        "from torch.utils.data import Dataset, DataLoader\n",
        "from sklearn.model_selection import train_test_split\n",
        "from torchsummary import summary\n",
        "\n",
        "import math\n",
        "import numpy as np\n",
        "from sklearn.model_selection import train_test_split\n",
        "from sklearn.metrics import accuracy_score"
      ]
    },
    {
      "cell_type": "code",
      "execution_count": 24,
      "id": "UwclSEaE07o_",
      "metadata": {
        "colab": {
          "base_uri": "https://localhost:8080/"
        },
        "id": "UwclSEaE07o_",
        "outputId": "e3bfa4ee-9d29-48a4-ce64-5887ce913d48"
      },
      "outputs": [
        {
          "name": "stdout",
          "output_type": "stream",
          "text": [
            "422\n",
            "(10000, 422)\n"
          ]
        }
      ],
      "source": [
        "print(len(vocab)) # -> this number is the input_size in summary below\n",
        "print(X.shape) "
      ]
    },
    {
      "cell_type": "code",
      "execution_count": 21,
      "id": "4ce99773",
      "metadata": {
        "colab": {
          "base_uri": "https://localhost:8080/"
        },
        "id": "4ce99773",
        "outputId": "4e35d6bb-83c7-490d-dbb6-72240ef6889b"
      },
      "outputs": [
        {
          "name": "stdout",
          "output_type": "stream",
          "text": [
            "----------------------------------------------------------------\n",
            "        Layer (type)               Output Shape         Param #\n",
            "================================================================\n",
            "            Linear-1                   [-1, 50]          21,150\n",
            "              ReLU-2                   [-1, 50]               0\n",
            "            Linear-3                   [-1, 50]           2,550\n",
            "              ReLU-4                   [-1, 50]               0\n",
            "            Linear-5                   [-1, 50]           2,550\n",
            "              ReLU-6                   [-1, 50]               0\n",
            "           Dropout-7                   [-1, 50]               0\n",
            "            Linear-8                    [-1, 1]              51\n",
            "           Sigmoid-9                    [-1, 1]               0\n",
            "================================================================\n",
            "Total params: 26,301\n",
            "Trainable params: 26,301\n",
            "Non-trainable params: 0\n",
            "----------------------------------------------------------------\n",
            "Input size (MB): 0.00\n",
            "Forward/backward pass size (MB): 0.00\n",
            "Params size (MB): 0.10\n",
            "Estimated Total Size (MB): 0.10\n",
            "----------------------------------------------------------------\n"
          ]
        }
      ],
      "source": [
        "## TODO build a MLP model with at least 2 hidden layers with ReLU activation, followed by dropout and an output layer with sigmoid activation\n",
        "\n",
        "device = 'cuda' # to use GPU in colab, refer to https://medium.com/dataman-in-ai/start-using-google-colab-free-gpu-7968acb7ef92#:~:text=Go%20to%20Edit%20%3E%20Notebook%20settings,That's%20it. \n",
        "\n",
        "# create a torch dataset to contain our data\n",
        "class ScCasesDataset(Dataset):\n",
        "\n",
        "  def __init__(self, X, y):\n",
        "    self.X = X\n",
        "    self.y = y\n",
        "\n",
        "  def __len__(self):\n",
        "    return len(self.y)\n",
        "\n",
        "  def __getitem__(self, index):\n",
        "    return self.X[index], self.y[index]\n",
        "\n",
        "\n",
        "tsize = math.ceil(0.1 * len(y))\n",
        "X_train, X_valid, y_train, y_valid = train_test_split(X.toarray(), np.array(y), test_size=tsize)\n",
        "X_train, X_test, y_train, y_test = train_test_split(X_train, y_train, test_size=tsize)\n",
        "\n",
        "train_dataset = ScCasesDataset(X_train, y_train)\n",
        "valid_dataset = ScCasesDataset(X_valid, y_valid)\n",
        "test_dataset = ScCasesDataset(X_test, y_test)\n",
        "\n",
        "# prepare dataloaders where we can load mini-batches from\n",
        "train_loader = DataLoader(dataset=train_dataset, batch_size=32, shuffle=True)\n",
        "valid_loader = DataLoader(dataset=valid_dataset, batch_size=32, shuffle=False)\n",
        "test_loader = DataLoader(dataset=test_dataset, batch_size=32, shuffle=False)\n",
        "\n",
        "# create an MLP model\n",
        "input_dim = X.shape[1]\n",
        "class MLP(nn.Module):\n",
        "    def __init__(self):\n",
        "        super(MLP, self).__init__()\n",
        "        # use nn.Sequential to sequentially stack modules\n",
        "        self.layers = nn.Sequential(\n",
        "            nn.Linear(input_dim, 50), # input layer\n",
        "            nn.ReLU(), # activation function\n",
        "            nn.Linear(50, 50), # hidden layer\n",
        "            nn.ReLU(),\n",
        "            nn.Linear(50, 50), # hidden layer\n",
        "            nn.ReLU(),\n",
        "            nn.Dropout(0.25), # Define proportion or neurons to dropout\n",
        "            nn.Linear(50, 1), # output layer\n",
        "            nn.Sigmoid() # Sigmoid activation\n",
        "        )\n",
        "        \n",
        "    # define the forward propagation which is necessary for torch models\n",
        "    def forward(self, x):\n",
        "        return self.layers(x)\n",
        "\n",
        "# initialize a model on GPU\n",
        "model = MLP().to(device)\n",
        "\n",
        "## TODO summarize the model using torchsummary\n",
        "summary(model, input_size=(input_dim,))"
      ]
    },
    {
      "cell_type": "code",
      "execution_count": 26,
      "id": "XCI_1QJm3UEH",
      "metadata": {
        "id": "XCI_1QJm3UEH"
      },
      "outputs": [],
      "source": [
        "class EarlyStopping:\n",
        "    def __init__(self, tolerance=5, min_delta=0):\n",
        "\n",
        "        self.tolerance = tolerance\n",
        "        self.min_delta = min_delta\n",
        "        self.counter = 0\n",
        "        self.early_stop = False\n",
        "\n",
        "    def __call__(self, train_loss, validation_loss):\n",
        "        if (validation_loss - train_loss) > self.min_delta:\n",
        "            self.counter +=1\n",
        "            if self.counter >= self.tolerance:  \n",
        "                self.early_stop = True"
      ]
    },
    {
      "cell_type": "code",
      "execution_count": 28,
      "id": "f6aIslaQyW8e",
      "metadata": {
        "colab": {
          "base_uri": "https://localhost:8080/"
        },
        "id": "f6aIslaQyW8e",
        "outputId": "b186d913-34c7-4160-f706-a459618ece0d"
      },
      "outputs": [
        {
          "name": "stdout",
          "output_type": "stream",
          "text": [
            "epoch : 1, train loss : 0.7045, valid loss : 0.6509, valid acc : 0.86%\n",
            "epoch : 2, train loss : 0.6491, valid loss : 0.6475, valid acc : 0.87%\n",
            "epoch : 3, train loss : 0.6425, valid loss : 0.6481, valid acc : 0.87%\n",
            "epoch : 4, train loss : 0.6392, valid loss : 0.6466, valid acc : 0.87%\n",
            "epoch : 5, train loss : 0.6367, valid loss : 0.6446, valid acc : 0.88%\n",
            "epoch : 6, train loss : 0.6356, valid loss : 0.6435, valid acc : 0.88%\n",
            "epoch : 7, train loss : 0.6337, valid loss : 0.6435, valid acc : 0.88%\n",
            "epoch : 8, train loss : 0.6318, valid loss : 0.6456, valid acc : 0.88%\n",
            "epoch : 9, train loss : 0.6306, valid loss : 0.6462, valid acc : 0.88%\n",
            "epoch : 10, train loss : 0.6300, valid loss : 0.6473, valid acc : 0.87%\n",
            "epoch : 11, train loss : 0.6299, valid loss : 0.6491, valid acc : 0.87%\n",
            "Early stopping at epoch 12\n",
            "test accuracy: 0.892\n"
          ]
        }
      ],
      "source": [
        "from tqdm import tqdm\n",
        "from sklearn.metrics import accuracy_score\n",
        "\n",
        "# fit the model\n",
        "model = MLP().to(device)\n",
        "optimizer = torch.optim.Adam(model.parameters(), lr=0.001)\n",
        "loss_fn = nn.BCEWithLogitsLoss() # a binary cross entropy loss combined with a sigmoid activation\n",
        "\n",
        "mean_train_losses = []\n",
        "mean_valid_losses = []\n",
        "valid_acc_list = []\n",
        "epochs = 100\n",
        "best_score = 0\n",
        "\n",
        "patience = 5\n",
        "n_epochs_no_improve = 0\n",
        "\n",
        "for epoch in range(epochs):\n",
        "    # switch the model to train mode\n",
        "    model.train()\n",
        "    \n",
        "    train_losses = []\n",
        "    valid_losses = []\n",
        "    for i, (Xs, labels) in enumerate(train_loader):\n",
        "        \n",
        "        optimizer.zero_grad()\n",
        "        \n",
        "        outputs = model(Xs.float().to(device))\n",
        "        loss = loss_fn(outputs, labels.float().unsqueeze(1).to(device)) # shape (32,) -> (32,1)\n",
        "        loss.backward()\n",
        "        optimizer.step()\n",
        "        \n",
        "        train_losses.append(loss.item())\n",
        "            \n",
        "    model.eval()\n",
        "    pred_labels = []\n",
        "    true_labels = []\n",
        "    with torch.no_grad():\n",
        "        for i, (Xs, labels) in enumerate(valid_loader):\n",
        "            outputs = model(Xs.float().to(device))\n",
        "            loss = loss_fn(outputs, labels.float().unsqueeze(1).to(device))\n",
        "            \n",
        "            valid_losses.append(loss.item())\n",
        "            \n",
        "            predicted = [1 if d > 0.5 else 0 for d in outputs.data.squeeze()]\n",
        "            pred_labels.extend(predicted)\n",
        "            true_labels.extend(list(labels))\n",
        "            \n",
        "        accuracy = accuracy_score(true_labels, pred_labels)\n",
        "        valid_acc_list.append(accuracy)\n",
        "        \n",
        "        if accuracy > best_score:\n",
        "            torch.save(model, 'best.pt')\n",
        "            best_score = accuracy\n",
        "            n_epochs_no_improve = 0\n",
        "        else:\n",
        "            n_epochs_no_improve += 1\n",
        "\n",
        "        if n_epochs_no_improve >= patience:\n",
        "            print('Early stopping at epoch %d' % (epoch+1))\n",
        "            break\n",
        "            \n",
        "    mean_train_losses.append(np.mean(train_losses))\n",
        "    mean_valid_losses.append(np.mean(valid_losses))\n",
        "    \n",
        "    print('epoch : {}, train loss : {:.4f}, valid loss : {:.4f}, valid acc : {:.2f}%'\\\n",
        "         .format(epoch+1, np.mean(train_losses), np.mean(valid_losses), accuracy))\n",
        "\n",
        "    if n_epochs_no_improve >= patience:\n",
        "        break\n",
        "\n",
        "model = torch.load('best.pt')\n",
        "model.eval()\n",
        "\n",
        "pred_labels = []\n",
        "true_labels = []\n",
        "for i, (Xs, labels) in enumerate(test_loader):\n",
        "    outputs = model(Xs.float().to(device))\n",
        "    \n",
        "    pred = [1 if d > 0.5 else 0 for d in outputs.data.squeeze()]\n",
        "    pred_labels.extend(pred)\n",
        "    true_labels.extend(list(labels))\n",
        "\n",
        "print('test accuracy:', accuracy_score(true_labels, pred_labels))"
      ]
    }
  ],
  "metadata": {
    "accelerator": "GPU",
    "colab": {
      "provenance": []
    },
    "gpuClass": "standard",
    "kernelspec": {
      "display_name": "Python 3 (ipykernel)",
      "language": "python",
      "name": "python3"
    },
    "language_info": {
      "codemirror_mode": {
        "name": "ipython",
        "version": 3
      },
      "file_extension": ".py",
      "mimetype": "text/x-python",
      "name": "python",
      "nbconvert_exporter": "python",
      "pygments_lexer": "ipython3",
      "version": "3.8.16"
    },
    "toc": {
      "base_numbering": 1,
      "nav_menu": {},
      "number_sections": true,
      "sideBar": true,
      "skip_h1_title": false,
      "title_cell": "Table of Contents",
      "title_sidebar": "Contents",
      "toc_cell": false,
      "toc_position": {},
      "toc_section_display": true,
      "toc_window_display": false
    }
  },
  "nbformat": 4,
  "nbformat_minor": 5
}
